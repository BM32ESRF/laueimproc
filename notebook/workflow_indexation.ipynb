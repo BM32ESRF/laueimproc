{
 "cells": [
  {
   "cell_type": "markdown",
   "id": "0ed8092b-0a67-441d-a563-6a4c903e8474",
   "metadata": {},
   "source": [
    "## Multi-grain indexation based on diagram simulation and matching-rate."
   ]
  },
  {
   "cell_type": "code",
   "execution_count": null,
   "id": "5b463071-62ee-42a3-8460-bab559135240",
   "metadata": {},
   "outputs": [],
   "source": [
    "import pprint\n",
    "import math\n",
    "import random\n",
    "import timeit\n",
    "\n",
    "from tqdm.autonotebook import tqdm\n",
    "import matplotlib.pyplot as plt\n",
    "import torch\n",
    "\n",
    "from laueimproc.geometry import *\n",
    "from laueimproc.geometry.indexation import *"
   ]
  },
  {
   "cell_type": "markdown",
   "id": "02710123-52b5-4454-8245-fe8583072096",
   "metadata": {},
   "source": [
    "### Reference constants and parameters\n",
    "* `LATTICE` is the vector of the 6 lattice parameter $[a, b, c, \\alpha, \\beta, \\gamma]$\n",
    "* `PONI` are the detector parameters $[dist, poni_1, poni_2, rot_1, rot_2, rot_3]$\n",
    "\n",
    "The convention adopted is the pyfai convention. Have a look on the documentation for more details."
   ]
  },
  {
   "cell_type": "code",
   "execution_count": null,
   "id": "00a273ea-bcf4-4326-b314-02dd590f6de3",
   "metadata": {},
   "outputs": [],
   "source": [
    "EV = 1.60e-19  # 1 eV = EV J\n",
    "RAD = math.pi / 180.0\n",
    "DEVICE = torch.device(\"cuda:0\" if torch.cuda.is_available() else \"cpu\")"
   ]
  },
  {
   "cell_type": "code",
   "execution_count": null,
   "id": "1ecc38b7-8ce4-4baf-8a8f-b290d7c23f49",
   "metadata": {},
   "outputs": [],
   "source": [
    "LATTICES = torch.tensor([\n",
    "    [5.1505e-10, 5.2166e-10, 5.3173e-10, torch.pi/2, 99.23*RAD, torch.pi/2],  # ZrO2\n",
    "    [4.785e-10, 4.785e-10, 4.785e-10, torch.pi/2, torch.pi/2, 2*torch.pi/3],  # Al2O3\n",
    "])\n",
    "LATTICE = LATTICES[0]\n",
    "PONI = torch.tensor([0.07, 73.4e-3, 73.4e-3, 0.0, -torch.pi/2, 0.0])  # mode laue detector on top\n",
    "DETECTOR = {\"shape\": (2018, 2016), \"pxl\": 73.4e-6}  # shape is along d1 then d2\n",
    "E_MIN = 5e3 * EV  # 5 keV\n",
    "E_MAX = 25e3 * EV  # 5 keV"
   ]
  },
  {
   "cell_type": "markdown",
   "id": "bdfe33d8-7442-4f70-af53-3c39d6ab52d7",
   "metadata": {},
   "source": [
    "### Simulate a diagram"
   ]
  },
  {
   "cell_type": "markdown",
   "id": "1f73e5b3-ac35-4501-9b2b-aa65cc1e6956",
   "metadata": {},
   "source": [
    "#### Random draw single grain, no strain"
   ]
  },
  {
   "cell_type": "code",
   "execution_count": null,
   "id": "9bc39c61-d3c0-4982-a89c-668b9a9f7172",
   "metadata": {},
   "outputs": [],
   "source": [
    "# parameters of simulation\n",
    "eps_a_ref = eps_b_ref = eps_c_ref = 0.0\n",
    "eps_alpha_ref = eps_beta_ref = eps_gamma_ref = 0.0\n",
    "lattice_ref = LATTICE.clone()\n",
    "rot1_ref = 2.0 * math.pi * random.random()\n",
    "rot2_ref = 2.0 * math.pi * random.random()\n",
    "rot3_ref = 2.0 * math.pi * random.random()"
   ]
  },
  {
   "cell_type": "markdown",
   "id": "d6e58896-ca92-4f29-83e4-b5e014e91a41",
   "metadata": {},
   "source": [
    "#### Random draw single grain, with strain"
   ]
  },
  {
   "cell_type": "code",
   "execution_count": null,
   "id": "7fa31c1e-cd74-42ad-ab2a-8bcfe413a3d5",
   "metadata": {
    "scrolled": true
   },
   "outputs": [],
   "source": [
    "# parameters of simulation\n",
    "eps_a_ref = random.random() * 2e-2 - 1e-2  # eps_a = (a - a0) / a0\n",
    "eps_b_ref = random.random() * 2e-2 - 1e-2\n",
    "eps_c_ref = random.random() * 2e-2 - 1e-2\n",
    "eps_alpha_ref = random.random() * 2e-3 - 1e-3  # eps_alpha = tan(alpha - alpha_0)\n",
    "eps_beta_ref = random.random() * 2e-3 - 1e-3\n",
    "eps_gamma_ref = random.random() * 2e-3 - 1e-3\n",
    "lattice_ref = LATTICE.clone()\n",
    "lattice_ref[0] *= 1.0 + eps_a_ref\n",
    "lattice_ref[1] *= 1.0 + eps_b_ref\n",
    "lattice_ref[2] *= 1.0 + eps_c_ref\n",
    "lattice_ref[3] += eps_alpha_ref\n",
    "lattice_ref[4] += eps_beta_ref\n",
    "lattice_ref[5] += eps_gamma_ref\n",
    "rot1_ref = 2.0 * math.pi * random.random()\n",
    "rot2_ref = 2.0 * math.pi * random.random()\n",
    "rot3_ref = 2.0 * math.pi * random.random()"
   ]
  },
  {
   "cell_type": "markdown",
   "id": "f0fb16f8-d139-4dc2-8f4f-1bda8ccbe23d",
   "metadata": {},
   "source": [
    "#### Random draw multi grain, no strain"
   ]
  },
  {
   "cell_type": "code",
   "execution_count": null,
   "id": "0910f39b-432e-4c22-921e-74a25df01784",
   "metadata": {},
   "outputs": [],
   "source": [
    "NB_GRAIN = 5\n",
    "\n",
    "# parameters of simulation\n",
    "eps_a_ref = eps_b_ref = eps_c_ref = 0.0\n",
    "eps_alpha_ref = eps_beta_ref = eps_gamma_ref = 0.0\n",
    "lattice_ref = LATTICE.clone()\n",
    "rot1_ref = 2.0 * torch.pi * torch.rand(NB_GRAIN)\n",
    "rot2_ref = 2.0 * torch.pi * torch.rand(NB_GRAIN)\n",
    "rot3_ref = 2.0 * torch.pi * torch.rand(NB_GRAIN)"
   ]
  },
  {
   "cell_type": "markdown",
   "id": "785bcddf-3df8-49d8-a296-fbf030f043d1",
   "metadata": {},
   "source": [
    "#### Random draw multi grain, with strain"
   ]
  },
  {
   "cell_type": "code",
   "execution_count": null,
   "id": "f0f1dada-9944-47e5-a846-6c84b6dc03c0",
   "metadata": {},
   "outputs": [],
   "source": [
    "NB_GRAIN = 5\n",
    "\n",
    "# parameters of simulation\n",
    "eps_a_ref = torch.rand(NB_GRAIN) * 2e-2 - 1e-2  # eps_a = (a - a0) / a0\n",
    "eps_b_ref = torch.rand(NB_GRAIN) * 2e-2 - 1e-2\n",
    "eps_c_ref = torch.rand(NB_GRAIN) * 2e-2 - 1e-2\n",
    "eps_alpha_ref = torch.rand(NB_GRAIN) * 2e-3 - 1e-3  # eps_alpha = tan(alpha - alpha_0)\n",
    "eps_beta_ref = torch.rand(NB_GRAIN) * 2e-3 - 1e-3\n",
    "eps_gamma_ref = torch.rand(NB_GRAIN) * 2e-3 - 1e-3\n",
    "lattice_ref = torch.cat([\n",
    "    (LATTICE[0] * 1.0 + eps_a_ref).unsqueeze(1),\n",
    "    (LATTICE[1] * 1.0 + eps_b_ref).unsqueeze(1),\n",
    "    (LATTICE[2] * 1.0 + eps_c_ref).unsqueeze(1),\n",
    "    (LATTICE[3] + eps_alpha_ref).unsqueeze(1),\n",
    "    (LATTICE[4] + eps_beta_ref).unsqueeze(1),\n",
    "    (LATTICE[5] + eps_gamma_ref).unsqueeze(1),\n",
    "], dim=1)\n",
    "rot1_ref = 2.0 * torch.pi * torch.rand(NB_GRAIN)\n",
    "rot2_ref = 2.0 * torch.pi * torch.rand(NB_GRAIN)\n",
    "rot3_ref = 2.0 * torch.pi * torch.rand(NB_GRAIN)"
   ]
  },
  {
   "cell_type": "markdown",
   "id": "d357b5b8-7228-4536-ba9b-007ea3a6ecbb",
   "metadata": {},
   "source": [
    "#### Simulation of the diagram"
   ]
  },
  {
   "cell_type": "code",
   "execution_count": null,
   "id": "2ef0f52e-f60f-4add-ba20-66287f73df9d",
   "metadata": {},
   "outputs": [],
   "source": [
    "# cast into torch tensor\n",
    "eps_a_ref = torch.asarray(eps_a_ref).reshape(-1)\n",
    "eps_b_ref = torch.asarray(eps_b_ref).reshape(-1)\n",
    "eps_c_ref = torch.asarray(eps_c_ref).reshape(-1)\n",
    "eps_alpha_ref = torch.asarray(eps_alpha_ref).reshape(-1)\n",
    "eps_beta_ref = torch.asarray(eps_beta_ref).reshape(-1)\n",
    "eps_gamma_ref = torch.asarray(eps_gamma_ref).reshape(-1)\n",
    "\n",
    "rot1_ref = torch.asarray(rot1_ref).reshape(-1)\n",
    "rot2_ref = torch.asarray(rot2_ref).reshape(-1)\n",
    "rot3_ref = torch.asarray(rot3_ref).reshape(-1)\n",
    "\n",
    "lattice_ref = lattice_ref.reshape(-1, 6)"
   ]
  },
  {
   "cell_type": "code",
   "execution_count": null,
   "id": "5226ae7d-216b-40a4-94d1-e99229d8f75d",
   "metadata": {},
   "outputs": [],
   "source": [
    "# simulation\n",
    "phi = torch.cat([rot1_ref.unsqueeze(-1), rot2_ref.unsqueeze(-1), rot3_ref.unsqueeze(-1)], dim=-1)\n",
    "bragg = Geometry(lattice=LATTICE, phi=phi, e_min=E_MIN, e_max=E_MAX, poni=PONI)\n",
    "with torch.no_grad():\n",
    "    points, *_ = bragg.compute_cam(cam_size=(DETECTOR[\"pxl\"]*DETECTOR[\"shape\"][0], DETECTOR[\"pxl\"]*DETECTOR[\"shape\"][1]))\n",
    "\n",
    "# add experimental noise and false detection\n",
    "points_exp = points + 5 * DETECTOR[\"pxl\"] * torch.randn_like(points)\n",
    "cond = torch.rand_like(points_exp) < 0.05  # proba to faild the detection\n",
    "points_exp[cond[..., 0], 0] = torch.rand_like(points_exp[cond[..., 0], 0]) * DETECTOR[\"shape\"][0] * DETECTOR[\"pxl\"]\n",
    "points_exp[cond[..., 1], 1] = torch.rand_like(points_exp[cond[..., 1], 1]) * DETECTOR[\"shape\"][1] * DETECTOR[\"pxl\"]\n",
    "\n",
    "# print informations\n",
    "print(f\"There are {len(points)} experimental spots.\")\n",
    "print(\"Lattice parameters:\")\n",
    "for i, lat in enumerate(lattice_ref):\n",
    "    print(\n",
    "        f\"   {i} - \"\n",
    "        f\"a={lat[0]:.3e}, b={lat[1]:.3e}, c={lat[2]:.3e}, alpha={lat[3]:.3f}, beta={lat[4]:.3f}, gamma={lat[5]:.3f} \"\n",
    "    )\n",
    "print(\"Rotations:\")\n",
    "for i, (r1, r2, r3) in enumerate(zip(rot1_ref, rot2_ref, rot3_ref)):\n",
    "    print(\n",
    "        f\"   {i} - \"\n",
    "        f\"rot1={r1:.2f}, rot2={r2:.2f}, rot3={r3:.2f}\"\n",
    "    )\n",
    "\n",
    "# display in pyfai convention\n",
    "plt.title(\"Simulated experimental diagram\")\n",
    "plt.xlabel(\"d2\")\n",
    "plt.ylabel(\"d1\")\n",
    "plt.scatter(*(points.flip(-1) / DETECTOR[\"pxl\"]).movedim(-1, 0), label=\"experimental\")\n",
    "plt.scatter(*(points_exp.flip(-1) / DETECTOR[\"pxl\"]).movedim(-1, 0), label=\"noisy\")\n",
    "plt.legend()\n",
    "plt.grid()\n",
    "plt.show()"
   ]
  },
  {
   "cell_type": "markdown",
   "id": "a57e98e7-7991-4435-af94-43bbe608ada5",
   "metadata": {},
   "source": [
    "### NN pseudo Indexation\n",
    "It it not a complete indexation, it is just a hkl class predictor"
   ]
  },
  {
   "cell_type": "markdown",
   "id": "43824bd3-d51f-4346-a085-4238265adcfc",
   "metadata": {},
   "source": [
    "#### Initialise the model"
   ]
  },
  {
   "cell_type": "code",
   "execution_count": null,
   "id": "2871e334-5107-4109-9114-1bd0f5d140f7",
   "metadata": {},
   "outputs": [],
   "source": [
    "# initialise the network\n",
    "indexator = NNIndexator(LATTICES, hkl_max=4)\n",
    "print(f\"bins: {indexator.bins}\")\n",
    "print(\"hkl classes:\")\n",
    "pprint.pprint(indexator.families)"
   ]
  },
  {
   "cell_type": "markdown",
   "id": "ff1ee1fb-b1b5-4412-b5a4-95b650728819",
   "metadata": {},
   "source": [
    "#### Training"
   ]
  },
  {
   "cell_type": "code",
   "execution_count": null,
   "id": "865b1430-90af-47b2-82ea-2c8ced8eda78",
   "metadata": {},
   "outputs": [],
   "source": [
    "# training\n",
    "loss = torch.nn.CrossEntropyLoss()\n",
    "optim = torch.optim.RAdam(indexator.weights, weight_decay=0.0005)\n",
    "\n",
    "indexator.train()\n",
    "\n",
    "epoch_log = tqdm(total=0, position=1, bar_format=\"{desc}\")\n",
    "for _ in tqdm(range(50), unit=\"epoch\", desc=\"train\"):\n",
    "    # generate data\n",
    "    hist, target = indexator.generate_training_batch(\n",
    "        poni=PONI,\n",
    "        cam_size=(DETECTOR[\"shape\"][0] * DETECTOR[\"pxl\"], DETECTOR[\"shape\"][1] * DETECTOR[\"pxl\"]),\n",
    "        e_min=E_MIN,\n",
    "        e_max=E_MAX,\n",
    "        batch=256,\n",
    "    )\n",
    "\n",
    "    # update weights\n",
    "    optim.zero_grad()\n",
    "    pred = indexator(hist)\n",
    "    output = loss(pred, target)\n",
    "    output.backward()\n",
    "    optim.step()\n",
    "\n",
    "    # display\n",
    "    epoch_log.set_description_str(f\"Loss: mse={output:.6e}\")\n",
    "\n",
    "print(\"hkl class repartition:\")\n",
    "print(indexator._attrs[\"hkl_hist\"])"
   ]
  },
  {
   "cell_type": "markdown",
   "id": "66e92c50-661c-4c8b-8d42-87213d076fa7",
   "metadata": {},
   "source": [
    "#### Prediction"
   ]
  },
  {
   "cell_type": "code",
   "execution_count": null,
   "id": "158c56c0-7a26-4fb8-b7d3-4b1797f51830",
   "metadata": {},
   "outputs": [],
   "source": [
    "indexator.eval()\n",
    "material, hkl, confidence = indexator.predict_hkl(points_exp, poni=PONI, indices=[0, 42])\n",
    "print(f\"material: {material}\")\n",
    "print(f\"hkl class: {hkl}\")\n",
    "print(f\"confidence: {confidence}\")"
   ]
  },
  {
   "cell_type": "markdown",
   "id": "57206132-0bef-4363-9467-560a90713e30",
   "metadata": {},
   "source": [
    "### Brute force indexation\n",
    "We work in the $u_q$ space, not in the detector space. First we have to transfere the points of the detector to the $u_q$ space."
   ]
  },
  {
   "cell_type": "markdown",
   "id": "2c453b93-55af-4e0b-ac63-5bd9348fe82f",
   "metadata": {},
   "source": [
    "#### Test all rotations"
   ]
  },
  {
   "cell_type": "code",
   "execution_count": null,
   "id": "61f1d5b1-9a00-435a-882c-6bf41c154d2b",
   "metadata": {},
   "outputs": [],
   "source": [
    "# hyperparameters\n",
    "PHI_RES = 2.0 * RAD\n",
    "PHI_MAX = 1.2 * RAD\n",
    "E_MAX_INDEXATION = 10e3 * EV  # computing time increases sharply with energy\n",
    "\n",
    "# brute force indexation\n",
    "indexator = StupidIndexator(LATTICE, E_MAX_INDEXATION)\n",
    "all_omega, all_rate = indexator(points_exp, poni=PONI, omega=PHI_RES, phi_max=PHI_MAX)"
   ]
  },
  {
   "cell_type": "markdown",
   "id": "318028e9-c255-40b4-87f7-7cb97306e8d9",
   "metadata": {},
   "source": [
    "#### Selection"
   ]
  },
  {
   "cell_type": "code",
   "execution_count": null,
   "id": "05d6d64e-7238-4bda-a465-de8cb56ff740",
   "metadata": {},
   "outputs": [],
   "source": [
    "MIN_RATE = None  # or set int directely\n",
    "\n",
    "min_rate = MIN_RATE or round(0.8 * float(all_rate[0]))\n",
    "rate_index = torch.argmin((all_rate >= min_rate).view(torch.uint8))\n",
    "\n",
    "print(f\"{all_rate[rate_index-1]} <= rate <= {all_rate[0]}\")\n",
    "\n",
    "plt.title(\"Matching\")\n",
    "plt.ylabel(\"rate\")\n",
    "plt.plot(all_rate)\n",
    "plt.hlines(all_rate[rate_index-1], 0, len(all_rate))\n",
    "plt.plot(torch.linspace(0, len(all_rate), rate_index), all_rate[:rate_index])\n",
    "plt.show()"
   ]
  },
  {
   "cell_type": "markdown",
   "id": "88ce5479-4efe-405d-948b-b18acda4d72b",
   "metadata": {},
   "source": [
    "#### Visualisation"
   ]
  },
  {
   "cell_type": "code",
   "execution_count": null,
   "id": "183efc11-8924-4b89-a98f-921ad4b5967e",
   "metadata": {},
   "outputs": [],
   "source": [
    "# generate data from indexed\n",
    "bragg = Geometry(lattice=LATTICE, phi=all_omega[0], e_max=E_MAX, poni=PONI)\n",
    "bragg.requires_grad_(False)\n",
    "points_indexed, *_ = bragg.compute_cam(cam_size=(DETECTOR[\"pxl\"]*DETECTOR[\"shape\"][0], DETECTOR[\"pxl\"]*DETECTOR[\"shape\"][1]))\n",
    "\n",
    "# display in pyfai convention\n",
    "plt.title(\"Indexation\")\n",
    "plt.xlabel(\"d2\")\n",
    "plt.ylabel(\"d1\")\n",
    "plt.scatter(*(points_exp.flip(-1) / DETECTOR[\"pxl\"]).movedim(-1, 0), label=\"experimental\")\n",
    "plt.scatter(*(points_indexed.flip(-1) / DETECTOR[\"pxl\"]).movedim(-1, 0), label=\"indexed\")\n",
    "plt.legend()\n",
    "plt.grid()\n",
    "plt.show()"
   ]
  },
  {
   "cell_type": "markdown",
   "id": "f42ccd52-bd37-471d-a680-3275f3e245a9",
   "metadata": {},
   "source": [
    "### Refinement\n",
    "It refines the oriantation $\\omega$, and it can refine $a$, $b$, $c$ and $\\alpha$, $\\beta$, $\\gamma$ as well."
   ]
  },
  {
   "cell_type": "code",
   "execution_count": null,
   "id": "3f7365c3-5a12-4d49-9892-866ff83baaba",
   "metadata": {},
   "outputs": [],
   "source": [
    "# initialization\n",
    "INDEX = 0\n",
    "PHI_MAX = 0.5 * RAD\n",
    "\n",
    "refiner = Refiner(LATTICE, all_omega[INDEX], points_exp, poni=PONI, e_min=E_MIN, e_max=E_MAX)\n",
    "print(f\"initial omega: {refiner.angle}\")\n",
    "print(f\"initial lattice: {refiner.lattice}\")\n",
    "print(f\"initial matching rate {refiner(PHI_MAX)}\")"
   ]
  },
  {
   "cell_type": "code",
   "execution_count": null,
   "id": "4bb20fd2-ae79-44a3-b080-c38d9be97c41",
   "metadata": {},
   "outputs": [],
   "source": [
    "# refine, you can execute this cell several times\n",
    "rate = refiner.refine(PHI_MAX, refine_abc=True, refine_shear=True)\n",
    "print(f\"new omega: {refiner.angle}\")\n",
    "print(f\"new lattice: {refiner.lattice}\")\n",
    "print(f\"new matching rate {rate}\")"
   ]
  },
  {
   "cell_type": "code",
   "execution_count": null,
   "id": "7c893769-6968-4519-a8d8-711ce0278feb",
   "metadata": {},
   "outputs": [],
   "source": [
    "bragg = Geometry(lattice=refiner.lattice.to(torch.float32), phi=refiner.angle.to(torch.float32), e_max=E_MAX, poni=PONI)\n",
    "with torch.no_grad():\n",
    "    points_raffined, *_ = bragg.compute_cam(cam_size=(DETECTOR[\"pxl\"]*DETECTOR[\"shape\"][0], DETECTOR[\"pxl\"]*DETECTOR[\"shape\"][1]))\n",
    "\n",
    "# display in pyfai convention\n",
    "plt.title(\"Indexation\")\n",
    "plt.xlabel(\"d2\")\n",
    "plt.ylabel(\"d1\")\n",
    "plt.scatter(*(points_exp.flip(-1) / DETECTOR[\"pxl\"]).movedim(-1, 0), label=\"experimental\")\n",
    "plt.scatter(*(points_indexed.flip(-1) / DETECTOR[\"pxl\"]).movedim(-1, 0), label=\"indexed\")\n",
    "plt.scatter(*(points_raffined.flip(-1) / DETECTOR[\"pxl\"]).movedim(-1, 0), label=\"raffined\")\n",
    "plt.legend()\n",
    "plt.grid()\n",
    "plt.show()"
   ]
  }
 ],
 "metadata": {
  "kernelspec": {
   "display_name": "Python 3 (ipykernel)",
   "language": "python",
   "name": "python3"
  },
  "language_info": {
   "codemirror_mode": {
    "name": "ipython",
    "version": 3
   },
   "file_extension": ".py",
   "mimetype": "text/x-python",
   "name": "python",
   "nbconvert_exporter": "python",
   "pygments_lexer": "ipython3",
   "version": "3.11.9"
  }
 },
 "nbformat": 4,
 "nbformat_minor": 5
}
