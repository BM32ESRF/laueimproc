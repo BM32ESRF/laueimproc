{
 "cells": [
  {
   "cell_type": "markdown",
   "id": "0fcac632",
   "metadata": {},
   "source": [
    "## This notebook shows all the means to index the diagrams in DiagramsDataset"
   ]
  },
  {
   "cell_type": "code",
   "execution_count": null,
   "id": "fc9e08cf",
   "metadata": {},
   "outputs": [],
   "source": [
    "import pathlib\n",
    "import shutil\n",
    "import tempfile\n",
    "import time\n",
    "\n",
    "from laueimproc import Diagram, DiagramsDataset\n",
    "from laueimproc.io import get_samples  # gives access to the dataset"
   ]
  },
  {
   "cell_type": "markdown",
   "id": "f8222064",
   "metadata": {},
   "source": [
    "### Link the diagram instance to the index.\n",
    "* If the index is contained in the diagram file name, so skip this step, the diagrams will be indexed automatically."
   ]
  },
  {
   "cell_type": "code",
   "execution_count": null,
   "id": "21d16639",
   "metadata": {},
   "outputs": [],
   "source": [
    "# it is possible to overwrite laueimproc.classes.dataset.default_diag2ind\n",
    "\n",
    "def stupid_diag2ind(diagram: Diagram) -> int:\n",
    "    \"\"\"Take a diagram and return the index.\"\"\"\n",
    "    return int(diagram.file.name[-6:-4])"
   ]
  },
  {
   "cell_type": "markdown",
   "id": "1bfdf12b",
   "metadata": {},
   "source": [
    "### Set the geometry of the grid.\n",
    "* This step is optional, but allows you to acces the element from the real sample position"
   ]
  },
  {
   "cell_type": "code",
   "execution_count": null,
   "id": "bc230c86",
   "metadata": {},
   "outputs": [],
   "source": [
    "# 1 : define the rule that maps a diagram index its position in 2 dimensions\n",
    "\n",
    "def position_func(index: int) -> tuple[float, float]:  # can return tuple[int, int]\n",
    "    \"\"\"Return the position x, y of the diagram in micron.\"\"\"\n",
    "    y_ind, x_ind = divmod(index, 20)  # assume grid shape is 20 x 5 samples\n",
    "    x_micron = 20.0 * x_ind  # assume x step is 20 microns (fast index)\n",
    "    y_micron = 30.0 * y_ind  # assume y step is 30 microns (slow index)\n",
    "    return x_micron, y_micron  # must to return 2 numbers\n",
    "\n",
    "# 2 : simply provide the argument position=position_func so that the DiagramsDataset integrates the positions"
   ]
  },
  {
   "cell_type": "markdown",
   "id": "28643227",
   "metadata": {},
   "source": [
    "### Init a diagram, see the `api_init_dataset` notebook for more informations."
   ]
  },
  {
   "cell_type": "code",
   "execution_count": null,
   "id": "839b9350",
   "metadata": {},
   "outputs": [],
   "source": [
    "dataset = DiagramsDataset(get_samples().glob(\"*.jp2\"), position=position_func)\n",
    "print(dataset)"
   ]
  },
  {
   "cell_type": "markdown",
   "id": "9ab54ff3",
   "metadata": {},
   "source": [
    "### Access to one diagram."
   ]
  },
  {
   "cell_type": "code",
   "execution_count": null,
   "id": "7d040aa0",
   "metadata": {},
   "outputs": [],
   "source": [
    "# from the diagram index\n",
    "print(f\"from index  0: {repr(dataset[0])}\")\n",
    "print(f\"from index  1: {repr(dataset[1])}\")\n",
    "print(f\"from index -1: {repr(dataset[-1])}\")\n",
    "print(f\"from index -2: {repr(dataset[-2])}\")\n",
    "try:\n",
    "    dataset[100]\n",
    "except IndexError as err:\n",
    "    print(err)\n",
    "\n",
    "# # from the grid position (argument grid has to be provided)\n",
    "# print(f\"from coord (  0,   0): {repr(dataset[0, 0])}\")\n",
    "# print(f\"from coord (200,  60): {repr(dataset[200, 60])}\")\n",
    "# print(f\"from coord (380, 120): {repr(dataset[380, 120])}\")"
   ]
  },
  {
   "cell_type": "markdown",
   "id": "db394d2d",
   "metadata": {},
   "source": [
    "### Access a subset of diagrams."
   ]
  },
  {
   "cell_type": "code",
   "execution_count": null,
   "id": "2f6794c6",
   "metadata": {},
   "outputs": [],
   "source": [
    "# from, the diagrams indices\n",
    "print(set(dataset[1:50:10]))  # slice\n",
    "print(set(dataset[[0, 10, 11, 12]]))  # indices\n",
    "print(set(dataset[[(i % 20) == 0 for i in range(len(dataset))]]))  # condition\n",
    "\n",
    "# diagrams are shared\n",
    "print()\n",
    "print(dataset[0])\n",
    "sub_dataset = dataset[:1]\n",
    "print(sub_dataset[0])  # exactly the same as previous\n",
    "sub_dataset[0].find_spots()\n",
    "print(dataset[0])"
   ]
  }
 ],
 "metadata": {
  "kernelspec": {
   "display_name": "Python 3 (ipykernel)",
   "language": "python",
   "name": "python3"
  },
  "language_info": {
   "codemirror_mode": {
    "name": "ipython",
    "version": 3
   },
   "file_extension": ".py",
   "mimetype": "text/x-python",
   "name": "python",
   "nbconvert_exporter": "python",
   "pygments_lexer": "ipython3",
   "version": "3.12.3"
  }
 },
 "nbformat": 4,
 "nbformat_minor": 5
}
