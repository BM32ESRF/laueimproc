{
 "cells": [
  {
   "cell_type": "markdown",
   "id": "aee10de2-4ec1-4ac0-93aa-635c544a955d",
   "metadata": {},
   "source": [
    "## Tips, Tricks, Traps and good manners\n",
    "Basic examples of tips, and things to do and avoid"
   ]
  },
  {
   "cell_type": "code",
   "execution_count": 2,
   "id": "c1919ae9-e84b-4023-b5b9-6f63e05e57da",
   "metadata": {},
   "outputs": [
    {
     "name": "stderr",
     "output_type": "stream",
     "text": [
      "/tmp/bourinix/documents/boulot/2024_esrf/code/laueimproc/laueimproc/classes/base_dataset.py:18: TqdmExperimentalWarning: Using `tqdm.autonotebook.tqdm` in notebook mode. Use `tqdm.tqdm` instead to force console mode (e.g. in jupyter console)\n",
      "  from tqdm.autonotebook import tqdm\n"
     ]
    }
   ],
   "source": [
    "import laueimproc"
   ]
  },
  {
   "cell_type": "markdown",
   "id": "3c0d9ab0-e75e-4f28-a827-ef44a6f4df9f",
   "metadata": {},
   "source": [
    "### Traps\n",
    "This section shows several traps and how to avoid falling into them."
   ]
  },
  {
   "cell_type": "markdown",
   "id": "e0038bb0-2f59-448e-ac9b-4ace37263e8f",
   "metadata": {},
   "source": [
    "#### Bounding boxes to surface overflow"
   ]
  },
  {
   "cell_type": "code",
   "execution_count": 4,
   "id": "a8b0ca13-4e6c-4ad5-9103-f1d24f4cb114",
   "metadata": {},
   "outputs": [],
   "source": [
    "# init a dataset\n",
    "diagram = laueimproc.Diagram(laueimproc.io.get_sample())\n",
    "diagram.set_spots([\n",
    "    [0, 0, 10, 10],  # little bbox\n",
    "    [0, 0, 255, 255],  # big bbox\n",
    "    [0, 0, 256, 256],  # very big bbox\n",
    "])"
   ]
  },
  {
   "cell_type": "code",
   "execution_count": 5,
   "id": "02a1f3e0-69d7-42b1-a139-302afb99945b",
   "metadata": {},
   "outputs": [
    {
     "name": "stdout",
     "output_type": "stream",
     "text": [
      "tensor([ 100, -511,    0], dtype=torch.int16)\n"
     ]
    }
   ],
   "source": [
    "# mistake to avoid\n",
    "areas = diagram.bboxes[:, 2] * diagram.bboxes[:, 3]  # surface = height * width\n",
    "print(areas)"
   ]
  },
  {
   "cell_type": "code",
   "execution_count": 6,
   "id": "1be3bd7e-d39d-4646-98bb-4ec8287cf209",
   "metadata": {},
   "outputs": [
    {
     "name": "stdout",
     "output_type": "stream",
     "text": [
      "tensor([  100, 65025, 65536], dtype=torch.int32)\n"
     ]
    }
   ],
   "source": [
    "# solution\n",
    "areas = diagram.areas\n",
    "print(areas)"
   ]
  },
  {
   "cell_type": "code",
   "execution_count": null,
   "id": "b8861e0e-5f6a-42e5-9e90-0c969d116d07",
   "metadata": {},
   "outputs": [],
   "source": []
  }
 ],
 "metadata": {
  "kernelspec": {
   "display_name": "Python 3 (ipykernel)",
   "language": "python",
   "name": "python3"
  },
  "language_info": {
   "codemirror_mode": {
    "name": "ipython",
    "version": 3
   },
   "file_extension": ".py",
   "mimetype": "text/x-python",
   "name": "python",
   "nbconvert_exporter": "python",
   "pygments_lexer": "ipython3",
   "version": "3.12.3"
  }
 },
 "nbformat": 4,
 "nbformat_minor": 5
}
