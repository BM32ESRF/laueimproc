{
 "cells": [
  {
   "cell_type": "markdown",
   "id": "0ed8092b-0a67-441d-a563-6a4c903e8474",
   "metadata": {},
   "source": [
    "## Multi-grain indexation based on diagram simulation and matching-rate."
   ]
  },
  {
   "cell_type": "code",
   "execution_count": null,
   "id": "5b463071-62ee-42a3-8460-bab559135240",
   "metadata": {},
   "outputs": [],
   "source": [
    "import math\n",
    "import random\n",
    "import timeit\n",
    "\n",
    "from tqdm.autonotebook import tqdm\n",
    "import matplotlib.pyplot as plt\n",
    "import torch\n",
    "\n",
    "from laueimproc.geometry import *"
   ]
  },
  {
   "cell_type": "markdown",
   "id": "02710123-52b5-4454-8245-fe8583072096",
   "metadata": {},
   "source": [
    "### Reference constants and parameters\n",
    "* `LATTICE` is the 3x2 matrix of the lattice parameter $[[a, b, c], [\\alpha, \\beta, \\gamma]]$\n",
    "* `PONI` are the detector parameters $[dist, poni_1, poni_2, rot_1, rot_2, rot_3]$\n",
    "\n",
    "The convention adopted is the pyfai convention. Have a look on the documentation for more details."
   ]
  },
  {
   "cell_type": "code",
   "execution_count": null,
   "id": "1ecc38b7-8ce4-4baf-8a8f-b290d7c23f49",
   "metadata": {},
   "outputs": [],
   "source": [
    "LATTICE = torch.tensor([3.6e-10, 3.6e-10, 3.6e-10, torch.pi/2, torch.pi/2, torch.pi/2])  # copper\n",
    "PONI = torch.tensor([0.07, 73.4e-3, 73.4e-3, 0.0, -torch.pi/2, 0.0])  # mode laue detector on top\n",
    "DETECTOR = {\"shape\": (2018, 2016), \"pxl\": 73.4e-6}  # shape is along d1 then d2"
   ]
  },
  {
   "cell_type": "code",
   "execution_count": null,
   "id": "00a273ea-bcf4-4326-b314-02dd590f6de3",
   "metadata": {},
   "outputs": [],
   "source": [
    "EV = 1.60e-19  # 1 eV = EV J\n",
    "RAD = math.pi / 180.0\n",
    "DEVICE = torch.device(\"cuda:0\" if torch.cuda.is_available() else \"cpu\")"
   ]
  },
  {
   "cell_type": "markdown",
   "id": "24ff7ec5-a38e-4ec5-9275-c45cdac2b78f",
   "metadata": {},
   "source": [
    "### Associate the functions\n",
    "* `laueimproc` provides atomic function to juggle with Bragg diffraction. It is your own stuff to compose them.\n",
    "* Have a look on the `diffraction` tab of the api documentation."
   ]
  },
  {
   "cell_type": "code",
   "execution_count": null,
   "id": "84bab09c-3027-4847-9906-1f5b3b2cef47",
   "metadata": {},
   "outputs": [],
   "source": [
    "def lattice_to_reciprocal(lattice):\n",
    "    primitive = lattice_to_primitive(lattice)\n",
    "    reciprocal = primitive_to_reciprocal(primitive)\n",
    "    return reciprocal\n",
    "\n",
    "def hkl_reciprocal_rot_to_uq(hkl, reciprocal, rot):\n",
    "    reciprocal_rotated = rotate_crystal(reciprocal, rot)\n",
    "    u_q = hkl_reciprocal_to_uq(hkl, reciprocal_rotated)\n",
    "    return u_q\n",
    "    \n",
    "def uq_poni_to_detector(u_q, poni):\n",
    "    u_f = uq_to_uf(u_q)\n",
    "    point, dist = ray_to_detector(u_f, poni)\n",
    "    point = point[dist > 0, :]  # ray wrong direction => virtual intersection\n",
    "    point = point[point[..., 0] > 0, :]  # out of detector top\n",
    "    point = point[point[..., 0] < DETECTOR[\"shape\"][0] * DETECTOR[\"pxl\"], :]  # out of detector bottom\n",
    "    point = point[point[..., 1] > 0, :]  # out of detector left\n",
    "    point = point[point[..., 1] < DETECTOR[\"shape\"][1] * DETECTOR[\"pxl\"], :]  # out of detector right\n",
    "    return point\n",
    "\n",
    "def detector_poni_to_uq(point, poni):\n",
    "    u_f = detector_to_ray(point, poni)\n",
    "    u_q = uf_to_uq(u_f)\n",
    "    return u_q"
   ]
  },
  {
   "cell_type": "code",
   "execution_count": null,
   "id": "4dc44dd9-1404-422c-b2c4-2649b8a9130f",
   "metadata": {},
   "outputs": [],
   "source": [
    "def full_simulation(hkl, lattice, rot, poni):\n",
    "    reciprocal = lattice_to_reciprocal(lattice)\n",
    "    u_q = hkl_reciprocal_rot_to_uq(hkl, reciprocal, rot)\n",
    "    point = uq_poni_to_detector(u_q, poni)\n",
    "    return point"
   ]
  },
  {
   "cell_type": "markdown",
   "id": "03a3de89-0dd0-4857-a64e-87a5f3acd2df",
   "metadata": {},
   "source": [
    "#### Timing comparison"
   ]
  },
  {
   "cell_type": "code",
   "execution_count": null,
   "id": "05fc576f-45a2-4497-8ada-8dc0985f4bae",
   "metadata": {},
   "outputs": [],
   "source": [
    "# simple timing\n",
    "\n",
    "BATCH = 100  # number of simulated diagrams\n",
    "ROT = torch.eye(3)\n",
    "\n",
    "hkl = select_hkl(LATTICE, e_max=25e3*EV, keep_harmonics=False)\n",
    "\n",
    "# case float64\n",
    "lattice, rot, poni = LATTICE.clone().to(torch.float64), ROT.clone().to(torch.float64), PONI.clone().to(torch.float64)\n",
    "speed = min(timeit.repeat(lambda: full_simulation(hkl, lattice, rot, poni), repeat=10, number=BATCH)) / BATCH\n",
    "print(f\"float64: it takes {speed*1e6:.2f}us by simulation <=> {1.0/speed:.2f}Hz\")\n",
    "\n",
    "# case float32\n",
    "lattice, rot, poni = LATTICE.clone().to(torch.float32), ROT.clone().to(torch.float32), PONI.clone().to(torch.float32)\n",
    "speed = min(timeit.repeat(lambda: full_simulation(hkl, lattice, rot, poni), repeat=10, number=BATCH)) / BATCH\n",
    "print(f\"float32: it takes {speed*1e6:.2f}us by simulation <=> {1.0/speed:.2f}Hz\")\n",
    "\n",
    "# case float64 batched\n",
    "lattice, rot, poni = LATTICE.clone().to(torch.float64), ROT.clone().to(torch.float64), PONI.clone().to(torch.float64)\n",
    "lattice = lattice[None, :].expand(BATCH, -1)\n",
    "speed = min(timeit.repeat(lambda: full_simulation(hkl, lattice, rot, poni), repeat=10, number=1)) / BATCH\n",
    "print(f\"float64 batched: it takes {speed*1e6:.2f}us by simulation <=> {1.0/speed:.2f}Hz\")\n",
    "\n",
    "# case float32 batched\n",
    "lattice, rot, poni = LATTICE.clone().to(torch.float32), ROT.clone().to(torch.float32), PONI.clone().to(torch.float32)\n",
    "lattice = lattice[None, :].expand(BATCH, -1)\n",
    "speed = min(timeit.repeat(lambda: full_simulation(hkl, lattice, rot, poni), repeat=10, number=1)) / BATCH\n",
    "print(f\"float32 batched: it takes {speed*1e6:.2f}us by simulation <=> {1.0/speed:.2f}Hz\")\n",
    "\n",
    "# case float64 batched compiled\n",
    "lattice, rot, poni = LATTICE.clone().to(torch.float64), ROT.clone().to(torch.float64), PONI.clone().to(torch.float64)\n",
    "lattice = lattice[None, :].expand(BATCH, -1)\n",
    "full_simulation_comp = torch.compile(full_simulation, dynamic=False)\n",
    "speed = min(timeit.repeat(lambda: full_simulation_comp(hkl, lattice, rot, poni), repeat=10, number=1)) / BATCH\n",
    "print(f\"float64 batched compiled: it takes {speed*1e6:.2f}us by simulation <=> {1.0/speed:.2f}Hz\")\n",
    "\n",
    "# case float32 batched compiled\n",
    "lattice, rot, poni = LATTICE.clone().to(torch.float32), ROT.clone().to(torch.float32), PONI.clone().to(torch.float32)\n",
    "lattice = lattice[None, :].expand(BATCH, -1)\n",
    "full_simulation_comp = torch.compile(full_simulation, dynamic=False)\n",
    "speed = min(timeit.repeat(lambda: full_simulation_comp(hkl, lattice, rot, poni), repeat=10, number=1)) / BATCH\n",
    "print(f\"float32 batched compiled: it takes {speed*1e6:.2f}us by simulation <=> {1.0/speed:.2f}Hz\")\n",
    "\n",
    "if DEVICE.type == \"cuda\":\n",
    "    # case float64 batched compiled gpu\n",
    "    lattice, rot, poni = (\n",
    "        LATTICE.clone().to(dtype=torch.float64, device=DEVICE),\n",
    "        ROT.clone().to(dtype=torch.float64, device=DEVICE),\n",
    "        PONI.clone().to(dtype=torch.float64, device=DEVICE),\n",
    "    )\n",
    "    lattice = lattice[None, :].expand(BATCH, -1)\n",
    "    full_simulation_comp = torch.compile(full_simulation, dynamic=False)\n",
    "    speed = min(timeit.repeat(lambda: full_simulation_comp(hkl, lattice, rot, poni), repeat=10, number=1)) / BATCH\n",
    "    print(f\"float64 batched compiled gpu: it takes {speed*1e6:.2f}us by simulation <=> {1.0/speed:.2f}Hz\")\n",
    "    \n",
    "    # case float32 batched compiled gpu\n",
    "    lattice, rot, poni = (\n",
    "        LATTICE.clone().to(dtype=torch.float32, device=DEVICE),\n",
    "        ROT.clone().to(dtype=torch.float32, device=DEVICE),\n",
    "        PONI.clone().to(dtype=torch.float32, device=DEVICE),\n",
    "    )\n",
    "    lattice = lattice[None, :].expand(BATCH, -1)\n",
    "    full_simulation_comp = torch.compile(full_simulation, dynamic=False)\n",
    "    speed = min(timeit.repeat(lambda: full_simulation_comp(hkl, lattice, rot, poni), repeat=10, number=1)) / BATCH\n",
    "    print(f\"float32 batched compiled gpu: it takes {speed*1e6:.2f}us by simulation <=> {1.0/speed:.2f}Hz\")"
   ]
  },
  {
   "cell_type": "markdown",
   "id": "bdfe33d8-7442-4f70-af53-3c39d6ab52d7",
   "metadata": {},
   "source": [
    "### Simulate a diagram"
   ]
  },
  {
   "cell_type": "markdown",
   "id": "1f73e5b3-ac35-4501-9b2b-aa65cc1e6956",
   "metadata": {},
   "source": [
    "#### Random draw single grain, no strain"
   ]
  },
  {
   "cell_type": "code",
   "execution_count": null,
   "id": "9bc39c61-d3c0-4982-a89c-668b9a9f7172",
   "metadata": {},
   "outputs": [],
   "source": [
    "# parameters of simulation\n",
    "eps_a_ref = eps_b_ref = eps_c_ref = 0.0\n",
    "eps_alpha_ref = eps_beta_ref = eps_gamma_ref = 0.0\n",
    "lattice_ref = LATTICE.clone()\n",
    "rot1_ref = 2.0 * math.pi * random.random()\n",
    "rot2_ref = 2.0 * math.pi * random.random()\n",
    "rot3_ref = 2.0 * math.pi * random.random()"
   ]
  },
  {
   "cell_type": "markdown",
   "id": "d6e58896-ca92-4f29-83e4-b5e014e91a41",
   "metadata": {},
   "source": [
    "#### Random draw single grain, with strain"
   ]
  },
  {
   "cell_type": "code",
   "execution_count": null,
   "id": "7fa31c1e-cd74-42ad-ab2a-8bcfe413a3d5",
   "metadata": {
    "scrolled": true
   },
   "outputs": [],
   "source": [
    "# parameters of simulation\n",
    "eps_a_ref = random.random() * 2e-2 - 1e-2  # eps_a = (a - a0) / a0\n",
    "eps_b_ref = random.random() * 2e-2 - 1e-2\n",
    "eps_c_ref = random.random() * 2e-2 - 1e-2\n",
    "eps_alpha_ref = random.random() * 2e-3 - 1e-3  # eps_alpha = tan(alpha - alpha_0)\n",
    "eps_beta_ref = random.random() * 2e-3 - 1e-3\n",
    "eps_gamma_ref = random.random() * 2e-3 - 1e-3\n",
    "lattice_ref = LATTICE.clone()\n",
    "lattice_ref[0] *= 1.0 + eps_a_ref\n",
    "lattice_ref[1] *= 1.0 + eps_b_ref\n",
    "lattice_ref[2] *= 1.0 + eps_c_ref\n",
    "lattice_ref[3] += eps_alpha_ref\n",
    "lattice_ref[4] += eps_beta_ref\n",
    "lattice_ref[5] += eps_gamma_ref\n",
    "rot1_ref = 2.0 * math.pi * random.random()\n",
    "rot2_ref = 2.0 * math.pi * random.random()\n",
    "rot3_ref = 2.0 * math.pi * random.random()"
   ]
  },
  {
   "cell_type": "markdown",
   "id": "f0fb16f8-d139-4dc2-8f4f-1bda8ccbe23d",
   "metadata": {},
   "source": [
    "#### Random draw multi grain, no strain"
   ]
  },
  {
   "cell_type": "code",
   "execution_count": null,
   "id": "0910f39b-432e-4c22-921e-74a25df01784",
   "metadata": {},
   "outputs": [],
   "source": [
    "NB_GRAIN = 5\n",
    "\n",
    "# parameters of simulation\n",
    "eps_a_ref = eps_b_ref = eps_c_ref = 0.0\n",
    "eps_alpha_ref = eps_beta_ref = eps_gamma_ref = 0.0\n",
    "lattice_ref = LATTICE.clone()\n",
    "rot1_ref = 2.0 * torch.pi * torch.rand(NB_GRAIN)\n",
    "rot2_ref = 2.0 * torch.pi * torch.rand(NB_GRAIN)\n",
    "rot3_ref = 2.0 * torch.pi * torch.rand(NB_GRAIN)"
   ]
  },
  {
   "cell_type": "markdown",
   "id": "785bcddf-3df8-49d8-a296-fbf030f043d1",
   "metadata": {},
   "source": [
    "#### Random draw multi grain, with strain"
   ]
  },
  {
   "cell_type": "code",
   "execution_count": null,
   "id": "f0f1dada-9944-47e5-a846-6c84b6dc03c0",
   "metadata": {},
   "outputs": [],
   "source": [
    "NB_GRAIN = 5\n",
    "\n",
    "# parameters of simulation\n",
    "eps_a_ref = torch.rand(NB_GRAIN) * 2e-2 - 1e-2  # eps_a = (a - a0) / a0\n",
    "eps_b_ref = torch.rand(NB_GRAIN) * 2e-2 - 1e-2\n",
    "eps_c_ref = torch.rand(NB_GRAIN) * 2e-2 - 1e-2\n",
    "eps_alpha_ref = torch.rand(NB_GRAIN) * 2e-3 - 1e-3  # eps_alpha = tan(alpha - alpha_0)\n",
    "eps_beta_ref = torch.rand(NB_GRAIN) * 2e-3 - 1e-3\n",
    "eps_gamma_ref = torch.rand(NB_GRAIN) * 2e-3 - 1e-3\n",
    "lattice_ref = torch.cat([\n",
    "    (LATTICE[0] * 1.0 + eps_a_ref).unsqueeze(1),\n",
    "    (LATTICE[1] * 1.0 + eps_b_ref).unsqueeze(1),\n",
    "    (LATTICE[2] * 1.0 + eps_c_ref).unsqueeze(1),\n",
    "    (LATTICE[3] + eps_alpha_ref).unsqueeze(1),\n",
    "    (LATTICE[4] + eps_beta_ref).unsqueeze(1),\n",
    "    (LATTICE[5] + eps_gamma_ref).unsqueeze(1),\n",
    "], dim=1)\n",
    "rot1_ref = 2.0 * torch.pi * torch.rand(NB_GRAIN)\n",
    "rot2_ref = 2.0 * torch.pi * torch.rand(NB_GRAIN)\n",
    "rot3_ref = 2.0 * torch.pi * torch.rand(NB_GRAIN)"
   ]
  },
  {
   "cell_type": "markdown",
   "id": "d357b5b8-7228-4536-ba9b-007ea3a6ecbb",
   "metadata": {},
   "source": [
    "#### Simulation of the diagram"
   ]
  },
  {
   "cell_type": "code",
   "execution_count": null,
   "id": "2ef0f52e-f60f-4add-ba20-66287f73df9d",
   "metadata": {},
   "outputs": [],
   "source": [
    "# cast into torch tensor\n",
    "eps_a_ref = torch.asarray(eps_a_ref).reshape(-1)\n",
    "eps_b_ref = torch.asarray(eps_b_ref).reshape(-1)\n",
    "eps_c_ref = torch.asarray(eps_c_ref).reshape(-1)\n",
    "eps_alpha_ref = torch.asarray(eps_alpha_ref).reshape(-1)\n",
    "eps_beta_ref = torch.asarray(eps_beta_ref).reshape(-1)\n",
    "eps_gamma_ref = torch.asarray(eps_gamma_ref).reshape(-1)\n",
    "\n",
    "rot1_ref = torch.asarray(rot1_ref).reshape(-1)\n",
    "rot2_ref = torch.asarray(rot2_ref).reshape(-1)\n",
    "rot3_ref = torch.asarray(rot3_ref).reshape(-1)\n",
    "\n",
    "lattice_ref = lattice_ref.reshape(-1, 6)"
   ]
  },
  {
   "cell_type": "code",
   "execution_count": null,
   "id": "4ca7f091-a9e1-44b8-8e1e-a7b441a77938",
   "metadata": {},
   "outputs": [],
   "source": [
    "# simulation\n",
    "rot_ref = angle_to_rot(rot1_ref, rot2_ref, rot3_ref, cartesian_product=False)\n",
    "hkl = select_hkl(lattice_ref, e_max=25e3*EV, keep_harmonics=False)\n",
    "if len(lattice_ref) != 1 and len(rot_ref) != 1:  # default behavour is cartesian product\n",
    "    points = torch.cat([\n",
    "        full_simulation(hkl, lattice_ref_, rot_ref_, PONI)\n",
    "        for lattice_ref_, rot_ref_ in zip(lattice_ref, rot_ref)\n",
    "    ])\n",
    "else:\n",
    "    points = full_simulation(hkl, lattice_ref, rot_ref, PONI)\n",
    "\n",
    "# add experimental noise and false detection\n",
    "points_exp = points + 5 * DETECTOR[\"pxl\"] * torch.randn_like(points)\n",
    "cond = torch.rand_like(points_exp) < 0.05  # proba to faild the detection\n",
    "points_exp[cond[..., 0], 0] = torch.rand_like(points_exp[cond[..., 0], 0]) * DETECTOR[\"shape\"][0] * DETECTOR[\"pxl\"]\n",
    "points_exp[cond[..., 1], 1] = torch.rand_like(points_exp[cond[..., 1], 1]) * DETECTOR[\"shape\"][1] * DETECTOR[\"pxl\"]\n",
    "\n",
    "# print informations\n",
    "print(f\"There are {len(points)} experimental spots.\")\n",
    "print(\"Lattice parameters:\")\n",
    "for i, lat in enumerate(lattice_ref):\n",
    "    print(\n",
    "        f\"   {i} - \"\n",
    "        f\"a={lat[0]:.3e}, b={lat[1]:.3e}, c={lat[2]:.3e}, alpha={lat[3]:.3f}, beta={lat[4]:.3f}, gamma={lat[5]:.3f} \"\n",
    "    )\n",
    "print(\"Rotations:\")\n",
    "for i, (r1, r2, r3) in enumerate(zip(rot1_ref, rot2_ref, rot3_ref)):\n",
    "    print(\n",
    "        f\"   {i} - \"\n",
    "        f\"rot1={r1:.2f}, rot2={r2:.2f}, rot3={r3:.2f}\"\n",
    "    )\n",
    "\n",
    "# display in pyfai convention\n",
    "plt.title(\"Simulated experimental diagram\")\n",
    "plt.xlabel(\"d2\")\n",
    "plt.ylabel(\"d1\")\n",
    "plt.scatter(*(points.flip(-1) / DETECTOR[\"pxl\"]).movedim(-1, 0), label=\"experimental\")\n",
    "plt.scatter(*(points_exp.flip(-1) / DETECTOR[\"pxl\"]).movedim(-1, 0), label=\"noisy\")\n",
    "plt.legend()\n",
    "plt.grid()\n",
    "plt.show()"
   ]
  },
  {
   "cell_type": "markdown",
   "id": "a9e31a04-845b-4bd8-9b5d-1db14cf7d449",
   "metadata": {},
   "source": [
    "### Indexation"
   ]
  },
  {
   "cell_type": "markdown",
   "id": "5f236fde-640d-440c-ac39-6dd650153b10",
   "metadata": {},
   "source": [
    "#### Preparation\n",
    "We work in the $u_q$ space, not in the detector space. First we have to transfere the points of the detector to the $u_q$ space."
   ]
  },
  {
   "cell_type": "code",
   "execution_count": null,
   "id": "6b8ce60f-4a17-4d66-b5d7-c1d2edaa51e5",
   "metadata": {},
   "outputs": [],
   "source": [
    "# hyperparameters\n",
    "ANGLE_RESOL = 0.6 * RAD\n",
    "ANGLE_MAX_MATCHING = 0.4 * RAD\n",
    "E_MAX = 15e3 * EV\n",
    "\n",
    "# compute invariants parameters\n",
    "all_rot = angle_to_rot(\n",
    "    torch.arange(-torch.pi / 4, torch.pi / 4, ANGLE_RESOL),\n",
    "    torch.arange(-torch.pi / 4, torch.pi / 4, ANGLE_RESOL),\n",
    "    torch.arange(-torch.pi / 4, torch.pi / 4, ANGLE_RESOL),\n",
    ").reshape(-1, 3, 3)\n",
    "hkl = select_hkl(LATTICE, e_max=E_MAX, keep_harmonics=False)  # (d, 3)\n",
    "uq_exp = detector_poni_to_uq(points_exp, PONI).movedim(0, -2).contiguous()  # (3, n)\n",
    "reciprocal = lattice_to_reciprocal(LATTICE)  # (3, 3)\n",
    "\n",
    "# compile functions\n",
    "hkl_reciprocal_rot_to_uq_comp = torch.compile(hkl_reciprocal_rot_to_uq, fullgraph=True, dynamic=False)"
   ]
  },
  {
   "cell_type": "markdown",
   "id": "57206132-0bef-4363-9467-560a90713e30",
   "metadata": {},
   "source": [
    "#### Brute force indexation"
   ]
  },
  {
   "cell_type": "code",
   "execution_count": null,
   "id": "ee65402e-ac00-4d45-935c-cd917acb299c",
   "metadata": {},
   "outputs": [],
   "source": [
    "# simulate\n",
    "BATCH_SIZE = 1000\n",
    "\n",
    "all_rate = torch.empty(*torch.broadcast_shapes(uq_exp.shape[:-2], all_rot.shape[:-2]))\n",
    "for i in tqdm(range(0, len(all_rot), BATCH_SIZE), unit_scale=BATCH_SIZE):\n",
    "    rot_batch = all_rot[i:i+BATCH_SIZE]\n",
    "    uq_simul = hkl_reciprocal_rot_to_uq_comp(hkl, reciprocal, rot_batch)\n",
    "    uq_simul = uq_simul.movedim(0, -2).contiguous()\n",
    "    all_rate[i:i+BATCH_SIZE] = compute_matching_rate(uq_exp, uq_simul, phi_max=ANGLE_MAX_MATCHING)"
   ]
  },
  {
   "cell_type": "markdown",
   "id": "318028e9-c255-40b4-87f7-7cb97306e8d9",
   "metadata": {},
   "source": [
    "#### Selection"
   ]
  },
  {
   "cell_type": "code",
   "execution_count": null,
   "id": "05d6d64e-7238-4bda-a465-de8cb56ff740",
   "metadata": {},
   "outputs": [],
   "source": [
    "MIN_RATE = None  # or set int directely\n",
    "\n",
    "sorted_rate_indices = torch.argsort(all_rate, descending=True)\n",
    "min_rate = MIN_RATE or round(0.8 * float(all_rate[sorted_rate_indices[0]]))\n",
    "rate_indices = sorted_rate_indices[:torch.argmin((all_rate[sorted_rate_indices] >= min_rate).view(torch.uint8))]\n",
    "\n",
    "print(f\"{all_rate[rate_indices[-1]]} <= rate <= {all_rate[rate_indices[0]]}\")\n",
    "\n",
    "plt.title(\"Matching\")\n",
    "plt.ylabel(\"rate\")\n",
    "plt.plot(all_rate[sorted_rate_indices])\n",
    "plt.hlines(all_rate[rate_indices[-1]], 0, len(all_rate))\n",
    "plt.plot(torch.linspace(0, len(all_rate), len(rate_indices)), all_rate[rate_indices])\n",
    "plt.show()"
   ]
  },
  {
   "cell_type": "markdown",
   "id": "88ce5479-4efe-405d-948b-b18acda4d72b",
   "metadata": {},
   "source": [
    "#### Visualisation"
   ]
  },
  {
   "cell_type": "code",
   "execution_count": null,
   "id": "183efc11-8924-4b89-a98f-921ad4b5967e",
   "metadata": {},
   "outputs": [],
   "source": [
    "points_indexed = full_simulation(hkl, LATTICE, all_rot[rate_indices[0]], PONI)\n",
    "\n",
    "# display in pyfai convention\n",
    "plt.title(\"Indexation\")\n",
    "plt.xlabel(\"d2\")\n",
    "plt.ylabel(\"d1\")\n",
    "plt.scatter(*(points_exp.flip(-1) / DETECTOR[\"pxl\"]).movedim(-1, 0), label=\"experimental\")\n",
    "plt.scatter(*(points_indexed.flip(-1) / DETECTOR[\"pxl\"]).movedim(-1, 0), label=\"indexed\")\n",
    "plt.legend()\n",
    "plt.grid()\n",
    "plt.show()"
   ]
  },
  {
   "cell_type": "markdown",
   "id": "f42ccd52-bd37-471d-a680-3275f3e245a9",
   "metadata": {},
   "source": [
    "### Raffinement"
   ]
  },
  {
   "cell_type": "code",
   "execution_count": null,
   "id": "3e0639cd-3ff0-447f-9942-44a48b2be12d",
   "metadata": {
    "scrolled": true
   },
   "outputs": [],
   "source": [
    "INDEX = 0\n",
    "\n",
    "# pick out initial parameters\n",
    "rot1_init, rot2_init, rot3_init = rot_to_angle(all_rot[rate_indices][INDEX])\n",
    "lattice_init = LATTICE.unsqueeze(0).expand(len(rate_indices), -1)[INDEX]  # (n, 6)\n",
    "rot1 = rot1_init.clone()\n",
    "rot1.requires_grad = True\n",
    "rot2 = rot2_init.clone()\n",
    "rot2.requires_grad = True\n",
    "rot3 = rot3_init.clone()\n",
    "rot3.requires_grad = True\n",
    "lattice = lattice_init.clone()\n",
    "lattice.requires_grad = True\n",
    "\n",
    "# maximisation of matching rate by gradient climbing\n",
    "optim = torch.optim.SGD([rot1, rot2, rot3], lr=math.radians(1e-5))\n",
    "for _ in range(100):\n",
    "    # compute matching rate\n",
    "    reciprocal = lattice_to_reciprocal(lattice)\n",
    "    rot = angle_to_rot(rot1, rot2, rot3, cartesian_product=False)\n",
    "    uq_simul = hkl_reciprocal_rot_to_uq_comp(hkl, reciprocal, rot)\n",
    "    uq_simul = uq_simul.movedim(0, -2).contiguous()\n",
    "    rate = compute_matching_rate_continuous(uq_exp, uq_simul, phi_max=ANGLE_MAX_MATCHING)\n",
    "    print(f\"rate={rate}\")\n",
    "    \n",
    "    # compute gradient\n",
    "    optim.zero_grad()\n",
    "    (-rate).backward()\n",
    "    # print(f\"grad=({rot1.grad}, {rot2.grad}, {rot3.grad})\")\n",
    "    rot1.grad = torch.clamp(torch.nan_to_num(rot1.grad), -1e2, 1e2)\n",
    "    rot2.grad = torch.clamp(torch.nan_to_num(rot2.grad), -1e2, 1e2)\n",
    "    rot3.grad = torch.clamp(torch.nan_to_num(rot3.grad), -1e2, 1e2)\n",
    "    # rot1.grad = torch.clamp(rot1.grad, -1.0, 1.0)\n",
    "    # rot2.grad = torch.clamp(rot2.grad, -1.0, 1.0)\n",
    "    # rot3.grad = torch.clamp(rot3.grad, -1.0, 1.0)\n",
    "    \n",
    "    # update values\n",
    "    optim.step()"
   ]
  },
  {
   "cell_type": "markdown",
   "id": "6d694be6-2d4e-4e81-89e1-19aefd2ef655",
   "metadata": {},
   "source": [
    "#### Visualisation"
   ]
  },
  {
   "cell_type": "code",
   "execution_count": null,
   "id": "7c893769-6968-4519-a8d8-711ce0278feb",
   "metadata": {},
   "outputs": [],
   "source": [
    "points_indexed = full_simulation(hkl, LATTICE, all_rot[rate_indices[0]], PONI)\n",
    "rot_raffined = angle_to_rot(rot1, rot2, rot3, cartesian_product=False).detach()\n",
    "points_raffined = full_simulation(hkl, LATTICE, rot_raffined, PONI)\n",
    "\n",
    "# display in pyfai convention\n",
    "plt.title(\"Indexation\")\n",
    "plt.xlabel(\"d2\")\n",
    "plt.ylabel(\"d1\")\n",
    "plt.scatter(*(points_exp.flip(-1) / DETECTOR[\"pxl\"]).movedim(-1, 0), label=\"experimental\")\n",
    "plt.scatter(*(points_indexed.flip(-1) / DETECTOR[\"pxl\"]).movedim(-1, 0), label=\"indexed\")\n",
    "plt.scatter(*(points_raffined.flip(-1) / DETECTOR[\"pxl\"]).movedim(-1, 0), label=\"raffined\")\n",
    "plt.legend()\n",
    "plt.grid()\n",
    "plt.show()"
   ]
  }
 ],
 "metadata": {
  "kernelspec": {
   "display_name": "Python 3 (ipykernel)",
   "language": "python",
   "name": "python3"
  },
  "language_info": {
   "codemirror_mode": {
    "name": "ipython",
    "version": 3
   },
   "file_extension": ".py",
   "mimetype": "text/x-python",
   "name": "python",
   "nbconvert_exporter": "python",
   "pygments_lexer": "ipython3",
   "version": "3.11.9"
  }
 },
 "nbformat": 4,
 "nbformat_minor": 5
}
