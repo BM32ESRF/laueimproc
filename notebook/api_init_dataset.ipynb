{
 "cells": [
  {
   "cell_type": "markdown",
   "id": "c6b8a4f1",
   "metadata": {},
   "source": [
    "## This notebook shows all the means to create and to configure DiagramDataset\n",
    "* A `DiagramDataset` allows you to exploit information on the spatial position of different shots.\n",
    "* A `DiagramDataset` allows you to manage data persistence in real time as well."
   ]
  },
  {
   "cell_type": "code",
   "execution_count": 1,
   "id": "8db14572",
   "metadata": {},
   "outputs": [],
   "source": [
    "import shutil\n",
    "import tempfile\n",
    "\n",
    "from laueimproc.io.download import get_samples  # gives access to the dataset\n",
    "from laueimproc import Diagram, DiagramDataset"
   ]
  },
  {
   "cell_type": "markdown",
   "id": "898ede9e",
   "metadata": {},
   "source": [
    "### How to add diagrams to the dataset ?\n",
    "* All the means to init a `Diagram` are described in the `api_init_diagram` notebook.\n",
    "* You can append diagrams before or after having define a function chain."
   ]
  },
  {
   "cell_type": "code",
   "execution_count": 2,
   "id": "90e0bec3",
   "metadata": {},
   "outputs": [],
   "source": [
    "# from a pathlike\n",
    "folder = get_samples()\n",
    "dataset_1 = DiagramDataset(folder)  # pathlib.Path directory\n",
    "dataset_2 = DiagramDataset(min(folder.glob(\"*.jp2\")))  # pathlib.Path file\n",
    "\n",
    "# from `Diagram` instances\n",
    "diagrams = [Diagram(f) for f in sorted(folder.glob(\"*.jp2\"))]\n",
    "dataset_3 = DiagramDataset(diagrams)  # from an iterable of diagrams\n",
    "dataset_4 = DiagramDataset(diagrams[0], diagrams[-1])  # from a few well-chosen diagrams\n",
    "\n",
    "# big mix\n",
    "dataset_5 = DiagramDataset(diagrams[0], diagrams[1], [diagrams[2], diagrams[3]], diagrams[4].file)"
   ]
  },
  {
   "cell_type": "code",
   "execution_count": 4,
   "id": "ebb72e98",
   "metadata": {},
   "outputs": [
    {
     "name": "stdout",
     "output_type": "stream",
     "text": [
      "/tmp/tmppn9s9sf5\n"
     ]
    }
   ],
   "source": [
    "# from an uncomplet directory for real time\n",
    "unfilled_folder = tempfile.mkdtemp()\n",
    "print(unfilled_folder)"
   ]
  },
  {
   "cell_type": "markdown",
   "id": "2bb9199c",
   "metadata": {},
   "source": [
    "### How to apply a function ?"
   ]
  }
 ],
 "metadata": {
  "kernelspec": {
   "display_name": "Python 3 (ipykernel)",
   "language": "python",
   "name": "python3"
  },
  "language_info": {
   "codemirror_mode": {
    "name": "ipython",
    "version": 3
   },
   "file_extension": ".py",
   "mimetype": "text/x-python",
   "name": "python",
   "nbconvert_exporter": "python",
   "pygments_lexer": "ipython3",
   "version": "3.10.12"
  }
 },
 "nbformat": 4,
 "nbformat_minor": 5
}
