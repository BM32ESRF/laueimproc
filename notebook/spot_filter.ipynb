{
 "cells": [
  {
   "cell_type": "markdown",
   "id": "7533bd10",
   "metadata": {},
   "source": [
    "## This notebook shows the fastest mean to select some spots with a simple filter\n",
    "* It is possible to interact with external libraries, have a look on the `init_diagram` notebook.\n",
    "* To instanciate a `Diagram` allows you to apply efficiently filters based on image processing.\n",
    "* They are several means to instanciate a `diagram` some of them are betters than overs."
   ]
  },
  {
   "cell_type": "code",
   "execution_count": 1,
   "id": "f6d9efb0",
   "metadata": {},
   "outputs": [],
   "source": [
    "%matplotlib inline\n",
    "\n",
    "import pathlib\n",
    "\n",
    "import matplotlib.pyplot as plt\n",
    "import tqdm\n",
    "\n",
    "from laueimproc.io.download import get_samples  # gives access to the dataset\n",
    "from laueimproc import Diagram"
   ]
  },
  {
   "cell_type": "markdown",
   "id": "3d154742",
   "metadata": {},
   "source": [
    "## Initialise the diagrams\n",
    "* The different ways of initializing a diagram are described in detail in the `init_diagram` notebook."
   ]
  },
  {
   "cell_type": "code",
   "execution_count": 2,
   "id": "b57d2b23",
   "metadata": {},
   "outputs": [
    {
     "name": "stderr",
     "output_type": "stream",
     "text": [
      "  1%|▍                                                     | 1/129 [00:00<00:33,  3.86it/s]"
     ]
    },
    {
     "name": "stdout",
     "output_type": "stream",
     "text": [
      "torch.Size([1915, 4])\n"
     ]
    },
    {
     "name": "stderr",
     "output_type": "stream",
     "text": [
      "\r",
      "  2%|▊                                                     | 2/129 [00:00<00:30,  4.19it/s]"
     ]
    },
    {
     "name": "stdout",
     "output_type": "stream",
     "text": [
      "torch.Size([244, 4])\n"
     ]
    },
    {
     "name": "stderr",
     "output_type": "stream",
     "text": [
      "  2%|█▎                                                    | 3/129 [00:00<00:34,  3.68it/s]"
     ]
    },
    {
     "name": "stdout",
     "output_type": "stream",
     "text": [
      "torch.Size([184, 4])\n",
      "torch.Size([0, 4])\n"
     ]
    },
    {
     "name": "stderr",
     "output_type": "stream",
     "text": [
      "\n"
     ]
    },
    {
     "ename": "IndexError",
     "evalue": "too many indices for tensor of dimension 1",
     "output_type": "error",
     "traceback": [
      "\u001b[0;31m---------------------------------------------------------------------------\u001b[0m",
      "\u001b[0;31mIndexError\u001b[0m                                Traceback (most recent call last)",
      "Cell \u001b[0;32mIn[2], line 7\u001b[0m\n\u001b[1;32m      5\u001b[0m \u001b[38;5;28;01mfor\u001b[39;00m diagram \u001b[38;5;129;01min\u001b[39;00m tqdm\u001b[38;5;241m.\u001b[39mtqdm(diagrams):\n\u001b[1;32m      6\u001b[0m     diagram\u001b[38;5;241m.\u001b[39msearched_spots()\n\u001b[0;32m----> 7\u001b[0m     \u001b[43mdiagram\u001b[49m\u001b[38;5;241;43m.\u001b[39;49m\u001b[43mget_barycenters\u001b[49m\u001b[43m(\u001b[49m\u001b[43m)\u001b[49m\n",
      "File \u001b[0;32m/tmp/bourinix/documents/boulot/2024_esrf/code/laueimproc/laueimproc/classes/base_diagram.py:271\u001b[0m, in \u001b[0;36mBaseDiagram.enable_caching.<locals>.cached_meth\u001b[0;34m(self, *args, **kwargs)\u001b[0m\n\u001b[1;32m    269\u001b[0m signature \u001b[38;5;241m=\u001b[39m \u001b[38;5;124mf\u001b[39m\u001b[38;5;124m\"\u001b[39m\u001b[38;5;132;01m{\u001b[39;00mmeth\u001b[38;5;241m.\u001b[39m\u001b[38;5;18m__name__\u001b[39m\u001b[38;5;132;01m}\u001b[39;00m\u001b[38;5;124m_\u001b[39m\u001b[38;5;132;01m{\u001b[39;00mhashlib\u001b[38;5;241m.\u001b[39mmd5(pickle\u001b[38;5;241m.\u001b[39mdumps((args,\u001b[38;5;250m \u001b[39mkwargs)))\u001b[38;5;241m.\u001b[39mhexdigest()\u001b[38;5;132;01m}\u001b[39;00m\u001b[38;5;124m\"\u001b[39m\n\u001b[1;32m    270\u001b[0m \u001b[38;5;28;01mif\u001b[39;00m signature \u001b[38;5;129;01mnot\u001b[39;00m \u001b[38;5;129;01min\u001b[39;00m \u001b[38;5;28mself\u001b[39m\u001b[38;5;241m.\u001b[39m_cache:\n\u001b[0;32m--> 271\u001b[0m     \u001b[38;5;28mself\u001b[39m\u001b[38;5;241m.\u001b[39m_cache[signature] \u001b[38;5;241m=\u001b[39m \u001b[43mmeth\u001b[49m\u001b[43m(\u001b[49m\u001b[38;5;28;43mself\u001b[39;49m\u001b[43m,\u001b[49m\u001b[43m \u001b[49m\u001b[38;5;241;43m*\u001b[39;49m\u001b[43margs\u001b[49m\u001b[43m,\u001b[49m\u001b[43m \u001b[49m\u001b[38;5;241;43m*\u001b[39;49m\u001b[38;5;241;43m*\u001b[39;49m\u001b[43mkwargs\u001b[49m\u001b[43m)\u001b[49m\n\u001b[1;32m    272\u001b[0m \u001b[38;5;28;01mreturn\u001b[39;00m \u001b[38;5;28mself\u001b[39m\u001b[38;5;241m.\u001b[39m_cache[signature]\n",
      "File \u001b[0;32m/tmp/bourinix/documents/boulot/2024_esrf/code/laueimproc/laueimproc/classes/diagram.py:24\u001b[0m, in \u001b[0;36mDiagram.get_barycenters\u001b[0;34m(self)\u001b[0m\n\u001b[1;32m     20\u001b[0m barycenters \u001b[38;5;241m=\u001b[39m compute_barycenters(\u001b[38;5;28mself\u001b[39m\u001b[38;5;241m.\u001b[39mrois)\n\u001b[1;32m     21\u001b[0m \u001b[38;5;66;03m# print(self)\u001b[39;00m\n\u001b[1;32m     22\u001b[0m \u001b[38;5;66;03m# print(self.bboxes.shape)\u001b[39;00m\n\u001b[1;32m     23\u001b[0m \u001b[38;5;66;03m# print(barycenters.shape, self.bboxes[:, :2].shape)\u001b[39;00m\n\u001b[0;32m---> 24\u001b[0m barycenters \u001b[38;5;241m+\u001b[39m\u001b[38;5;241m=\u001b[39m \u001b[38;5;28;43mself\u001b[39;49m\u001b[38;5;241;43m.\u001b[39;49m\u001b[43mbboxes\u001b[49m\u001b[43m[\u001b[49m\u001b[43m:\u001b[49m\u001b[43m,\u001b[49m\u001b[43m \u001b[49m\u001b[43m:\u001b[49m\u001b[38;5;241;43m2\u001b[39;49m\u001b[43m]\u001b[49m\n\u001b[1;32m     25\u001b[0m \u001b[38;5;28;01mreturn\u001b[39;00m barycenters\n",
      "File \u001b[0;32m/tmp/bourinix/documents/boulot/2024_esrf/code/laueimproc/laueimproc/classes/tensor.py:143\u001b[0m, in \u001b[0;36mTensor.__torch_function__\u001b[0;34m(cls, func, types, args, kwargs)\u001b[0m\n\u001b[1;32m    141\u001b[0m \u001b[38;5;28;01mif\u001b[39;00m kwargs \u001b[38;5;129;01mis\u001b[39;00m \u001b[38;5;28;01mNone\u001b[39;00m:\n\u001b[1;32m    142\u001b[0m     kwargs \u001b[38;5;241m=\u001b[39m {}\n\u001b[0;32m--> 143\u001b[0m result \u001b[38;5;241m=\u001b[39m \u001b[38;5;28;43msuper\u001b[39;49m\u001b[43m(\u001b[49m\u001b[43m)\u001b[49m\u001b[38;5;241;43m.\u001b[39;49m\u001b[43m__torch_function__\u001b[49m\u001b[43m(\u001b[49m\u001b[43mfunc\u001b[49m\u001b[43m,\u001b[49m\u001b[43m \u001b[49m\u001b[43mtypes\u001b[49m\u001b[43m,\u001b[49m\u001b[43m \u001b[49m\u001b[43margs\u001b[49m\u001b[43m,\u001b[49m\u001b[43m \u001b[49m\u001b[43mkwargs\u001b[49m\u001b[43m)\u001b[49m\n\u001b[1;32m    144\u001b[0m \u001b[38;5;28;01mif\u001b[39;00m \u001b[38;5;28misinstance\u001b[39m(result, \u001b[38;5;28mcls\u001b[39m):\n\u001b[1;32m    145\u001b[0m     \u001b[38;5;28;01mif\u001b[39;00m \u001b[38;5;28misinstance\u001b[39m(args[\u001b[38;5;241m0\u001b[39m], \u001b[38;5;28mcls\u001b[39m):  \u001b[38;5;66;03m# args[0] is self\u001b[39;00m\n",
      "File \u001b[0;32m~/.pyenv/versions/3.12.2/envs/laueimproc/lib/python3.12/site-packages/torch/_tensor.py:1418\u001b[0m, in \u001b[0;36mTensor.__torch_function__\u001b[0;34m(cls, func, types, args, kwargs)\u001b[0m\n\u001b[1;32m   1415\u001b[0m     \u001b[38;5;28;01mreturn\u001b[39;00m \u001b[38;5;28mNotImplemented\u001b[39m\n\u001b[1;32m   1417\u001b[0m \u001b[38;5;28;01mwith\u001b[39;00m _C\u001b[38;5;241m.\u001b[39mDisableTorchFunctionSubclass():\n\u001b[0;32m-> 1418\u001b[0m     ret \u001b[38;5;241m=\u001b[39m \u001b[43mfunc\u001b[49m\u001b[43m(\u001b[49m\u001b[38;5;241;43m*\u001b[39;49m\u001b[43margs\u001b[49m\u001b[43m,\u001b[49m\u001b[43m \u001b[49m\u001b[38;5;241;43m*\u001b[39;49m\u001b[38;5;241;43m*\u001b[39;49m\u001b[43mkwargs\u001b[49m\u001b[43m)\u001b[49m\n\u001b[1;32m   1419\u001b[0m     \u001b[38;5;28;01mif\u001b[39;00m func \u001b[38;5;129;01min\u001b[39;00m get_default_nowrap_functions():\n\u001b[1;32m   1420\u001b[0m         \u001b[38;5;28;01mreturn\u001b[39;00m ret\n",
      "\u001b[0;31mIndexError\u001b[0m: too many indices for tensor of dimension 1"
     ]
    }
   ],
   "source": [
    "all_files = list(get_samples().iterdir())  # the list of all images path\n",
    "# all_files = list(pathlib.Path(\"my_folder/\").iterdir())\n",
    "# all_files = [\"the_path_of/my_image.mccd\"]\n",
    "diagrams = [Diagram(f) for f in all_files]\n",
    "for diagram in tqdm.tqdm(diagrams):\n",
    "    diagram.searched_spots()\n",
    "    diagram.get_barycenters()"
   ]
  },
  {
   "cell_type": "markdown",
   "id": "0af628a3",
   "metadata": {},
   "source": [
    "## Keeps the 10 most intense spots for each diagram"
   ]
  },
  {
   "cell_type": "code",
   "execution_count": null,
   "id": "df826cae",
   "metadata": {},
   "outputs": [],
   "source": [
    "for diagram in tqdm.tqdm(diagrams):\n",
    "    diagram.get_barycenters()"
   ]
  }
 ],
 "metadata": {
  "kernelspec": {
   "display_name": "laueimproc",
   "language": "python",
   "name": "laueimproc"
  },
  "language_info": {
   "codemirror_mode": {
    "name": "ipython",
    "version": 3
   },
   "file_extension": ".py",
   "mimetype": "text/x-python",
   "name": "python",
   "nbconvert_exporter": "python",
   "pygments_lexer": "ipython3",
   "version": "3.12.2"
  }
 },
 "nbformat": 4,
 "nbformat_minor": 5
}
