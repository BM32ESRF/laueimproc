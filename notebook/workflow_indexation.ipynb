{
 "cells": [
  {
   "cell_type": "markdown",
   "id": "0ed8092b-0a67-441d-a563-6a4c903e8474",
   "metadata": {},
   "source": [
    "## Demonstration of torch power, applied to Laue calculation"
   ]
  },
  {
   "cell_type": "code",
   "execution_count": null,
   "id": "5b463071-62ee-42a3-8460-bab559135240",
   "metadata": {},
   "outputs": [],
   "source": [
    "import functools\n",
    "import math\n",
    "import random\n",
    "import timeit\n",
    "\n",
    "from tqdm.autonotebook import tqdm\n",
    "import cv2\n",
    "import matplotlib.pyplot as plt\n",
    "import numpy as np\n",
    "import torch\n",
    "\n",
    "from laueimproc.diffraction import *"
   ]
  },
  {
   "cell_type": "markdown",
   "id": "02710123-52b5-4454-8245-fe8583072096",
   "metadata": {},
   "source": [
    "### Reference constants and parameters\n",
    "* `LATTICE` is the 3x2 matrix of the lattice parameter $[[a, b, c], [\\alpha, \\beta, \\gamma]]$\n",
    "* `PONI` are the detector parameters $[dist, poni_1, poni_2, rot_1, rot_2, rot_3]$\n",
    "\n",
    "The incoming $ui$ ray is always $[0, 0, 1]$, according to the pyfai convention."
   ]
  },
  {
   "cell_type": "code",
   "execution_count": null,
   "id": "1ecc38b7-8ce4-4baf-8a8f-b290d7c23f49",
   "metadata": {},
   "outputs": [],
   "source": [
    "LATTICE = torch.tensor([3.6e-10, 3.6e-10, 3.6e-10, torch.pi/2, torch.pi/2, torch.pi/2])  # copper\n",
    "PONI = torch.tensor([0.07, 73.4e-3/2, 73.4e-3, 0.0, -torch.pi/2, 0.0])  # mode laue detector on top\n",
    "DETECTOR = {\"shape\": (2018, 2016), \"pxl\": 73.4e-6}\n",
    "GNOM_PONI = torch.tensor([1.0, 0, 0, 0.0, -3*torch.pi/4, 0.0])\n",
    "DEVICE = torch.device(\"cuda:0\" if torch.cuda.is_available() else \"cpu\")"
   ]
  },
  {
   "cell_type": "markdown",
   "id": "24ff7ec5-a38e-4ec5-9275-c45cdac2b78f",
   "metadata": {},
   "source": [
    "### Associate the functions"
   ]
  },
  {
   "cell_type": "code",
   "execution_count": null,
   "id": "84bab09c-3027-4847-9906-1f5b3b2cef47",
   "metadata": {},
   "outputs": [],
   "source": [
    "EV = 1.60e-19  # 1 eV = EV J\n",
    "\n",
    "def lattice_to_reciprocal(lattice):\n",
    "    primitive = lattice_to_primitive(lattice)\n",
    "    reciprocal = primitive_to_reciprocal(primitive)\n",
    "    return reciprocal\n",
    "\n",
    "def hkl_reciprocal_rot_to_uq(hkl, reciprocal, rot):\n",
    "    reciprocal_rotated = rotate_cristal(reciprocal, rot)\n",
    "    u_q = hkl_reciprocal_to_uq(hkl, reciprocal_rotated)\n",
    "    return u_q\n",
    "    \n",
    "def uq_poni_to_detector(u_q, poni):\n",
    "    u_f = uq_to_uf(u_q)\n",
    "    point, dist = ray_to_detector(u_f, poni)\n",
    "    point = point[dist > 0, :]  # ray wrong direction => virtual intersection\n",
    "    point = point[point[..., 0] > 0, :]  # out of detector top\n",
    "    point = point[point[..., 0] < DETECTOR[\"shape\"][0] * DETECTOR[\"pxl\"], :]  # out of detector bottom\n",
    "    point = point[point[..., 1] > 0, :]  # out of detector left\n",
    "    point = point[point[..., 1] < DETECTOR[\"shape\"][1] * DETECTOR[\"pxl\"], :]  # out of detector right\n",
    "    return point\n",
    "\n",
    "def detector_poni_to_uq(point, poni):\n",
    "    u_f = detector_to_ray(point, poni)\n",
    "    u_q = uf_to_uq(u_f)\n",
    "    return u_q"
   ]
  },
  {
   "cell_type": "code",
   "execution_count": null,
   "id": "4dc44dd9-1404-422c-b2c4-2649b8a9130f",
   "metadata": {},
   "outputs": [],
   "source": [
    "def full_simulation(hkl, lattice, rot, poni):\n",
    "    reciprocal = lattice_to_reciprocal(lattice)\n",
    "    u_q = hkl_reciprocal_rot_to_uq(hkl, reciprocal, rot)\n",
    "    point = uq_poni_to_detector(u_q, poni)\n",
    "    return point"
   ]
  },
  {
   "cell_type": "markdown",
   "id": "bdfe33d8-7442-4f70-af53-3c39d6ab52d7",
   "metadata": {},
   "source": [
    "### Use and associate the functions"
   ]
  },
  {
   "cell_type": "markdown",
   "id": "1f73e5b3-ac35-4501-9b2b-aa65cc1e6956",
   "metadata": {},
   "source": [
    "#### Simulation of one random diagram"
   ]
  },
  {
   "cell_type": "code",
   "execution_count": null,
   "id": "9bc39c61-d3c0-4982-a89c-668b9a9f7172",
   "metadata": {},
   "outputs": [],
   "source": [
    "hkl = select_hkl(LATTICE, e_max=27e3*EV, keep_harmonics=False)\n",
    "# rot = angle_to_rot(5*torch.pi/180, 0, 0, meshgrid=False)  # to simulate a single grain\n",
    "rot = angle_to_rot(\n",
    "    torch.pi * torch.rand(5), torch.pi * torch.rand(5), torch.pi * torch.rand(5), meshgrid=False\n",
    ").reshape(-1, 3, 3)  # to simulate n grains\n",
    "\n",
    "point = full_simulation(hkl, LATTICE, rot, PONI)\n",
    "print(f\"there are {len(point)} experimental spots\")\n",
    "point_exp = point + 5 * DETECTOR[\"pxl\"] * torch.randn_like(point)  # add position noise\n",
    "uq_exp = detector_poni_to_uq(point_exp, PONI)\n",
    "\n",
    "plt.scatter(*(point / DETECTOR[\"pxl\"]).movedim(-1, 0), label=\"experimental\")\n",
    "plt.scatter(*(point_exp / DETECTOR[\"pxl\"]).movedim(-1, 0), label=\"noisy\")\n",
    "plt.legend()\n",
    "plt.grid()\n",
    "plt.show()"
   ]
  },
  {
   "cell_type": "markdown",
   "id": "88ce5479-4efe-405d-948b-b18acda4d72b",
   "metadata": {},
   "source": [
    "#### Simple Indexation"
   ]
  },
  {
   "cell_type": "code",
   "execution_count": null,
   "id": "0e4175ec-8c16-4b66-960a-279f72efedcf",
   "metadata": {},
   "outputs": [],
   "source": [
    "# preparation\n",
    "ANGLE_RES = math.radians(0.75)\n",
    "hkl = select_hkl(LATTICE, e_max=20e3*EV, keep_harmonics=False)\n",
    "all_rot = angle_to_rot(\n",
    "    torch.arange(0, torch.pi / 2.0, ANGLE_RES),\n",
    "    torch.arange(0, torch.pi / 2.0, ANGLE_RES),\n",
    "    torch.arange(0, torch.pi / 2.0, ANGLE_RES),\n",
    ").reshape(-1, 3, 3)\n",
    "\n",
    "compute_matching_rate_comp = torch.compile(compute_matching_rate, fullgraph=True, dynamic=False)\n",
    "hkl_reciprocal_rot_to_uq_comp = torch.compile(hkl_reciprocal_rot_to_uq, fullgraph=True, dynamic=False)\n",
    "\n",
    "# simulation\n",
    "reciprocal = lattice_to_reciprocal(LATTICE)\n",
    "uq_exp_shift = uq_exp.movedim(0, -2).contiguous()\n",
    "rate = torch.empty(*torch.broadcast_shapes(uq_exp_shift.shape[:-2], all_rot.shape[:-2]))\n",
    "for i in tqdm(range(0, len(all_rot), 1000)):\n",
    "    uq_simul = hkl_reciprocal_rot_to_uq_comp(hkl, reciprocal, all_rot[i:i+1000])\n",
    "    uq_simul = uq_simul.movedim(0, -2).contiguous()\n",
    "    # rate[i:i+1000] = compute_matching_rate_comp(uq_exp_shift, uq_simul, phi_max=math.radians(0.5), _no_c=True)\n",
    "    rate[i:i+1000] = compute_matching_rate(uq_exp_shift, uq_simul, phi_max=math.radians(0.5))\n",
    "print(f\"best matching rate {int(rate.max())}\")\n",
    "\n",
    "# plot result\n",
    "point_simul = full_simulation(hkl, LATTICE, all_rot[rate.argmax()], PONI)\n",
    "plt.scatter(*(point_exp / DETECTOR[\"pxl\"]).movedim(-1, 0), label=\"experimental\")\n",
    "plt.scatter(*(point_simul / DETECTOR[\"pxl\"]).movedim(-1, 0), label=\"simulated\")\n",
    "plt.legend()\n",
    "plt.show()"
   ]
  },
  {
   "cell_type": "code",
   "execution_count": null,
   "id": "183efc11-8924-4b89-a98f-921ad4b5967e",
   "metadata": {},
   "outputs": [],
   "source": [
    "# print(all_rot[rate.argsort(descending=True)[1]])\n",
    "# print(rot)\n",
    "print(rate.sort(descending=True).values[:10])\n",
    "\n",
    "point_simul = full_simulation(hkl, LATTICE, all_rot[rate.argsort(descending=True)[3]], PONI)\n",
    "# plt.scatter(*(point / DETECTOR[\"pxl\"]).movedim(-1, 0), label=\"simulated\")\n",
    "plt.scatter(*(point_exp / DETECTOR[\"pxl\"]).movedim(-1, 0), label=\"experimental\")\n",
    "plt.scatter(*(point_simul / DETECTOR[\"pxl\"]).movedim(-1, 0), label=\"simulated\")\n",
    "plt.legend()\n",
    "plt.show()"
   ]
  },
  {
   "cell_type": "markdown",
   "id": "fe4edfb6-40cd-403e-ba69-e700cf2ee56b",
   "metadata": {},
   "source": [
    "#### Simple basic test and timing"
   ]
  },
  {
   "cell_type": "code",
   "execution_count": null,
   "id": "05fc576f-45a2-4497-8ada-8dc0985f4bae",
   "metadata": {},
   "outputs": [],
   "source": [
    "# simple timing\n",
    "\n",
    "BATCH = 100  # number of simulated diagrams\n",
    "ROT = torch.eye(3)\n",
    "\n",
    "# case float64\n",
    "lattice, rot, poni = LATTICE.clone().to(torch.float64), ROT.clone().to(torch.float64), PONI.clone().to(torch.float64)\n",
    "speed = min(timeit.repeat(lambda: full_simulation(hkl, lattice, rot, poni), repeat=10, number=BATCH)) / BATCH\n",
    "print(f\"float64: it takes {speed*1e6:.2f}us by simulation <=> {1.0/speed:.2f}Hz\")\n",
    "\n",
    "# case float32\n",
    "lattice, rot, poni = LATTICE.clone().to(torch.float32), ROT.clone().to(torch.float32), PONI.clone().to(torch.float32)\n",
    "speed = min(timeit.repeat(lambda: full_simulation(hkl, lattice, rot, poni), repeat=10, number=BATCH)) / BATCH\n",
    "print(f\"float32: it takes {speed*1e6:.2f}us by simulation <=> {1.0/speed:.2f}Hz\")\n",
    "\n",
    "# case float64 batched\n",
    "lattice, rot, poni = LATTICE.clone().to(torch.float64), ROT.clone().to(torch.float64), PONI.clone().to(torch.float64)\n",
    "lattice = lattice[None, :].expand(BATCH, -1)\n",
    "speed = min(timeit.repeat(lambda: full_simulation(hkl, lattice, rot, poni), repeat=10, number=1)) / BATCH\n",
    "print(f\"float64 batched: it takes {speed*1e6:.2f}us by simulation <=> {1.0/speed:.2f}Hz\")\n",
    "\n",
    "# case float32 batched\n",
    "lattice, rot, poni = LATTICE.clone().to(torch.float32), ROT.clone().to(torch.float32), PONI.clone().to(torch.float32)\n",
    "lattice = lattice[None, :].expand(BATCH, -1)\n",
    "speed = min(timeit.repeat(lambda: full_simulation(hkl, lattice, rot, poni), repeat=10, number=1)) / BATCH\n",
    "print(f\"float32 batched: it takes {speed*1e6:.2f}us by simulation <=> {1.0/speed:.2f}Hz\")\n",
    "\n",
    "# case float64 batched compiled\n",
    "lattice, rot, poni = LATTICE.clone().to(torch.float64), ROT.clone().to(torch.float64), PONI.clone().to(torch.float64)\n",
    "lattice = lattice[None, :].expand(BATCH, -1)\n",
    "full_simulation_comp = torch.compile(full_simulation, dynamic=False)\n",
    "speed = min(timeit.repeat(lambda: full_simulation_comp(hkl, lattice, rot, poni), repeat=10, number=1)) / BATCH\n",
    "print(f\"float64 batched compiled: it takes {speed*1e6:.2f}us by simulation <=> {1.0/speed:.2f}Hz\")\n",
    "\n",
    "# case float32 batched compiled\n",
    "lattice, rot, poni = LATTICE.clone().to(torch.float32), ROT.clone().to(torch.float32), PONI.clone().to(torch.float32)\n",
    "lattice = lattice[None, :].expand(BATCH, -1)\n",
    "full_simulation_comp = torch.compile(full_simulation, dynamic=False)\n",
    "speed = min(timeit.repeat(lambda: full_simulation_comp(hkl, lattice, rot, poni), repeat=10, number=1)) / BATCH\n",
    "print(f\"float32 batched compiled: it takes {speed*1e6:.2f}us by simulation <=> {1.0/speed:.2f}Hz\")\n",
    "\n",
    "if DEVICE.type == \"cuda\":\n",
    "    # case float64 batched compiled gpu\n",
    "    lattice, rot, poni = LATTICE.clone().to(dytpe=torch.float64, device=DEVICE), ROT.clone().to(dtype=torch.float64, device=DEVICE), PONI.clone().to(dytpe=torch.float64, device=DEVICE)\n",
    "    lattice = lattice[None, :].expand(BATCH, -1)\n",
    "    full_simulation_comp = torch.compile(full_simulation, dynamic=False)\n",
    "    speed = min(timeit.repeat(lambda: full_simulation_comp(hkl, lattice, rot, poni), repeat=10, number=1)) / BATCH\n",
    "    print(f\"float64 batched compiled gpu: it takes {speed*1e6:.2f}us by simulation <=> {1.0/speed:.2f}Hz\")\n",
    "    \n",
    "    # case float32 batched compiled gpu\n",
    "    lattice, rot, poni = LATTICE.clone().to(dytpe=torch.float32, device=DEVICE), ROT.clone().to(dtype=torch.float32, device=DEVICE), PONI.clone().to(dytpe=torch.float32, device=DEVICE)\n",
    "    lattice = lattice[None, :].expand(BATCH, -1)\n",
    "    full_simulation_comp = torch.compile(full_simulation, dynamic=False)\n",
    "    speed = min(timeit.repeat(lambda: full_simulation_comp(hkl, lattice, rot, poni), repeat=10, number=1)) / BATCH\n",
    "    print(f\"float32 batched compiled gpu: it takes {speed*1e6:.2f}us by simulation <=> {1.0/speed:.2f}Hz\")"
   ]
  },
  {
   "cell_type": "markdown",
   "id": "d70f83f7-5184-4356-bea9-9ab343ec5a2b",
   "metadata": {},
   "source": [
    "#### Propagation of positional uncertainty\n",
    "\n",
    "Let $f$ be a derivable function such that $\\tilde{y} = f(\\tilde{x})$.<br>\n",
    "Let $\\epsilon$ be the uncertainty on the image such that $\\tilde{y} = y + \\epsilon$ and $\\eta$ the uncertainty on the antecedent such that $\\tilde{x} = x + \\eta$.<br>\n",
    "\n",
    "By definition, $\\frac{df(x)}{dx} = \\lim\\limits_{\\eta \\to 0} \\frac{f(x + \\eta) - f(x)}{\\eta}$\n",
    "\n",
    "\n",
    "$\\tilde{x} = x + \\epsilon \\Leftrightarrow \\tilde{y} = f(x + \\epsilon)$"
   ]
  },
  {
   "cell_type": "markdown",
   "id": "ff0fa023-63a9-4e57-9f96-c55117c5dd8b",
   "metadata": {},
   "source": [
    "### Projection gnomonic"
   ]
  },
  {
   "cell_type": "code",
   "execution_count": null,
   "id": "a5c69005-8090-4591-b1b2-1b7406f306ed",
   "metadata": {},
   "outputs": [],
   "source": [
    "def cam_to_gnom(cam_point: torch.Tensor, cam_poni: torch.Tensor, gnom_poni: torch.Tensor) -> torch.Tensor:\n",
    "    \"\"\"Project the camera point into the gnomonic space.\n",
    "\n",
    "    Parameters\n",
    "    ----------\n",
    "    cam_point : torch.Tensor\n",
    "        The projected ray uf on the detector. Transmitted to ``detector_to_ray``.\n",
    "    cam_poni : torch.Tensor\n",
    "        The real detector callibration parameters. Transmitted to ``detector_to_ray``.\n",
    "    gnom_poni : torch.Tensor\n",
    "        The virtual gnomonic detector position. Transmitted to ``ray_to_detector``.\n",
    "\n",
    "    Returns\n",
    "    -------\n",
    "    gnom_point : torch.Tensor\n",
    "        The projected ray uq on the virtual gnomonic detector.\n",
    "    \"\"\"\n",
    "    u_f = dif.detector_to_ray(cam_point, cam_poni)\n",
    "    u_q = dif.uf_to_uq(u_f)\n",
    "    gnom_point, _ = dif.ray_to_detector(u_q, gnom_poni)\n",
    "    return gnom_point\n",
    "\n",
    "\n",
    "def gnom_to_cam(gnom_point: torch.Tensor, gnom_poni: torch.Tensor, cam_poni: torch.Tensor) -> torch.Tensor:\n",
    "    \"\"\"Project the camera point into the gnomonic space.\n",
    "\n",
    "    Parameters\n",
    "    ----------\n",
    "    gnom_point : torch.Tensor\n",
    "        The projected ray uq on the virtual gnomonic detector. Transmitted to ``detector_to_ray``.\n",
    "    gnom_poni : torch.Tensor\n",
    "        The virtual gnomonic detector position. Transmitted to ``ray_to_detector``.\n",
    "    cam_poni : torch.Tensor\n",
    "        The real detector callibration parameters. Transmitted to ``detector_to_ray``.\n",
    "\n",
    "    Returns\n",
    "    -------\n",
    "    cam_point : torch.Tensor\n",
    "        The projected ray uf on the detector.\n",
    "    \"\"\"\n",
    "    u_q = dif.detector_to_ray(gnom_point, gnom_poni)\n",
    "    u_f = dif.uq_to_uf(u_q)\n",
    "    cam_point, _ = dif.ray_to_detector(u_f, cam_poni)\n",
    "    return cam_point"
   ]
  },
  {
   "cell_type": "markdown",
   "id": "dd048315-afd5-4b70-ad34-1e033f34ae33",
   "metadata": {},
   "source": [
    "#### Points projection"
   ]
  },
  {
   "cell_type": "code",
   "execution_count": null,
   "id": "79a2f89d-3ada-402d-8cb0-e5f94cb33024",
   "metadata": {},
   "outputs": [],
   "source": [
    "# create noisy diagram\n",
    "cam_point = simulate(LATTICE, PONI)\n",
    "exp_point = cam_point + torch.randn_like(cam_point) * (0.01 * cam_point.std())\n",
    "gnom_point = cam_to_gnom(exp_point, PONI, GNOM_PONI)\n",
    "\n",
    "plt.subplot(1, 2, 1)\n",
    "plt.scatter(*(cam_point / DETECTOR[\"pxl\"]).movedim(-1, 0))\n",
    "plt.scatter(*(exp_point / DETECTOR[\"pxl\"]).movedim(-1, 0), color=\"orange\")\n",
    "plt.subplot(1, 2, 2)\n",
    "plt.scatter(*gnom_point.movedim(-1, 0))\n",
    "plt.show()"
   ]
  },
  {
   "cell_type": "markdown",
   "id": "db118b84-1b39-4dee-b5a9-1a5b599966ea",
   "metadata": {},
   "source": [
    "#### Image projection"
   ]
  },
  {
   "cell_type": "code",
   "execution_count": null,
   "id": "b1806a6a-d5e8-47cd-b7d9-24a233776f12",
   "metadata": {},
   "outputs": [],
   "source": [
    "# create a virtual image\n",
    "\n",
    "from laueimproc.gmm.gmm import gmm2d\n",
    "\n",
    "pixels = torch.meshgrid(torch.arange(DETECTOR[\"shape\"][0]), torch.arange(DETECTOR[\"shape\"][1]), indexing=\"ij\")\n",
    "pixels = torch.cat([p.ravel().unsqueeze(-1)for p in pixels], dim=1)  # shape (n, 2)\n",
    "spots_pos = simulate(LATTICE, PONI) / DETECTOR[\"pxl\"]  # shape (k, 2)\n",
    "img = torch.zeros(DETECTOR[\"shape\"]).ravel()\n",
    "for i in tqdm(range(len(spots_pos))):\n",
    "    img += gmm2d(pixels, spots_pos[i][None, :], 10.0*torch.eye(2)[None, :, :], torch.tensor(1.0)[None])\n",
    "img = img.reshape(*DETECTOR[\"shape\"])\n",
    "img /= img.amax()\n",
    "\n",
    "# to numpy\n",
    "img_f32 = img.numpy(force=True)\n",
    "img *= 65335\n",
    "img + 0.5\n",
    "img_u16 = img.numpy().astype(np.uint16)\n",
    "\n",
    "plt.imshow(img_u16, cmap=\"plasma\")\n",
    "plt.show()"
   ]
  },
  {
   "cell_type": "code",
   "execution_count": null,
   "id": "ae964b16-d65f-43ab-9078-edc457cd9202",
   "metadata": {},
   "outputs": [],
   "source": [
    "# create map convertion for cv2\n",
    "\n",
    "# forward for estimation of shape\n",
    "i_max = DETECTOR[\"shape\"][0] * DETECTOR[\"pxl\"]\n",
    "j_max = DETECTOR[\"shape\"][1] * DETECTOR[\"pxl\"]\n",
    "cam = torch.tensor(\n",
    "    [[0, 0], [i_max/2, 0], [i_max, 0], [i_max/2, j_max/2], [i_max/2, j_max], [i_max/2, j_max], [0, j_max], [0, j_max/2]]\n",
    ")\n",
    "gnom = cam_to_gnom(cam, PONI, GNOM_PONI)\n",
    "\n",
    "# backward for interpolation\n",
    "gnom_shape = DETECTOR[\"shape\"]  # best shape diff\n",
    "gnom = (\n",
    "    torch.linspace(gnom[:, 0].amin(), gnom[:, 0].amax(), gnom_shape[0]),  \n",
    "    torch.linspace(gnom[:, 1].amin(), gnom[:, 1].amax(), gnom_shape[1]),\n",
    ")\n",
    "gnom = torch.meshgrid(*gnom, indexing=\"ij\")\n",
    "gnom = torch.cat([g.ravel().unsqueeze(1) for g in gnom], dim=1)\n",
    "cam = gnom_to_cam(gnom, GNOM_PONI, PONI)\n",
    "cam /= DETECTOR[\"pxl\"]\n",
    "\n",
    "# to cv2 map\n",
    "map1 = cam[..., 0].reshape(gnom_shape).numpy().astype(np.float32)\n",
    "map2 = cam[..., 1].reshape(gnom_shape).numpy().astype(np.float32)"
   ]
  },
  {
   "cell_type": "code",
   "execution_count": null,
   "id": "e317c24b-d2cc-421c-bbb8-de85ded2fccb",
   "metadata": {},
   "outputs": [],
   "source": [
    "# interpolation\n",
    "\n",
    "# simple convertion\n",
    "gnom_img = cv2.remap(img_u16, map2, map1, interpolation=cv2.INTER_LINEAR)\n",
    "plt.imshow(gnom_img, cmap=\"plasma\")\n",
    "plt.show()\n",
    "\n",
    "BATCH = 10\n",
    "\n",
    "# case uint16 bilinear\n",
    "speed = min(timeit.repeat(lambda: cv2.remap(img_u16, map2, map1, interpolation=cv2.INTER_LINEAR), repeat=10, number=BATCH)) / BATCH\n",
    "print(f\"uint16 bilinear: it takes {speed*1e3:.2f}ms by image\")\n",
    "\n",
    "# case uint16 bicubic\n",
    "speed = min(timeit.repeat(lambda: cv2.remap(img_u16, map2, map1, interpolation=cv2.INTER_CUBIC), repeat=10, number=BATCH)) / BATCH\n",
    "print(f\"uint16 bicubic: it takes {speed*1e3:.2f}ms by image\")\n",
    "\n",
    "# case float32 bilinear\n",
    "speed = min(timeit.repeat(lambda: cv2.remap(img_f32, map2, map1, interpolation=cv2.INTER_LINEAR), repeat=10, number=BATCH)) / BATCH\n",
    "print(f\"float32 bilinear: it takes {speed*1e3:.2f}ms by image\")\n",
    "\n",
    "# case float32 bicubic\n",
    "speed = min(timeit.repeat(lambda: cv2.remap(img_f32, map2, map1, interpolation=cv2.INTER_CUBIC), repeat=10, number=BATCH)) / BATCH\n",
    "print(f\"float32 bicubic: it takes {speed*1e3:.2f}ms by image\")"
   ]
  }
 ],
 "metadata": {
  "kernelspec": {
   "display_name": "Python 3 (ipykernel)",
   "language": "python",
   "name": "python3"
  },
  "language_info": {
   "codemirror_mode": {
    "name": "ipython",
    "version": 3
   },
   "file_extension": ".py",
   "mimetype": "text/x-python",
   "name": "python",
   "nbconvert_exporter": "python",
   "pygments_lexer": "ipython3",
   "version": "3.12.4"
  }
 },
 "nbformat": 4,
 "nbformat_minor": 5
}
