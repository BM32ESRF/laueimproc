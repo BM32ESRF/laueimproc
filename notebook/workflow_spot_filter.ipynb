{
 "cells": [
  {
   "cell_type": "markdown",
   "id": "7057f608",
   "metadata": {},
   "source": [
    "## This notebook shows the canonical mean to select some spots with a simple filter\n",
    "* It is possible to interact with external libraries, have a look on the `init_diagram` notebook.\n",
    "* To instanciate a `Diagram` allows you to apply efficiently filters based on image processing.\n",
    "* They are several means to instanciate a `diagram` some of them are betters than overs."
   ]
  },
  {
   "cell_type": "code",
   "execution_count": null,
   "id": "1f43a2ab",
   "metadata": {},
   "outputs": [],
   "source": [
    "%matplotlib notebook\n",
    "\n",
    "import multiprocessing.pool\n",
    "import pathlib\n",
    "\n",
    "import matplotlib.pyplot as plt\n",
    "import torch\n",
    "import tqdm\n",
    "\n",
    "from laueimproc.io.download import get_samples  # gives access to the dataset\n",
    "from laueimproc import Diagram"
   ]
  },
  {
   "cell_type": "code",
   "execution_count": null,
   "id": "821074a6",
   "metadata": {},
   "outputs": [],
   "source": [
    "\"\"\"Define some utils\"\"\"\n",
    "\n",
    "def select_items(criteria: torch.Tensor, threshold: float, nb_min: int) -> torch.Tensor:\n",
    "    \"\"\"Select a least `nb_min` items and also `criteria` >= `threshold`.\"\"\"\n",
    "    if len(criteria) <= nb_min:\n",
    "        return torch.arange(len(criteria))\n",
    "    indexs = torch.argsort(confidence, descending=True)  # the indexs from the best to the worse\n",
    "    threshold = min(threshold, indexs[nb_min-1].item())\n",
    "    return criteria >= threshold"
   ]
  },
  {
   "cell_type": "markdown",
   "id": "8c9a90a1",
   "metadata": {},
   "source": [
    "## Set and take control of the global configuration parameters\n",
    "* The cache is automaticaly managed, but you can control it a bit."
   ]
  },
  {
   "cell_type": "code",
   "execution_count": null,
   "id": "53d63482",
   "metadata": {},
   "outputs": [],
   "source": [
    "# manage context\n",
    "\n",
    "from laueimproc.opti.manager import DiagramManager\n",
    "\n",
    "manager = DiagramManager()\n",
    "manager.verbose = True  # to display the operations in background\n",
    "manager.max_mem_percent = 80  # trigger cache clear after 80% of ram full, default based on swapiness\n",
    "manager.update()  # dereference unreachable diagrams"
   ]
  },
  {
   "cell_type": "markdown",
   "id": "3d154742",
   "metadata": {},
   "source": [
    "## Initialise the diagrams\n",
    "* The different ways of initializing a diagram are described in detail in the `init_diagram` notebook."
   ]
  },
  {
   "cell_type": "code",
   "execution_count": null,
   "id": "e6d516d9",
   "metadata": {
    "scrolled": false
   },
   "outputs": [],
   "source": [
    "all_files = sorted(get_samples().iterdir())  # the list of all images path\n",
    "# all_files = list(pathlib.Path(\"/data/visitor/a322855/bm32/20240221/RAW_DATA/Almardi/Almardi_map2DGemardi3_GOOD_0004/scan0002\").iterdir())\n",
    "diagrams = [Diagram(f) for f in all_files]\n",
    "for diagram in diagrams:\n",
    "    diagram.find_spots()\n",
    "    # diagram.plot(plt.figure(layout=\"tight\", figsize=(8, 8))); plt.show()"
   ]
  },
  {
   "cell_type": "markdown",
   "id": "9f1b614b",
   "metadata": {},
   "source": [
    "### Basic filtering"
   ]
  },
  {
   "cell_type": "code",
   "execution_count": null,
   "id": "3eeb0613",
   "metadata": {
    "scrolled": true
   },
   "outputs": [],
   "source": [
    "\"\"\"Sorted by intensity\"\"\"\n",
    "\n",
    "for diagram in tqdm.tqdm(diagrams, smoothing=0.01):\n",
    "    intensities = diagram.compute_pxl_intensities()\n",
    "    sorted_indexs = torch.argsort(intensities, descending=True)\n",
    "    diagram.filter_spots(sorted_indexs, msg=\"sorted by intensities\", inplace=True)\n",
    "    # print(diagram)\n",
    "    # diagram.plot(plt.figure(layout=\"tight\", figsize=(8, 8))); plt.show()"
   ]
  },
  {
   "cell_type": "markdown",
   "id": "c842c9bb",
   "metadata": {},
   "source": [
    "### Fit spots roi with gaussians"
   ]
  },
  {
   "cell_type": "code",
   "execution_count": null,
   "id": "f0e48d19",
   "metadata": {
    "scrolled": false
   },
   "outputs": [],
   "source": [
    "for diagram in tqdm.tqdm(diagrams, smoothing=0.01):\n",
    "    mean, cov, infodict = diagram.fit_gaussian(photon_density=10900.0, tol=True)\n",
    "    confidence = 3.0 * infodict[\"tol\"]  # 99% confidence interval on pixel position\n",
    "    selection = select_items(-confidence, -0.5, 10)  # 10 best and position +- 0.5pxl\n",
    "    diagram.filter_spots(selection, msg=\"remove spots with uncertain position\", inplace=True)\n",
    "    # print(diagram)\n",
    "    # diagram.plot(plt.figure(layout=\"tight\", figsize=(8, 8))); plt.show()"
   ]
  }
 ],
 "metadata": {
  "kernelspec": {
   "display_name": "laueimproc",
   "language": "python",
   "name": "laueimproc"
  },
  "language_info": {
   "codemirror_mode": {
    "name": "ipython",
    "version": 3
   },
   "file_extension": ".py",
   "mimetype": "text/x-python",
   "name": "python",
   "nbconvert_exporter": "python",
   "pygments_lexer": "ipython3",
   "version": "3.12.2"
  }
 },
 "nbformat": 4,
 "nbformat_minor": 5
}
