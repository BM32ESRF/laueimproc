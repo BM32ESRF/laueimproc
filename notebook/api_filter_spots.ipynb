{
 "cells": [
  {
   "cell_type": "markdown",
   "id": "8b03ec26",
   "metadata": {},
   "source": [
    "## This notebook shows all the means to select some spots"
   ]
  },
  {
   "cell_type": "code",
   "execution_count": null,
   "id": "a21f37f8",
   "metadata": {},
   "outputs": [],
   "source": [
    "%matplotlib inline\n",
    "\n",
    "import time\n",
    "\n",
    "import torch\n",
    "\n",
    "from laueimproc import Diagram  # you don't need to import more to access all the filters\n",
    "from laueimproc.io import get_samples  # gives access to the dataset"
   ]
  },
  {
   "cell_type": "markdown",
   "id": "d10b56d4",
   "metadata": {},
   "source": [
    "### Firstly, we have to iniitialize a diagram with a lot of spots\n",
    "* For more details about the ways to create a Diagram, please have a look on the `api_init_diagram` notebook."
   ]
  },
  {
   "cell_type": "code",
   "execution_count": null,
   "id": "e40ea1b0",
   "metadata": {},
   "outputs": [],
   "source": [
    "file = next(get_samples().iterdir())\n",
    "diag_ref = Diagram(file)\n",
    "diag_ref.find_spots()  # see `peaks_search` for details"
   ]
  },
  {
   "cell_type": "markdown",
   "id": "71eb8301",
   "metadata": {},
   "source": [
    "### Secondly, let filtering!"
   ]
  },
  {
   "cell_type": "code",
   "execution_count": null,
   "id": "5d43953a",
   "metadata": {},
   "outputs": [],
   "source": [
    "\"\"\"Very basic slow examples for demonstration.\"\"\"\n",
    "\n",
    "# first) Having an idear of the initial diagram\n",
    "diag1 = diag_ref.clone()\n",
    "print(\"*** before filtering ***\")\n",
    "print(diag1)\n",
    "\n",
    "# 1) Filtering by indices\n",
    "indices_to_keep = list(range(0, len(diag1), 2))\n",
    "diag2 = diag1.filter_spots(indices_to_keep, \"keep even spots from indices\", inplace=False)\n",
    "\n",
    "# 2) filtering by mask\n",
    "mask_to_keep = [True if i%2 == 0 else False for i in range(len(diag2))]\n",
    "diag3 = diag2.filter_spots(mask_to_keep, \"keep even spots from mask\", inplace=False)\n",
    "\n",
    "# 3) sorted the spots\n",
    "criteria = diag3.compute_rois_sum()\n",
    "sorted_indices = torch.argsort(criteria, descending=True)\n",
    "diag4 = diag3.filter_spots(sorted_indices, \"sorted spots by intensities\", inplace=False)\n",
    "\n",
    "# final) Resume current state\n",
    "print(\"*** after filtering ***\")\n",
    "print(diag4)"
   ]
  },
  {
   "cell_type": "code",
   "execution_count": null,
   "id": "afdaa44c",
   "metadata": {
    "scrolled": true
   },
   "outputs": [],
   "source": [
    "\"\"\"Same examples with no fork and inplace (more efficient).\"\"\"\n",
    "\n",
    "# first) Having an idear of the initial diagram\n",
    "diag = diag_ref.clone()\n",
    "print(\"*** before filtering ***\")\n",
    "print(diag)\n",
    "\n",
    "# 1) Filtering by indices\n",
    "indices_to_keep = torch.arange(0, len(diag), 2)\n",
    "diag.filter_spots(indices_to_keep, \"keep even spots from indices\")\n",
    "\n",
    "# 2) filtering by mask\n",
    "mask_to_keep = torch.arange(len(diag))%2 == 0\n",
    "diag.filter_spots(mask_to_keep, \"keep even spots from mask\")\n",
    "\n",
    "# 3) sorted the spots\n",
    "criteria = diag.compute_rois_sum()\n",
    "sorted_indices = torch.argsort(criteria, descending=True)\n",
    "diag.filter_spots(sorted_indices, \"sorted spots by intensities\")\n",
    "\n",
    "# final) Resume current state\n",
    "print(\"*** after filtering ***\")\n",
    "print(diag)"
   ]
  },
  {
   "cell_type": "markdown",
   "id": "ec5e4a3f",
   "metadata": {},
   "source": [
    "### Thridly, compare speed"
   ]
  },
  {
   "cell_type": "code",
   "execution_count": null,
   "id": "b9c88ee0",
   "metadata": {},
   "outputs": [],
   "source": [
    "\"\"\"Timing the means to filter.\"\"\"\n",
    "\n",
    "# exec the cell twice\n",
    "\n",
    "INDEXS = torch.arange(0, len(diag_ref), 2)\n",
    "MASK = torch.arange(len(diag_ref)) % 2 == 0\n",
    "\n",
    "\n",
    "def filter_inplace_index(diag):\n",
    "    diag.filter_spots(INDEXS, \"keep even spots from indices\", inplace=True)\n",
    "\n",
    "def filter_inplace_cond(diag):\n",
    "    diag.filter_spots(MASK, \"keep even spots from mask\", inplace=True)\n",
    "\n",
    "def filter_copy_index(diag):\n",
    "    diag = diag.filter_spots(INDEXS, \"keep even spots from indices\", inplace=False)\n",
    "\n",
    "def filter_copy_cond(diag):\n",
    "    diag = diag.filter_spots(MASK, \"keep even spots from mask\", inplace=False)\n",
    "\n",
    "def timer(func):\n",
    "    duration = torch.inf\n",
    "    for _ in range(5):\n",
    "        diags = [diag_ref.clone() for _ in range(100)]\n",
    "        t_start = time.time()\n",
    "        for diag_ in diags:\n",
    "            func(diag_)\n",
    "        duration = min(duration, (time.time()-t_start)/len(diag))\n",
    "    return duration\n",
    "\n",
    "time_copy_index = timer(filter_copy_index)\n",
    "time_inplace_index = timer(filter_inplace_index)\n",
    "time_copy_cond = timer(filter_copy_cond)\n",
    "time_inplace_cond = timer(filter_inplace_cond)\n",
    "print(f\"inplace (index) is {time_copy_index/time_inplace_index:.2f} times faster than copy\")\n",
    "print(f\"inplace (cond) is {time_copy_cond/time_inplace_cond:.2f} times faster than copy\")"
   ]
  }
 ],
 "metadata": {
  "kernelspec": {
   "display_name": "Python 3 (ipykernel)",
   "language": "python",
   "name": "python3"
  },
  "language_info": {
   "codemirror_mode": {
    "name": "ipython",
    "version": 3
   },
   "file_extension": ".py",
   "mimetype": "text/x-python",
   "name": "python",
   "nbconvert_exporter": "python",
   "pygments_lexer": "ipython3",
   "version": "3.12.3"
  }
 },
 "nbformat": 4,
 "nbformat_minor": 5
}
