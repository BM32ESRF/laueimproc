{
 "cells": [
  {
   "cell_type": "markdown",
   "id": "7057f608",
   "metadata": {},
   "source": [
    "## This notebook shows the canonical mean to select some spots with a simple filter\n",
    "* It is possible to interact with external libraries, have a look on the `init_diagram` notebook.\n",
    "* To instanciate a `Diagram` allows you to apply efficiently filters based on image processing.\n",
    "* They are several means to instanciate a `diagram` some of them are betters than overs."
   ]
  },
  {
   "cell_type": "code",
   "execution_count": 1,
   "id": "1f43a2ab",
   "metadata": {},
   "outputs": [],
   "source": [
    "%matplotlib notebook\n",
    "\n",
    "import multiprocessing.pool\n",
    "import pathlib\n",
    "\n",
    "import matplotlib.pyplot as plt\n",
    "import torch\n",
    "import tqdm\n",
    "\n",
    "from laueimproc.io.download import get_samples  # gives access to the dataset\n",
    "from laueimproc import Diagram"
   ]
  },
  {
   "cell_type": "code",
   "execution_count": 2,
   "id": "821074a6",
   "metadata": {},
   "outputs": [],
   "source": [
    "\"\"\"Define some utils\"\"\"\n",
    "\n",
    "def select_items(criteria: torch.Tensor, threshold: float, nb_min: int) -> torch.Tensor:\n",
    "    \"\"\"Select a least `nb_min` items and also `criteria` >= `threshold`.\"\"\"\n",
    "    if len(criteria) <= nb_min:\n",
    "        return torch.arange(len(criteria))\n",
    "    indexs = torch.argsort(confidence, descending=True)  # the indexs from the best to the worse\n",
    "    threshold = min(threshold, indexs[nb_min-1].item())\n",
    "    return criteria >= threshold"
   ]
  },
  {
   "cell_type": "markdown",
   "id": "8c9a90a1",
   "metadata": {},
   "source": [
    "## Set and take control of the global configuration parameters\n",
    "* The cache is automaticaly managed, but you can control it a bit."
   ]
  },
  {
   "cell_type": "code",
   "execution_count": 3,
   "id": "53d63482",
   "metadata": {},
   "outputs": [
    {
     "name": "stdout",
     "output_type": "stream",
     "text": [
      "update tracked diagrams, 0 are freed, 0 remain\n"
     ]
    }
   ],
   "source": [
    "# manage context\n",
    "\n",
    "from laueimproc.opti.manager import DiagramManager\n",
    "\n",
    "manager = DiagramManager()\n",
    "manager.verbose = True  # to display the operations in background\n",
    "manager.ram_limit = 0.8  # trigger cache clear after 80% of ram full, default based on swapiness\n",
    "manager.update()  # dereference unreachable diagrams"
   ]
  },
  {
   "cell_type": "markdown",
   "id": "3d154742",
   "metadata": {},
   "source": [
    "## Initialise the diagrams\n",
    "* The different ways of initializing a diagram are described in detail in the `init_diagram` notebook."
   ]
  },
  {
   "cell_type": "code",
   "execution_count": 4,
   "id": "e6d516d9",
   "metadata": {
    "scrolled": false
   },
   "outputs": [],
   "source": [
    "all_files = sorted(get_samples().iterdir())  # the list of all images path\n",
    "# all_files = list(pathlib.Path(\"/data/visitor/a322855/bm32/20240221/RAW_DATA/Almardi/Almardi_map2DGemardi3_GOOD_0004/scan0002\").iterdir())\n",
    "diagrams = [Diagram(f) for f in all_files]\n",
    "for diagram in diagrams:\n",
    "    diagram.find_spots()\n",
    "    # diagram.plot(plt.figure(layout=\"tight\", figsize=(8, 8))); plt.show()"
   ]
  },
  {
   "cell_type": "markdown",
   "id": "9f1b614b",
   "metadata": {},
   "source": [
    "### Basic filtering"
   ]
  },
  {
   "cell_type": "code",
   "execution_count": 5,
   "id": "3eeb0613",
   "metadata": {
    "scrolled": true
   },
   "outputs": [
    {
     "name": "stderr",
     "output_type": "stream",
     "text": [
      "100%|████████████████████████████████████████████████████| 100/100 [00:04<00:00, 24.35it/s]\n"
     ]
    }
   ],
   "source": [
    "\"\"\"Sorted by intensity\"\"\"\n",
    "\n",
    "for diagram in tqdm.tqdm(diagrams):\n",
    "    intensities = diagram.compute_pxl_intensities()\n",
    "    sorted_indexs = torch.argsort(intensities, descending=True)\n",
    "    diagram.filter_spots(sorted_indexs, msg=\"sorted by intensities\", inplace=True)\n",
    "    # print(diagram)\n",
    "    # diagram.plot(plt.figure(layout=\"tight\", figsize=(8, 8))); plt.show()"
   ]
  },
  {
   "cell_type": "markdown",
   "id": "c842c9bb",
   "metadata": {},
   "source": [
    "### Fit spots roi with gaussians"
   ]
  },
  {
   "cell_type": "code",
   "execution_count": 7,
   "id": "f0e48d19",
   "metadata": {
    "scrolled": false
   },
   "outputs": [
    {
     "name": "stderr",
     "output_type": "stream",
     "text": [
      " 12%|██████▏                                             | 12/100 [00:00<00:00, 107.81it/s]"
     ]
    },
    {
     "name": "stdout",
     "output_type": "stream",
     "text": [
      "torch.Size([5, 120, 2]) torch.Size([5, 12, 10])\n",
      "torch.Size([15, 1410, 2]) torch.Size([15, 47, 30])\n",
      "torch.Size([25, 2015, 2]) torch.Size([25, 65, 31])\n",
      "torch.Size([22, 1450, 2]) torch.Size([22, 58, 25])\n",
      "torch.Size([26, 1862, 2]) torch.Size([26, 49, 38])\n",
      "torch.Size([16, 1927, 2]) torch.Size([16, 47, 41])\n",
      "torch.Size([127, 1470, 2]) torch.Size([127, 49, 30])\n",
      "torch.Size([177, 3393, 2]) torch.Size([177, 87, 39])\n",
      "torch.Size([134, 2072, 2]) torch.Size([134, 56, 37])\n",
      "torch.Size([99, 3225, 2]) torch.Size([99, 75, 43])\n",
      "torch.Size([112, 1856, 2]) torch.Size([112, 64, 29])\n",
      "torch.Size([189, 1840, 2]) torch.Size([189, 46, 40])\n",
      "torch.Size([186, 2183, 2]) torch.Size([186, 59, 37])\n",
      "torch.Size([157, 2035, 2]) torch.Size([157, 55, 37])\n",
      "torch.Size([113, 897, 2]) torch.Size([113, 39, 23])\n",
      "torch.Size([79, 1944, 2]) torch.Size([79, 72, 27])\n",
      "torch.Size([110, 2054, 2]) torch.Size([110, 79, 26])\n",
      "torch.Size([108, 1794, 2]) torch.Size([108, 39, 46])\n",
      "torch.Size([228, 484, 2]) torch.Size([228, 22, 22])\n",
      "torch.Size([120, 441, 2]) torch.Size([120, 21, 21])\n",
      "torch.Size([13, 1716, 2]) torch.Size([13, 44, 39])\n",
      "torch.Size([78, 513, 2]) torch.Size([78, 27, 19])\n"
     ]
    },
    {
     "name": "stderr",
     "output_type": "stream",
     "text": [
      " 35%|██████████████████▌                                  | 35/100 [00:00<00:00, 89.93it/s]"
     ]
    },
    {
     "name": "stdout",
     "output_type": "stream",
     "text": [
      "torch.Size([139, 442, 2]) torch.Size([139, 26, 17])\n",
      "torch.Size([880, 522, 2]) torch.Size([880, 58, 9])\n",
      "torch.Size([327, 714, 2]) torch.Size([327, 34, 21])\n",
      "torch.Size([1062, 336, 2]) torch.Size([1062, 24, 14])\n",
      "torch.Size([375, 646, 2]) torch.Size([375, 34, 19])\n",
      "torch.Size([414, 924, 2]) torch.Size([414, 44, 21])\n",
      "torch.Size([461, 666, 2]) torch.Size([461, 37, 18])\n",
      "torch.Size([483, 840, 2]) torch.Size([483, 40, 21])\n",
      "torch.Size([437, 703, 2]) torch.Size([437, 37, 19])\n",
      "torch.Size([337, 532, 2]) torch.Size([337, 28, 19])\n",
      "torch.Size([1622, 375, 2]) torch.Size([1622, 25, 15])\n",
      "torch.Size([400, 900, 2]) torch.Size([400, 36, 25])\n",
      "torch.Size([455, 493, 2]) torch.Size([455, 29, 17])\n",
      "torch.Size([1400, 286, 2]) torch.Size([1400, 22, 13])\n",
      "torch.Size([662, 72, 2]) torch.Size([662, 9, 8])\n",
      "torch.Size([0, 6020, 2]) torch.Size([0, 70, 86])\n"
     ]
    },
    {
     "name": "stderr",
     "output_type": "stream",
     "text": [
      " 37%|███████████████████▌                                 | 37/100 [00:00<00:00, 87.68it/s]\n"
     ]
    },
    {
     "ename": "RuntimeError",
     "evalue": "cannot reshape tensor of 0 elements into shape [0, -1] because the unspecified dimension size -1 can be any value and is ambiguous",
     "output_type": "error",
     "traceback": [
      "\u001b[0;31m---------------------------------------------------------------------------\u001b[0m",
      "\u001b[0;31mRuntimeError\u001b[0m                              Traceback (most recent call last)",
      "Cell \u001b[0;32mIn[7], line 3\u001b[0m\n\u001b[1;32m      1\u001b[0m \u001b[38;5;28;01mfor\u001b[39;00m diagram \u001b[38;5;129;01min\u001b[39;00m tqdm\u001b[38;5;241m.\u001b[39mtqdm(diagrams):\n\u001b[1;32m      2\u001b[0m \u001b[38;5;66;03m# for diagram in diagrams:\u001b[39;00m\n\u001b[0;32m----> 3\u001b[0m     mean, cov, infodict \u001b[38;5;241m=\u001b[39m \u001b[43mdiagram\u001b[49m\u001b[38;5;241;43m.\u001b[39;49m\u001b[43mfit_gaussian\u001b[49m\u001b[43m(\u001b[49m\u001b[43mphoton_density\u001b[49m\u001b[38;5;241;43m=\u001b[39;49m\u001b[38;5;241;43m10900.0\u001b[39;49m\u001b[43m,\u001b[49m\u001b[43m \u001b[49m\u001b[43mtol\u001b[49m\u001b[38;5;241;43m=\u001b[39;49m\u001b[38;5;28;43;01mTrue\u001b[39;49;00m\u001b[43m,\u001b[49m\u001b[43m \u001b[49m\u001b[43mparallel\u001b[49m\u001b[38;5;241;43m=\u001b[39;49m\u001b[38;5;28;43;01mFalse\u001b[39;49;00m\u001b[43m)\u001b[49m\n\u001b[1;32m      4\u001b[0m     confidence \u001b[38;5;241m=\u001b[39m \u001b[38;5;241m3.0\u001b[39m \u001b[38;5;241m*\u001b[39m infodict[\u001b[38;5;124m\"\u001b[39m\u001b[38;5;124mtol\u001b[39m\u001b[38;5;124m\"\u001b[39m]  \u001b[38;5;66;03m# 99% confidence interval on pixel position\u001b[39;00m\n\u001b[1;32m      5\u001b[0m     selection \u001b[38;5;241m=\u001b[39m select_items(\u001b[38;5;241m-\u001b[39mconfidence, \u001b[38;5;241m-\u001b[39m\u001b[38;5;241m0.5\u001b[39m, \u001b[38;5;241m10\u001b[39m)  \u001b[38;5;66;03m# 10 best and position +- 0.5pxl\u001b[39;00m\n",
      "File \u001b[0;32m/tmp/bourinix/documents/boulot/2024_esrf/code/laueimproc/laueimproc/opti/cache.py:25\u001b[0m, in \u001b[0;36mauto_cache.<locals>.cached_meth\u001b[0;34m(diagram, is_cached, *args, **kwargs)\u001b[0m\n\u001b[1;32m     23\u001b[0m     \u001b[38;5;28;01mif\u001b[39;00m signature \u001b[38;5;129;01min\u001b[39;00m diagram\u001b[38;5;241m.\u001b[39m_cache:  \u001b[38;5;66;03m# pylint: disable=W0212\u001b[39;00m\n\u001b[1;32m     24\u001b[0m         \u001b[38;5;28;01mreturn\u001b[39;00m diagram\u001b[38;5;241m.\u001b[39m_cache[signature]  \u001b[38;5;66;03m# pylint: disable=W0212\u001b[39;00m\n\u001b[0;32m---> 25\u001b[0m res \u001b[38;5;241m=\u001b[39m \u001b[43mmeth\u001b[49m\u001b[43m(\u001b[49m\u001b[43mdiagram\u001b[49m\u001b[43m,\u001b[49m\u001b[43m \u001b[49m\u001b[38;5;241;43m*\u001b[39;49m\u001b[43margs\u001b[49m\u001b[43m,\u001b[49m\u001b[43m \u001b[49m\u001b[38;5;241;43m*\u001b[39;49m\u001b[38;5;241;43m*\u001b[39;49m\u001b[43mkwargs\u001b[49m\u001b[43m)\u001b[49m\n\u001b[1;32m     26\u001b[0m \u001b[38;5;28;01mwith\u001b[39;00m diagram\u001b[38;5;241m.\u001b[39m_cache_lock:  \u001b[38;5;66;03m# pylint: disable=W0212\u001b[39;00m\n\u001b[1;32m     27\u001b[0m     diagram\u001b[38;5;241m.\u001b[39m_cache[signature] \u001b[38;5;241m=\u001b[39m res  \u001b[38;5;66;03m# pylint: disable=W0212\u001b[39;00m\n",
      "File \u001b[0;32m/tmp/bourinix/documents/boulot/2024_esrf/code/laueimproc/laueimproc/opti/parallel.py:122\u001b[0m, in \u001b[0;36mauto_parallel.<locals>.multithreaded_meth\u001b[0;34m(diagram, parallel, *args, **kwargs)\u001b[0m\n\u001b[1;32m    120\u001b[0m \u001b[38;5;28;01massert\u001b[39;00m \u001b[38;5;28misinstance\u001b[39m(parallel, \u001b[38;5;28mbool\u001b[39m), parallel\u001b[38;5;241m.\u001b[39m\u001b[38;5;18m__class__\u001b[39m\u001b[38;5;241m.\u001b[39m\u001b[38;5;18m__name__\u001b[39m\n\u001b[1;32m    121\u001b[0m \u001b[38;5;28;01mif\u001b[39;00m \u001b[38;5;129;01mnot\u001b[39;00m parallel \u001b[38;5;129;01mor\u001b[39;00m threading\u001b[38;5;241m.\u001b[39mcurrent_thread()\u001b[38;5;241m.\u001b[39mname \u001b[38;5;241m!=\u001b[39m \u001b[38;5;124m\"\u001b[39m\u001b[38;5;124mMainThread\u001b[39m\u001b[38;5;124m\"\u001b[39m:\n\u001b[0;32m--> 122\u001b[0m     \u001b[38;5;28;01mreturn\u001b[39;00m \u001b[43mmeth\u001b[49m\u001b[43m(\u001b[49m\u001b[43mdiagram\u001b[49m\u001b[43m,\u001b[49m\u001b[43m \u001b[49m\u001b[38;5;241;43m*\u001b[39;49m\u001b[43margs\u001b[49m\u001b[43m,\u001b[49m\u001b[43m \u001b[49m\u001b[38;5;241;43m*\u001b[39;49m\u001b[38;5;241;43m*\u001b[39;49m\u001b[43mkwargs\u001b[49m\u001b[43m)\u001b[49m\n\u001b[1;32m    123\u001b[0m \u001b[38;5;66;03m# case cached\u001b[39;00m\n\u001b[1;32m    124\u001b[0m param_sig \u001b[38;5;241m=\u001b[39m hashlib\u001b[38;5;241m.\u001b[39mmd5(pickle\u001b[38;5;241m.\u001b[39mdumps((args, kwargs)), usedforsecurity\u001b[38;5;241m=\u001b[39m\u001b[38;5;28;01mFalse\u001b[39;00m)\u001b[38;5;241m.\u001b[39mhexdigest()\n",
      "File \u001b[0;32m/tmp/bourinix/documents/boulot/2024_esrf/code/laueimproc/laueimproc/classes/diagram.py:97\u001b[0m, in \u001b[0;36mDiagram.fit_gaussian\u001b[0;34m(self, photon_density, **kwargs)\u001b[0m\n\u001b[1;32m     94\u001b[0m shift \u001b[38;5;241m=\u001b[39m \u001b[38;5;28mself\u001b[39m\u001b[38;5;241m.\u001b[39mbboxes[:, :\u001b[38;5;241m2\u001b[39m]\n\u001b[1;32m     96\u001b[0m \u001b[38;5;66;03m# main fit\u001b[39;00m\n\u001b[0;32m---> 97\u001b[0m mean, cov, infodict \u001b[38;5;241m=\u001b[39m \u001b[43mfit_gaussian\u001b[49m\u001b[43m(\u001b[49m\u001b[43mrois\u001b[49m\u001b[43m,\u001b[49m\u001b[43m \u001b[49m\u001b[43mphoton_density\u001b[49m\u001b[43m,\u001b[49m\u001b[43m \u001b[49m\u001b[38;5;241;43m*\u001b[39;49m\u001b[38;5;241;43m*\u001b[39;49m\u001b[43mkwargs\u001b[49m\u001b[43m)\u001b[49m\n\u001b[1;32m     99\u001b[0m \u001b[38;5;66;03m# spot base to diagram base\u001b[39;00m\n\u001b[1;32m    100\u001b[0m \u001b[38;5;28;01mif\u001b[39;00m mean\u001b[38;5;241m.\u001b[39mrequires_grad:\n",
      "File \u001b[0;32m/tmp/bourinix/documents/boulot/2024_esrf/code/laueimproc/laueimproc/improc/spot/fit.py:92\u001b[0m, in \u001b[0;36mfit_gaussian\u001b[0;34m(rois, photon_density, tol, **extra_info)\u001b[0m\n\u001b[1;32m     90\u001b[0m obs \u001b[38;5;241m=\u001b[39m obs\u001b[38;5;241m.\u001b[39mexpand(rois\u001b[38;5;241m.\u001b[39mshape[\u001b[38;5;241m0\u001b[39m], \u001b[38;5;241m-\u001b[39m\u001b[38;5;241m1\u001b[39m, \u001b[38;5;241m-\u001b[39m\u001b[38;5;241m1\u001b[39m)  \u001b[38;5;66;03m# (n_spots, n_obs, n_var)\u001b[39;00m\n\u001b[1;32m     91\u001b[0m \u001b[38;5;28mprint\u001b[39m(obs\u001b[38;5;241m.\u001b[39mshape, rois\u001b[38;5;241m.\u001b[39mshape)\n\u001b[0;32m---> 92\u001b[0m dup_w \u001b[38;5;241m=\u001b[39m \u001b[43mtorch\u001b[49m\u001b[38;5;241;43m.\u001b[39;49m\u001b[43mreshape\u001b[49m\u001b[43m(\u001b[49m\u001b[43mrois\u001b[49m\u001b[43m,\u001b[49m\u001b[43m \u001b[49m\u001b[43m(\u001b[49m\u001b[43mrois\u001b[49m\u001b[38;5;241;43m.\u001b[39;49m\u001b[43mshape\u001b[49m\u001b[43m[\u001b[49m\u001b[38;5;241;43m0\u001b[39;49m\u001b[43m]\u001b[49m\u001b[43m,\u001b[49m\u001b[43m \u001b[49m\u001b[38;5;241;43m-\u001b[39;49m\u001b[38;5;241;43m1\u001b[39;49m\u001b[43m)\u001b[49m\u001b[43m)\u001b[49m\n\u001b[1;32m     93\u001b[0m dup_w \u001b[38;5;241m=\u001b[39m dup_w \u001b[38;5;241m*\u001b[39m photon_density  \u001b[38;5;66;03m# copy (no inplace) for keeping rois unchanged\u001b[39;00m\n\u001b[1;32m     95\u001b[0m \u001b[38;5;66;03m# fit gaussian\u001b[39;00m\n",
      "File \u001b[0;32m/tmp/bourinix/documents/boulot/2024_esrf/code/laueimproc/laueimproc/classes/tensor.py:143\u001b[0m, in \u001b[0;36mTensor.__torch_function__\u001b[0;34m(cls, func, types, args, kwargs)\u001b[0m\n\u001b[1;32m    141\u001b[0m \u001b[38;5;28;01mif\u001b[39;00m kwargs \u001b[38;5;129;01mis\u001b[39;00m \u001b[38;5;28;01mNone\u001b[39;00m:\n\u001b[1;32m    142\u001b[0m     kwargs \u001b[38;5;241m=\u001b[39m {}\n\u001b[0;32m--> 143\u001b[0m result \u001b[38;5;241m=\u001b[39m \u001b[38;5;28;43msuper\u001b[39;49m\u001b[43m(\u001b[49m\u001b[43m)\u001b[49m\u001b[38;5;241;43m.\u001b[39;49m\u001b[43m__torch_function__\u001b[49m\u001b[43m(\u001b[49m\u001b[43mfunc\u001b[49m\u001b[43m,\u001b[49m\u001b[43m \u001b[49m\u001b[43mtypes\u001b[49m\u001b[43m,\u001b[49m\u001b[43m \u001b[49m\u001b[43margs\u001b[49m\u001b[43m,\u001b[49m\u001b[43m \u001b[49m\u001b[43mkwargs\u001b[49m\u001b[43m)\u001b[49m\n\u001b[1;32m    144\u001b[0m \u001b[38;5;28;01mif\u001b[39;00m \u001b[38;5;28misinstance\u001b[39m(result, \u001b[38;5;28mcls\u001b[39m):\n\u001b[1;32m    145\u001b[0m     \u001b[38;5;28;01mif\u001b[39;00m \u001b[38;5;28misinstance\u001b[39m(args[\u001b[38;5;241m0\u001b[39m], \u001b[38;5;28mcls\u001b[39m):  \u001b[38;5;66;03m# args[0] is self\u001b[39;00m\n",
      "File \u001b[0;32m~/.pyenv/versions/3.12.2/envs/laueimproc/lib/python3.12/site-packages/torch/_tensor.py:1418\u001b[0m, in \u001b[0;36mTensor.__torch_function__\u001b[0;34m(cls, func, types, args, kwargs)\u001b[0m\n\u001b[1;32m   1415\u001b[0m     \u001b[38;5;28;01mreturn\u001b[39;00m \u001b[38;5;28mNotImplemented\u001b[39m\n\u001b[1;32m   1417\u001b[0m \u001b[38;5;28;01mwith\u001b[39;00m _C\u001b[38;5;241m.\u001b[39mDisableTorchFunctionSubclass():\n\u001b[0;32m-> 1418\u001b[0m     ret \u001b[38;5;241m=\u001b[39m \u001b[43mfunc\u001b[49m\u001b[43m(\u001b[49m\u001b[38;5;241;43m*\u001b[39;49m\u001b[43margs\u001b[49m\u001b[43m,\u001b[49m\u001b[43m \u001b[49m\u001b[38;5;241;43m*\u001b[39;49m\u001b[38;5;241;43m*\u001b[39;49m\u001b[43mkwargs\u001b[49m\u001b[43m)\u001b[49m\n\u001b[1;32m   1419\u001b[0m     \u001b[38;5;28;01mif\u001b[39;00m func \u001b[38;5;129;01min\u001b[39;00m get_default_nowrap_functions():\n\u001b[1;32m   1420\u001b[0m         \u001b[38;5;28;01mreturn\u001b[39;00m ret\n",
      "\u001b[0;31mRuntimeError\u001b[0m: cannot reshape tensor of 0 elements into shape [0, -1] because the unspecified dimension size -1 can be any value and is ambiguous"
     ]
    }
   ],
   "source": [
    "for diagram in tqdm.tqdm(diagrams):\n",
    "# for diagram in diagrams:\n",
    "    mean, cov, infodict = diagram.fit_gaussian(photon_density=10900.0, tol=True, parallel=False)\n",
    "    confidence = 3.0 * infodict[\"tol\"]  # 99% confidence interval on pixel position\n",
    "    selection = select_items(-confidence, -0.5, 10)  # 10 best and position +- 0.5pxl\n",
    "    diagram.filter_spots(selection, msg=\"remove spots with uncertain position\", inplace=True)\n",
    "    if 0:\n",
    "        print(diagram)\n",
    "        # diagram.plot(plt.figure(layout=\"tight\", figsize=(8, 8))); plt.show()"
   ]
  }
 ],
 "metadata": {
  "kernelspec": {
   "display_name": "laueimproc",
   "language": "python",
   "name": "laueimproc"
  },
  "language_info": {
   "codemirror_mode": {
    "name": "ipython",
    "version": 3
   },
   "file_extension": ".py",
   "mimetype": "text/x-python",
   "name": "python",
   "nbconvert_exporter": "python",
   "pygments_lexer": "ipython3",
   "version": "3.12.2"
  }
 },
 "nbformat": 4,
 "nbformat_minor": 5
}
