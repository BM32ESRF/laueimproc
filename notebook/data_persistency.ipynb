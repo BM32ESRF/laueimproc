{
 "cells": [
  {
   "cell_type": "markdown",
   "id": "6252a95e-cd24-4844-8c85-1e1885245d12",
   "metadata": {},
   "source": [
    "## This notebook shows how to save data"
   ]
  },
  {
   "cell_type": "code",
   "execution_count": null,
   "id": "f490b416-80f8-4f8c-9e7e-384a284a14cc",
   "metadata": {},
   "outputs": [],
   "source": [
    "import lzma\n",
    "import pathlib\n",
    "import pickle\n",
    "import tempfile\n",
    "import time\n",
    "\n",
    "import laueimproc"
   ]
  },
  {
   "cell_type": "markdown",
   "id": "5fb61599-0b56-4a90-8886-a7bb7b20971b",
   "metadata": {},
   "source": [
    "### Let initialise somme objects"
   ]
  },
  {
   "cell_type": "code",
   "execution_count": null,
   "id": "cf843ffe-d992-4062-8d93-aad0bbc7737e",
   "metadata": {},
   "outputs": [],
   "source": [
    "temp_dir = pathlib.Path(tempfile.gettempdir())\n",
    "dataset = laueimproc.DiagramsDataset(laueimproc.io.get_samples())"
   ]
  },
  {
   "cell_type": "code",
   "execution_count": null,
   "id": "248a0b42-8b27-41f0-8c21-ba7bfb2545d8",
   "metadata": {},
   "outputs": [],
   "source": [
    "def peaks_search(diagram: laueimproc.Diagram):\n",
    "    \"\"\"Basic peaks search.\"\"\"\n",
    "    diagram.find_spots()\n",
    "    \n",
    "def compress(diagram: laueimproc.Diagram):\n",
    "    \"\"\"Keep the 4 smallest first spots.\"\"\"\n",
    "    diagram.filter_spots(\n",
    "        (diagram.bboxes[:, 2]*diagram.bboxes[:, 3]).argsort()[:4],\n",
    "        \"keeps 4 spots\"\n",
    "    )\n",
    "\n",
    "_ = dataset.apply(peaks_search)\n",
    "# _ = dataset.apply(compress)"
   ]
  },
  {
   "cell_type": "code",
   "execution_count": null,
   "id": "1bda61c0-d31c-4823-a91c-8c8babee823e",
   "metadata": {},
   "outputs": [],
   "source": [
    "print(dataset)"
   ]
  },
  {
   "cell_type": "markdown",
   "id": "34f82842-d110-4bc8-8a82-61ef6e7d2b1f",
   "metadata": {},
   "source": [
    "### Basic Manual serialization on diagrams"
   ]
  },
  {
   "cell_type": "code",
   "execution_count": null,
   "id": "2919bd94-6cc7-41b4-87b3-cfda01ca2413",
   "metadata": {},
   "outputs": [],
   "source": [
    "# serialize diagram\n",
    "diagram = dataset[0]\n",
    "data = pickle.dumps(diagram)\n",
    "data = lzma.compress(data)\n",
    "print(len(data))\n",
    "\n",
    "with open(temp_dir / \"diagram.pickle.xz\", \"wb\") as raw:\n",
    "    raw.write(data)"
   ]
  },
  {
   "cell_type": "code",
   "execution_count": null,
   "id": "5c696798-c605-441f-adeb-3d780388e3fc",
   "metadata": {
    "scrolled": true
   },
   "outputs": [],
   "source": [
    "# deserialize a diagram\n",
    "with open(temp_dir / \"diagram.pickle.xz\", \"rb\") as raw:\n",
    "    data = raw.read()\n",
    "data = lzma.decompress(data)\n",
    "diagram_bis = pickle.loads(data)\n",
    "\n",
    "print(diagram)\n",
    "print()\n",
    "print(diagram_bis)"
   ]
  },
  {
   "cell_type": "markdown",
   "id": "763c3aaa-6378-4d21-b83e-ad6311a49eae",
   "metadata": {},
   "source": [
    "### Basic Manual serialization on dataset"
   ]
  },
  {
   "cell_type": "code",
   "execution_count": null,
   "id": "4ce14edd-c36c-4429-830d-cf1bf245c253",
   "metadata": {},
   "outputs": [],
   "source": [
    "# serialize with pickle\n",
    "with open(temp_dir / \"dataset.pickle.xz\", \"wb\") as raw:\n",
    "    pickle.dump(dataset, raw)"
   ]
  },
  {
   "cell_type": "code",
   "execution_count": null,
   "id": "4ec169ff-475f-4373-822e-244704f0f9e0",
   "metadata": {},
   "outputs": [],
   "source": [
    "# deserialize with pickle\n",
    "with open(temp_dir / \"dataset.pickle.xz\", \"rb\") as raw:\n",
    "    dataset_bis = pickle.load(raw)\n",
    "\n",
    "print(dataset)\n",
    "print()\n",
    "print(dataset_bis)"
   ]
  },
  {
   "cell_type": "markdown",
   "id": "d12c708f-3d4d-4cb0-bb9a-b70793a794ab",
   "metadata": {},
   "source": [
    "### Save dataset from interface (checkpoint)"
   ]
  },
  {
   "cell_type": "code",
   "execution_count": null,
   "id": "2bd6afc7-a410-427f-9631-2c6f72811619",
   "metadata": {},
   "outputs": [],
   "source": [
    "filename = temp_dir / \"dataset.pickle\""
   ]
  },
  {
   "cell_type": "code",
   "execution_count": null,
   "id": "319aeb54-76a9-471b-9501-aed42692a5b4",
   "metadata": {},
   "outputs": [],
   "source": [
    "# create a new dataset from backup\n",
    "new_dataset = laueimproc.DiagramsDataset()\n",
    "new_dataset.restore(filename)\n",
    "print(new_dataset)"
   ]
  },
  {
   "cell_type": "code",
   "execution_count": null,
   "id": "8bd999ef-4932-48d2-9fa3-0aae2f8aabe6",
   "metadata": {},
   "outputs": [],
   "source": [
    "# let see the underground activity\n",
    "dataset.autosave(filename, delay=\"30s\")\n",
    "for _ in range(10):\n",
    "    print(f\"last write time: {filename.stat().st_mtime}\")\n",
    "    time.sleep(6)"
   ]
  }
 ],
 "metadata": {
  "kernelspec": {
   "display_name": "Python 3 (ipykernel)",
   "language": "python",
   "name": "python3"
  },
  "language_info": {
   "codemirror_mode": {
    "name": "ipython",
    "version": 3
   },
   "file_extension": ".py",
   "mimetype": "text/x-python",
   "name": "python",
   "nbconvert_exporter": "python",
   "pygments_lexer": "ipython3",
   "version": "3.11.9"
  }
 },
 "nbformat": 4,
 "nbformat_minor": 5
}
