{
 "cells": [
  {
   "cell_type": "markdown",
   "id": "d728dc1a",
   "metadata": {},
   "source": [
    "## This notebook shows all the means to index the diagrams in DiagramDataset"
   ]
  },
  {
   "cell_type": "code",
   "execution_count": 1,
   "id": "d6ff06bc",
   "metadata": {},
   "outputs": [],
   "source": [
    "import pathlib\n",
    "import shutil\n",
    "import tempfile\n",
    "import time\n",
    "\n",
    "from laueimproc.io.download import get_samples  # gives access to the dataset\n",
    "from laueimproc import Diagram, DiagramDataset"
   ]
  },
  {
   "cell_type": "markdown",
   "id": "45265106",
   "metadata": {},
   "source": [
    "### Link the diagram instance to the index.\n",
    "* If the index is contained in the diagram file name, so skip this step, the diagrams will be indexed automatically."
   ]
  },
  {
   "cell_type": "code",
   "execution_count": 2,
   "id": "56bc1433",
   "metadata": {},
   "outputs": [],
   "source": [
    "# it is possible to overwritten laueimproc.classes.dataset.default_diag2ind\n",
    "\n",
    "def stupid_diag2ind(diagram: Diagram) -> int:\n",
    "    \"\"\"Take a diagram and return the index.\"\"\"\n",
    "    return int(diagram.file.name[-6:-4])"
   ]
  },
  {
   "cell_type": "markdown",
   "id": "dd791ef0",
   "metadata": {},
   "source": [
    "### Set the geometry of the grid.\n",
    "* This step is optional, but allows you to acces the element from the real sample position"
   ]
  },
  {
   "cell_type": "code",
   "execution_count": 3,
   "id": "6604e809",
   "metadata": {},
   "outputs": [],
   "source": [
    "# 1 : define the rule that maps a diagram index its position in 2 dimensions\n",
    "\n",
    "def position_func(index: int) -> tuple[float, float]:  # can return tuple[int, int]\n",
    "    \"\"\"Return the position x, y of the diagram in micron.\"\"\"\n",
    "    y_ind, x_ind = divmod(index, 20)  # assume grid shape is 20 x 5 samples\n",
    "    x_micron = 20.0 * x_ind  # assume x step is 20 microns (fast index)\n",
    "    y_micron = 30.0 * y_ind  # assume y step is 30 microns (slow index)\n",
    "    return x_micron, y_micron  # must to return 2 numbers\n",
    "\n",
    "# 2 : simply provide the argument position=position_func so that the DiagramDataset integrates the positions"
   ]
  },
  {
   "cell_type": "markdown",
   "id": "a607481d",
   "metadata": {},
   "source": [
    "### Init a diagram, see the `api_init_dataset` notebook for more informations."
   ]
  },
  {
   "cell_type": "code",
   "execution_count": 7,
   "id": "e82557a1",
   "metadata": {},
   "outputs": [
    {
     "name": "stdout",
     "output_type": "stream",
     "text": [
      "DiagramDataset from the folder /home/rrichard/.cache/laueimproc/samples:\n",
      "    No function has been applied.\n",
      "    Current state:\n",
      "        * id: 133391086446688\n",
      "        * nbr diagram: 100\n",
      "        * 2d indexing: <function position_func at 0x79518853aa70>\n"
     ]
    }
   ],
   "source": [
    "dataset = DiagramDataset(get_samples().glob(\"*.jp2\"), position=position_func)\n",
    "print(dataset)"
   ]
  },
  {
   "cell_type": "markdown",
   "id": "35da02b9",
   "metadata": {},
   "source": [
    "### Access to one diagram."
   ]
  },
  {
   "cell_type": "code",
   "execution_count": 8,
   "id": "5e0ea088",
   "metadata": {
    "scrolled": false
   },
   "outputs": [
    {
     "name": "stdout",
     "output_type": "stream",
     "text": [
      "from index  0: Diagram(img_00.jp2)\n",
      "from index  1: Diagram(img_01.jp2)\n",
      "from index -1: Diagram(img_99.jp2)\n",
      "from index -2: Diagram(img_98.jp2)\n",
      "The diagram of index 100 is not in the dataset\n",
      "from coord (  0,   0): Diagram(img_00.jp2)\n",
      "from coord (200,  60): Diagram(img_50.jp2)\n",
      "from coord (380, 120): Diagram(img_99.jp2)\n"
     ]
    }
   ],
   "source": [
    "# from the diagram index\n",
    "print(f\"from index  0: {repr(dataset[0])}\")\n",
    "print(f\"from index  1: {repr(dataset[1])}\")\n",
    "print(f\"from index -1: {repr(dataset[-1])}\")\n",
    "print(f\"from index -2: {repr(dataset[-2])}\")\n",
    "try:\n",
    "    dataset[100]\n",
    "except IndexError as err:\n",
    "    print(err)\n",
    "\n",
    "# from the grid position (argument grid has to be provided)\n",
    "print(f\"from coord (  0,   0): {repr(dataset[0, 0])}\")\n",
    "print(f\"from coord (200,  60): {repr(dataset[200, 60])}\")\n",
    "print(f\"from coord (380, 120): {repr(dataset[380, 120])}\")"
   ]
  },
  {
   "cell_type": "markdown",
   "id": "b32c9038",
   "metadata": {},
   "source": [
    "### Access a subset a diagrams."
   ]
  },
  {
   "cell_type": "code",
   "execution_count": 6,
   "id": "9388cfd6",
   "metadata": {},
   "outputs": [
    {
     "name": "stdout",
     "output_type": "stream",
     "text": [
      "[Diagram(img_01.jp2), Diagram(img_06.jp2), Diagram(img_11.jp2), Diagram(img_16.jp2), Diagram(img_21.jp2), Diagram(img_26.jp2), Diagram(img_31.jp2), Diagram(img_36.jp2), Diagram(img_41.jp2), Diagram(img_46.jp2)]\n"
     ]
    }
   ],
   "source": [
    "# from, the diagrams indexs\n",
    "sub_dataset = dataset[1:50:5]\n",
    "print(sub_dataset.diagrams)"
   ]
  }
 ],
 "metadata": {
  "kernelspec": {
   "display_name": "Python 3 (ipykernel)",
   "language": "python",
   "name": "python3"
  },
  "language_info": {
   "codemirror_mode": {
    "name": "ipython",
    "version": 3
   },
   "file_extension": ".py",
   "mimetype": "text/x-python",
   "name": "python",
   "nbconvert_exporter": "python",
   "pygments_lexer": "ipython3",
   "version": "3.10.12"
  }
 },
 "nbformat": 4,
 "nbformat_minor": 5
}
