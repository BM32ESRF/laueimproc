{
 "cells": [
  {
   "cell_type": "markdown",
   "id": "7057f608",
   "metadata": {},
   "source": [
    "## This notebook shows the fastest mean to select some spots with a simple filter\n",
    "* It is possible to interact with external libraries, have a look on the `init_diagram` notebook.\n",
    "* To instanciate a `Diagram` allows you to apply efficiently filters based on image processing.\n",
    "* They are several means to instanciate a `diagram` some of them are betters than overs."
   ]
  },
  {
   "cell_type": "code",
   "execution_count": null,
   "id": "1f43a2ab",
   "metadata": {},
   "outputs": [],
   "source": [
    "%matplotlib inline\n",
    "\n",
    "import pathlib\n",
    "\n",
    "import matplotlib.pyplot as plt\n",
    "import tqdm\n",
    "\n",
    "from laueimproc.io.download import get_samples  # gives access to the dataset\n",
    "from laueimproc import Diagram"
   ]
  },
  {
   "cell_type": "markdown",
   "id": "3d154742",
   "metadata": {},
   "source": [
    "## Initialise the diagrams\n",
    "* The different ways of initializing a diagram are described in detail in the `init_diagram` notebook."
   ]
  },
  {
   "cell_type": "code",
   "execution_count": null,
   "id": "e6d516d9",
   "metadata": {},
   "outputs": [],
   "source": [
    "all_files = list(get_samples().iterdir())  # the list of all images path\n",
    "# all_files = list(pathlib.Path(\"my_folder/\").iterdir())\n",
    "# all_files = [\"the_path_of/my_image.mccd\"]\n",
    "diagrams = [Diagram(f) for f in all_files]\n",
    "for diagram in tqdm.tqdm(diagrams):\n",
    "    diagram.find_spots()"
   ]
  },
  {
   "cell_type": "markdown",
   "id": "eedd61ed",
   "metadata": {},
   "source": [
    "## Keeps the 10 most intense spots for each diagram"
   ]
  },
  {
   "cell_type": "code",
   "execution_count": null,
   "id": "54c5524c",
   "metadata": {},
   "outputs": [],
   "source": [
    "for diagram in tqdm.tqdm(diagrams):\n",
    "    diagram.compute_barycenters()\n",
    "    diagram.compute_pxl_intensities()"
   ]
  }
 ],
 "metadata": {
  "kernelspec": {
   "display_name": "laueimproc",
   "language": "python",
   "name": "laueimproc"
  },
  "language_info": {
   "codemirror_mode": {
    "name": "ipython",
    "version": 3
   },
   "file_extension": ".py",
   "mimetype": "text/x-python",
   "name": "python",
   "nbconvert_exporter": "python",
   "pygments_lexer": "ipython3",
   "version": "3.12.2"
  }
 },
 "nbformat": 4,
 "nbformat_minor": 5
}
