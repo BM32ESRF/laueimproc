{
 "cells": [
  {
   "cell_type": "markdown",
   "id": "7057f608",
   "metadata": {},
   "source": [
    "## This notebook shows the fastest mean to select some spots with a simple filter\n",
    "* It is possible to interact with external libraries, have a look on the `init_diagram` notebook.\n",
    "* To instanciate a `Diagram` allows you to apply efficiently filters based on image processing.\n",
    "* They are several means to instanciate a `diagram` some of them are betters than overs."
   ]
  },
  {
   "cell_type": "code",
   "execution_count": 1,
   "id": "1f43a2ab",
   "metadata": {},
   "outputs": [],
   "source": [
    "%matplotlib inline\n",
    "\n",
    "import multiprocessing.pool\n",
    "import pathlib\n",
    "\n",
    "import matplotlib.pyplot as plt\n",
    "import torch\n",
    "import tqdm\n",
    "\n",
    "# sys.path.insert(0, \"/data/bm32/inhouse/laueimproc\")\n",
    "# sys.path.insert(0, \"/data/bm32/inhouse/laueimprocenv/lib/python3.11/site-packages\")\n",
    "from laueimproc.io.download import get_samples  # gives access to the dataset\n",
    "from laueimproc import Diagram"
   ]
  },
  {
   "cell_type": "markdown",
   "id": "8c9a90a1",
   "metadata": {},
   "source": [
    "## Set and take control of the global configuration parameters\n",
    "* The cache is automaticaly managed, but you can control it a bit."
   ]
  },
  {
   "cell_type": "code",
   "execution_count": 2,
   "id": "53d63482",
   "metadata": {},
   "outputs": [
    {
     "name": "stdout",
     "output_type": "stream",
     "text": [
      "update tracked diagrams, 0 are freed, 0 remain\n"
     ]
    },
    {
     "name": "stderr",
     "output_type": "stream",
     "text": [
      "/home/rrichard/.pyenv/versions/3.12.2/envs/laueimproc/lib/python3.12/site-packages/torch/distributed/distributed_c10d.py:359: UserWarning: torch.distributed.reduce_op is deprecated, please use torch.distributed.ReduceOp instead\n",
      "  warnings.warn(\n"
     ]
    }
   ],
   "source": [
    "# manage context\n",
    "\n",
    "from laueimproc.opti.manager import DiagramManager\n",
    "\n",
    "manager = DiagramManager()\n",
    "manager.verbose = True  # to display the operations in background\n",
    "manager.ram_limit = 0.8  # trigger cache clear after 80% of ram full, default based on swapiness\n",
    "manager.update()  # dereference unreachable diagrams"
   ]
  },
  {
   "cell_type": "markdown",
   "id": "3d154742",
   "metadata": {},
   "source": [
    "## Initialise the diagrams\n",
    "* The different ways of initializing a diagram are described in detail in the `init_diagram` notebook."
   ]
  },
  {
   "cell_type": "code",
   "execution_count": 3,
   "id": "e6d516d9",
   "metadata": {
    "scrolled": false
   },
   "outputs": [],
   "source": [
    "all_files = list(get_samples().iterdir())*10  # the list of all images path\n",
    "# all_files = list(pathlib.Path(\"my_folder/\").iterdir())\n",
    "diagrams = [Diagram(f) for f in all_files]\n",
    "for diagram in diagrams:\n",
    "    diagram.find_spots(density=0.5)\n",
    "    # diagram.plot(plt.figure(layout=\"tight\", figsize=(10, 10))); plt.show()"
   ]
  },
  {
   "cell_type": "raw",
   "id": "63c43905",
   "metadata": {},
   "source": [
    "# for timing peaks search\n",
    "in_parallel = True\n",
    "if in_parallel:\n",
    "    with multiprocessing.pool.ThreadPool() as pool:\n",
    "        for _ in tqdm.tqdm(\n",
    "            pool.imap(lambda d: (d.find_spots(density=0.6), d.spots), diagrams, chunksize=2),\n",
    "            total=len(diagrams),\n",
    "        ):\n",
    "            pass\n",
    "else:       \n",
    "    for diagram in tqdm.tqdm(diagrams):\n",
    "        diagram.find_spots(density=0.6)\n",
    "        diagram.spots"
   ]
  },
  {
   "cell_type": "markdown",
   "id": "eedd61ed",
   "metadata": {},
   "source": [
    "## Keeps the 10 most intense spots for each diagram"
   ]
  },
  {
   "cell_type": "code",
   "execution_count": null,
   "id": "54c5524c",
   "metadata": {
    "scrolled": true
   },
   "outputs": [
    {
     "name": "stderr",
     "output_type": "stream",
     "text": [
      "  0%|                                                     | 1/1000 [00:00<13:26,  1.24it/s]"
     ]
    },
    {
     "name": "stdout",
     "output_type": "stream",
     "text": [
      "youpi\n",
      "youpi\n",
      "youpi\n"
     ]
    },
    {
     "name": "stderr",
     "output_type": "stream",
     "text": [
      "\r",
      "  0%|▎                                                    | 5/1000 [00:01<02:49,  5.88it/s]"
     ]
    },
    {
     "name": "stdout",
     "output_type": "stream",
     "text": [
      "youpi\n",
      "youpi\n",
      "youpi\n",
      "youpi\n",
      "youpi\n",
      "youpi\n",
      "youpi\n",
      "youpi\n",
      "youpi\n",
      "youpi\n",
      "youpi\n",
      "youpi\n",
      "youpi\n",
      "youpi\n",
      "youpi\n",
      "youpi\n"
     ]
    },
    {
     "name": "stderr",
     "output_type": "stream",
     "text": [
      "\r",
      "  2%|█▏                                                  | 22/1000 [00:01<00:50, 19.55it/s]"
     ]
    },
    {
     "name": "stdout",
     "output_type": "stream",
     "text": [
      "youpi\n",
      "youpi\n",
      "youpi\n"
     ]
    },
    {
     "name": "stderr",
     "output_type": "stream",
     "text": [
      "\r",
      "  3%|█▎                                                  | 26/1000 [00:01<00:55, 17.53it/s]"
     ]
    },
    {
     "name": "stdout",
     "output_type": "stream",
     "text": [
      "youpi\n",
      "youpi\n",
      "youpi\n",
      "youpi\n",
      "youpi\n",
      "youpi\n",
      "youpi\n"
     ]
    },
    {
     "name": "stderr",
     "output_type": "stream",
     "text": [
      "\r",
      "  3%|█▊                                                  | 34/1000 [00:02<01:00, 15.87it/s]"
     ]
    },
    {
     "name": "stdout",
     "output_type": "stream",
     "text": [
      "youpi\n",
      "youpi\n",
      "youpi\n",
      "youpi\n",
      "youpi\n",
      "youpi\n",
      "youpi\n",
      "youpi\n",
      "youpi\n",
      "youpi\n",
      "youpi\n",
      "youpi\n",
      "youpi\n",
      "youpi\n",
      "youpi\n",
      "youpi\n",
      "youpi\n",
      "youpi\n",
      "youpi\n",
      "youpi\n"
     ]
    },
    {
     "name": "stderr",
     "output_type": "stream",
     "text": [
      "\r",
      "  6%|██▊                                                 | 55/1000 [00:03<00:43, 21.72it/s]"
     ]
    },
    {
     "name": "stdout",
     "output_type": "stream",
     "text": [
      "youpi\n"
     ]
    },
    {
     "name": "stderr",
     "output_type": "stream",
     "text": [
      "\r",
      "  6%|███                                                 | 58/1000 [00:03<00:47, 19.99it/s]"
     ]
    },
    {
     "name": "stdout",
     "output_type": "stream",
     "text": [
      "youpi\n",
      "youpi\n",
      "youpi\n",
      "youpi\n",
      "youpi\n",
      "youpi\n",
      "youpi\n",
      "youpi\n",
      "youpi\n",
      "youpi\n",
      "youpi\n",
      "youpi\n",
      "youpi\n",
      "youpi\n",
      "youpi\n",
      "youpi\n",
      "youpi\n",
      "youpi\n"
     ]
    },
    {
     "name": "stderr",
     "output_type": "stream",
     "text": [
      "\r",
      "  8%|███▉                                                | 76/1000 [00:03<00:35, 26.00it/s]"
     ]
    },
    {
     "name": "stdout",
     "output_type": "stream",
     "text": [
      "youpi\n"
     ]
    },
    {
     "name": "stderr",
     "output_type": "stream",
     "text": [
      "\r",
      "  8%|████                                                | 79/1000 [00:04<00:44, 20.62it/s]"
     ]
    },
    {
     "name": "stdout",
     "output_type": "stream",
     "text": [
      "youpi\n",
      "youpi\n",
      "youpi\n",
      "youpi\n",
      "youpi\n",
      "youpi\n"
     ]
    },
    {
     "name": "stderr",
     "output_type": "stream",
     "text": [
      "\r",
      "  8%|████▍                                               | 85/1000 [00:04<00:50, 18.19it/s]"
     ]
    },
    {
     "name": "stdout",
     "output_type": "stream",
     "text": [
      "youpi\n",
      "youpi\n",
      "youpi\n",
      "youpi\n",
      "youpi\n",
      "youpi\n",
      "youpi\n",
      "youpi\n",
      "youpi\n",
      "youpi\n",
      "youpi\n",
      "youpi\n",
      "youpi\n"
     ]
    },
    {
     "name": "stderr",
     "output_type": "stream",
     "text": [
      "\r",
      " 10%|█████▏                                              | 99/1000 [00:05<00:36, 24.89it/s]"
     ]
    },
    {
     "name": "stdout",
     "output_type": "stream",
     "text": [
      "youpi\n",
      "youpi\n",
      "youpi\n",
      "youpi\n",
      "youpi\n",
      "youpi\n"
     ]
    },
    {
     "name": "stderr",
     "output_type": "stream",
     "text": [
      "\r",
      " 11%|█████▍                                             | 106/1000 [00:05<00:39, 22.63it/s]"
     ]
    },
    {
     "name": "stdout",
     "output_type": "stream",
     "text": [
      "youpi\n",
      "youpi\n",
      "youpi\n",
      "youpi\n",
      "youpi\n",
      "youpi\n",
      "youpi\n",
      "youpi\n",
      "youpi\n",
      "youpi\n",
      "youpi\n",
      "youpi\n",
      "youpi\n"
     ]
    },
    {
     "name": "stderr",
     "output_type": "stream",
     "text": [
      "\r",
      " 12%|██████                                             | 120/1000 [00:05<00:33, 26.31it/s]"
     ]
    },
    {
     "name": "stdout",
     "output_type": "stream",
     "text": [
      "youpi\n",
      "youpi\n",
      "youpi\n",
      "youpi\n",
      "youpi\n",
      "youpi\n"
     ]
    },
    {
     "name": "stderr",
     "output_type": "stream",
     "text": [
      "\r",
      " 13%|██████▍                                            | 127/1000 [00:06<00:36, 23.94it/s]"
     ]
    },
    {
     "name": "stdout",
     "output_type": "stream",
     "text": [
      "youpi\n",
      "youpi\n",
      "youpi\n",
      "youpi\n",
      "youpi\n",
      "youpi\n"
     ]
    },
    {
     "name": "stderr",
     "output_type": "stream",
     "text": [
      "\r",
      " 13%|██████▊                                            | 134/1000 [00:06<00:45, 18.87it/s]"
     ]
    },
    {
     "name": "stdout",
     "output_type": "stream",
     "text": [
      "youpi\n",
      "youpi\n",
      "youpi\n",
      "youpi\n",
      "youpi\n",
      "youpi\n",
      "youpi\n",
      "youpi\n",
      "youpi\n",
      "youpi\n",
      "youpi\n",
      "youpi\n",
      "youpi\n",
      "youpi\n",
      "youpi\n",
      "youpi\n",
      "youpi\n",
      "youpi\n",
      "youpi\n",
      "youpi\n"
     ]
    },
    {
     "name": "stderr",
     "output_type": "stream",
     "text": [
      "\r",
      " 16%|███████▉                                           | 155/1000 [00:07<00:38, 21.67it/s]"
     ]
    },
    {
     "name": "stdout",
     "output_type": "stream",
     "text": [
      "youpi\n",
      "youpi\n",
      "youpi\n",
      "youpi\n",
      "youpi\n",
      "youpi\n",
      "youpi\n",
      "youpi\n",
      "youpi\n"
     ]
    },
    {
     "name": "stderr",
     "output_type": "stream",
     "text": [
      "\r",
      " 16%|████████▍                                          | 165/1000 [00:07<00:34, 24.05it/s]"
     ]
    },
    {
     "name": "stdout",
     "output_type": "stream",
     "text": [
      "youpi\n",
      "youpi\n",
      "youpi\n",
      "youpi\n",
      "youpi\n",
      "youpi\n",
      "youpi\n",
      "youpi\n",
      "youpi\n",
      "youpi\n"
     ]
    },
    {
     "name": "stderr",
     "output_type": "stream",
     "text": [
      "\r",
      " 18%|████████▉                                          | 176/1000 [00:08<00:31, 26.28it/s]"
     ]
    },
    {
     "name": "stdout",
     "output_type": "stream",
     "text": [
      "youpi\n",
      "youpi\n",
      "youpi\n",
      "youpi\n",
      "youpi\n",
      "youpi\n",
      "youpi\n",
      "youpi\n",
      "youpi\n"
     ]
    },
    {
     "name": "stderr",
     "output_type": "stream",
     "text": [
      " 19%|█████████▋                                         | 190/1000 [00:08<00:29, 27.16it/s]"
     ]
    },
    {
     "name": "stdout",
     "output_type": "stream",
     "text": [
      "youpi\n",
      "youpi\n",
      "youpi\n",
      "youpi\n",
      "youpi\n",
      "youpi\n",
      "youpi\n",
      "youpi\n",
      "youpi\n",
      "youpi\n"
     ]
    },
    {
     "name": "stderr",
     "output_type": "stream",
     "text": [
      "\r",
      " 20%|██████████                                         | 197/1000 [00:09<00:34, 22.95it/s]"
     ]
    },
    {
     "name": "stdout",
     "output_type": "stream",
     "text": [
      "youpi\n",
      "youpi\n",
      "youpi\n",
      "youpi\n",
      "youpi\n",
      "youpi\n",
      "youpi\n",
      "youpi\n",
      "youpi\n"
     ]
    },
    {
     "name": "stderr",
     "output_type": "stream",
     "text": [
      "\r",
      " 21%|██████████▌                                        | 207/1000 [00:09<00:33, 23.42it/s]"
     ]
    },
    {
     "name": "stdout",
     "output_type": "stream",
     "text": [
      "youpi\n",
      "youpi\n",
      "youpi\n",
      "youpi\n",
      "youpi\n",
      "youpi\n",
      "youpi\n",
      "youpi\n",
      "youpi\n",
      "youpi\n"
     ]
    },
    {
     "name": "stderr",
     "output_type": "stream",
     "text": [
      "\r",
      " 22%|███████████                                        | 218/1000 [00:10<00:32, 24.09it/s]"
     ]
    },
    {
     "name": "stdout",
     "output_type": "stream",
     "text": [
      "youpi\n",
      "youpi\n",
      "youpi\n",
      "youpi\n",
      "youpi\n",
      "youpi\n",
      "youpi\n",
      "youpi\n",
      "youpi\n"
     ]
    },
    {
     "name": "stderr",
     "output_type": "stream",
     "text": [
      "\r",
      " 23%|███████████▋                                       | 228/1000 [00:10<00:31, 24.42it/s]"
     ]
    },
    {
     "name": "stdout",
     "output_type": "stream",
     "text": [
      "youpi\n",
      "youpi\n",
      "youpi\n",
      "youpi\n",
      "youpi\n"
     ]
    },
    {
     "name": "stderr",
     "output_type": "stream",
     "text": [
      "\r",
      " 23%|███████████▉                                       | 234/1000 [00:11<00:41, 18.59it/s]"
     ]
    },
    {
     "name": "stdout",
     "output_type": "stream",
     "text": [
      "youpi\n",
      "youpi\n",
      "youpi\n",
      "youpi\n",
      "youpi\n",
      "youpi\n",
      "youpi\n",
      "youpi\n",
      "youpi\n",
      "youpi\n",
      "youpi\n",
      "youpi\n",
      "youpi\n",
      "youpi\n",
      "youpi\n",
      "youpi\n",
      "youpi\n",
      "youpi\n",
      "youpi\n",
      "youpi\n"
     ]
    },
    {
     "name": "stderr",
     "output_type": "stream",
     "text": [
      " 26%|█████████████▏                                     | 258/1000 [00:11<00:35, 21.07it/s]"
     ]
    },
    {
     "name": "stdout",
     "output_type": "stream",
     "text": [
      "youpi\n",
      "youpi\n",
      "youpi\n",
      "youpi\n",
      "youpi\n",
      "youpi\n",
      "youpi\n",
      "youpi\n"
     ]
    },
    {
     "name": "stderr",
     "output_type": "stream",
     "text": [
      "\r",
      " 26%|█████████████▌                                     | 265/1000 [00:12<00:33, 22.12it/s]"
     ]
    },
    {
     "name": "stdout",
     "output_type": "stream",
     "text": [
      "youpi\n",
      "youpi\n",
      "youpi\n",
      "youpi\n",
      "youpi\n",
      "youpi\n",
      "youpi\n",
      "youpi\n",
      "youpi\n",
      "youpi\n",
      "youpi\n",
      "youpi\n"
     ]
    },
    {
     "name": "stderr",
     "output_type": "stream",
     "text": [
      "\r",
      " 28%|██████████████▏                                    | 278/1000 [00:12<00:28, 25.33it/s]"
     ]
    },
    {
     "name": "stdout",
     "output_type": "stream",
     "text": [
      "youpi\n",
      "youpi\n",
      "youpi\n",
      "youpi\n",
      "youpi\n",
      "youpi\n",
      "youpi\n"
     ]
    },
    {
     "name": "stderr",
     "output_type": "stream",
     "text": [
      "\r",
      " 29%|██████████████▌                                    | 286/1000 [00:13<00:29, 24.09it/s]"
     ]
    },
    {
     "name": "stdout",
     "output_type": "stream",
     "text": [
      "youpi\n",
      "youpi\n",
      "youpi\n",
      "youpi\n",
      "youpi\n",
      "youpi\n",
      "youpi\n",
      "youpi\n",
      "youpi\n",
      "youpi\n",
      "youpi\n",
      "youpi\n"
     ]
    },
    {
     "name": "stderr",
     "output_type": "stream",
     "text": [
      "\r",
      " 30%|███████████████▏                                   | 299/1000 [00:13<00:27, 25.76it/s]"
     ]
    },
    {
     "name": "stdout",
     "output_type": "stream",
     "text": [
      "youpi\n",
      "youpi\n",
      "youpi\n",
      "youpi\n",
      "youpi\n",
      "youpi\n",
      "youpi\n",
      "youpi\n",
      "youpi\n"
     ]
    },
    {
     "name": "stderr",
     "output_type": "stream",
     "text": [
      "\r",
      " 31%|███████████████▊                                   | 309/1000 [00:13<00:25, 27.50it/s]"
     ]
    },
    {
     "name": "stdout",
     "output_type": "stream",
     "text": [
      "youpi\n",
      "youpi\n",
      "youpi\n",
      "youpi\n",
      "youpi\n",
      "youpi\n",
      "youpi\n",
      "youpi\n",
      "youpi\n",
      "youpi\n"
     ]
    },
    {
     "name": "stderr",
     "output_type": "stream",
     "text": [
      "\r",
      " 32%|████████████████▎                                  | 320/1000 [00:14<00:25, 26.84it/s]"
     ]
    },
    {
     "name": "stdout",
     "output_type": "stream",
     "text": [
      "youpi\n",
      "youpi\n",
      "youpi\n",
      "youpi\n",
      "youpi\n",
      "youpi\n",
      "youpi\n",
      "youpi\n",
      "youpi\n"
     ]
    },
    {
     "name": "stderr",
     "output_type": "stream",
     "text": [
      "\r",
      " 33%|████████████████▊                                  | 330/1000 [00:14<00:26, 25.74it/s]"
     ]
    },
    {
     "name": "stdout",
     "output_type": "stream",
     "text": [
      "youpi\n",
      "youpi\n",
      "youpi\n"
     ]
    },
    {
     "name": "stderr",
     "output_type": "stream",
     "text": [
      "\r",
      " 33%|█████████████████                                  | 334/1000 [00:15<00:34, 19.25it/s]"
     ]
    },
    {
     "name": "stdout",
     "output_type": "stream",
     "text": [
      "youpi\n",
      "youpi\n",
      "youpi\n",
      "youpi\n",
      "youpi\n",
      "youpi\n",
      "youpi\n",
      "youpi\n",
      "youpi\n",
      "youpi\n",
      "youpi\n",
      "youpi\n",
      "youpi\n",
      "youpi\n",
      "youpi\n",
      "youpi\n",
      "youpi\n",
      "youpi\n",
      "youpi\n",
      "youpi\n"
     ]
    },
    {
     "name": "stderr",
     "output_type": "stream",
     "text": [
      "\r",
      " 36%|██████████████████                                 | 355/1000 [00:15<00:28, 22.50it/s]"
     ]
    },
    {
     "name": "stdout",
     "output_type": "stream",
     "text": [
      "youpi\n",
      "youpi\n",
      "youpi\n",
      "youpi\n"
     ]
    },
    {
     "name": "stderr",
     "output_type": "stream",
     "text": [
      "\r",
      " 36%|██████████████████▎                                | 360/1000 [00:16<00:28, 22.24it/s]"
     ]
    },
    {
     "name": "stdout",
     "output_type": "stream",
     "text": [
      "youpi\n",
      "youpi\n",
      "youpi\n",
      "youpi\n",
      "youpi\n",
      "youpi\n",
      "youpi\n",
      "youpi\n",
      "youpi\n",
      "youpi\n",
      "youpi\n",
      "youpi\n",
      "youpi\n",
      "youpi\n",
      "youpi\n"
     ]
    },
    {
     "name": "stderr",
     "output_type": "stream",
     "text": [
      "\r",
      " 38%|███████████████████▏                               | 376/1000 [00:16<00:22, 28.02it/s]"
     ]
    },
    {
     "name": "stdout",
     "output_type": "stream",
     "text": [
      "youpi\n",
      "youpi\n",
      "youpi\n",
      "youpi\n"
     ]
    },
    {
     "name": "stderr",
     "output_type": "stream",
     "text": [
      "\r",
      " 38%|███████████████████▍                               | 381/1000 [00:16<00:27, 22.55it/s]"
     ]
    },
    {
     "name": "stdout",
     "output_type": "stream",
     "text": [
      "youpi\n",
      "youpi\n",
      "youpi\n"
     ]
    },
    {
     "name": "stderr",
     "output_type": "stream",
     "text": [
      "\r",
      " 38%|███████████████████▋                               | 385/1000 [00:17<00:30, 20.28it/s]"
     ]
    },
    {
     "name": "stdout",
     "output_type": "stream",
     "text": [
      "youpi\n",
      "youpi\n",
      "youpi\n",
      "youpi\n",
      "youpi\n",
      "youpi\n",
      "youpi\n",
      "youpi\n",
      "youpi\n",
      "youpi\n",
      "youpi\n",
      "youpi\n",
      "youpi\n",
      "youpi\n",
      "youpi\n",
      "youpi\n"
     ]
    },
    {
     "name": "stderr",
     "output_type": "stream",
     "text": [
      "\r",
      " 40%|████████████████████▌                              | 402/1000 [00:17<00:23, 25.96it/s]"
     ]
    },
    {
     "name": "stdout",
     "output_type": "stream",
     "text": [
      "youpi\n",
      "youpi\n",
      "youpi\n"
     ]
    },
    {
     "name": "stderr",
     "output_type": "stream",
     "text": [
      "\r",
      " 41%|████████████████████▋                              | 406/1000 [00:18<00:26, 22.20it/s]"
     ]
    },
    {
     "name": "stdout",
     "output_type": "stream",
     "text": [
      "youpi\n",
      "youpi\n",
      "youpi\n",
      "youpi\n",
      "youpi\n",
      "youpi\n",
      "youpi\n",
      "youpi\n",
      "youpi\n",
      "youpi\n",
      "youpi\n",
      "youpi\n",
      "youpi\n",
      "youpi\n",
      "youpi\n",
      "youpi\n"
     ]
    },
    {
     "name": "stderr",
     "output_type": "stream",
     "text": [
      "\r",
      " 42%|█████████████████████▌                             | 423/1000 [00:18<00:19, 29.83it/s]"
     ]
    },
    {
     "name": "stdout",
     "output_type": "stream",
     "text": [
      "youpi\n",
      "youpi\n",
      "youpi\n"
     ]
    },
    {
     "name": "stderr",
     "output_type": "stream",
     "text": [
      "\r",
      " 43%|█████████████████████▊                             | 427/1000 [00:18<00:24, 23.29it/s]"
     ]
    },
    {
     "name": "stdout",
     "output_type": "stream",
     "text": [
      "youpi\n"
     ]
    },
    {
     "name": "stderr",
     "output_type": "stream",
     "text": [
      "\r",
      " 43%|█████████████████████▉                             | 430/1000 [00:19<00:28, 19.71it/s]"
     ]
    },
    {
     "name": "stdout",
     "output_type": "stream",
     "text": [
      "youpi\n",
      "youpi\n",
      "youpi\n",
      "youpi\n",
      "youpi\n",
      "youpi\n",
      "youpi\n",
      "youpi\n",
      "youpi\n",
      "youpi\n",
      "youpi\n",
      "youpi\n",
      "youpi\n",
      "youpi\n",
      "youpi\n",
      "youpi\n",
      "youpi\n",
      "youpi\n"
     ]
    },
    {
     "name": "stderr",
     "output_type": "stream",
     "text": [
      "\r",
      " 45%|██████████████████████▊                            | 448/1000 [00:19<00:19, 28.41it/s]"
     ]
    },
    {
     "name": "stdout",
     "output_type": "stream",
     "text": [
      "youpi\n"
     ]
    },
    {
     "name": "stderr",
     "output_type": "stream",
     "text": [
      "\r",
      " 45%|███████████████████████                            | 451/1000 [00:19<00:26, 20.62it/s]"
     ]
    },
    {
     "name": "stdout",
     "output_type": "stream",
     "text": [
      "youpi\n",
      "youpi\n",
      "youpi\n",
      "youpi\n",
      "youpi\n",
      "youpi\n",
      "youpi\n",
      "youpi\n",
      "youpi\n"
     ]
    },
    {
     "name": "stderr",
     "output_type": "stream",
     "text": [
      "\r",
      " 46%|███████████████████████▍                           | 460/1000 [00:20<00:26, 20.28it/s]"
     ]
    },
    {
     "name": "stdout",
     "output_type": "stream",
     "text": [
      "youpi\n",
      "youpi\n",
      "youpi\n",
      "youpi\n",
      "youpi\n",
      "youpi\n",
      "youpi\n",
      "youpi\n",
      "youpi\n",
      "youpi\n",
      "youpi\n",
      "youpi\n",
      "youpi\n",
      "youpi\n",
      "youpi\n",
      "youpi\n"
     ]
    },
    {
     "name": "stderr",
     "output_type": "stream",
     "text": [
      "\r",
      " 48%|████████████████████████▎                          | 477/1000 [00:20<00:20, 25.06it/s]"
     ]
    },
    {
     "name": "stdout",
     "output_type": "stream",
     "text": [
      "youpi\n",
      "youpi\n",
      "youpi\n",
      "youpi\n",
      "youpi\n"
     ]
    },
    {
     "name": "stderr",
     "output_type": "stream",
     "text": [
      " 49%|████████████████████████▉                          | 489/1000 [00:21<00:19, 26.04it/s]"
     ]
    },
    {
     "name": "stdout",
     "output_type": "stream",
     "text": [
      "youpi\n",
      "youpi\n",
      "youpi\n",
      "youpi\n",
      "youpi\n",
      "youpi\n",
      "youpi\n",
      "youpi\n",
      "youpi\n",
      "youpi\n",
      "youpi\n",
      "youpi\n",
      "youpi\n",
      "youpi\n"
     ]
    },
    {
     "name": "stderr",
     "output_type": "stream",
     "text": [
      "\r",
      " 50%|█████████████████████████▍                         | 498/1000 [00:21<00:19, 26.16it/s]"
     ]
    },
    {
     "name": "stdout",
     "output_type": "stream",
     "text": [
      "youpi\n",
      "youpi\n",
      "youpi\n",
      "youpi\n",
      "youpi\n",
      "youpi\n"
     ]
    },
    {
     "name": "stderr",
     "output_type": "stream",
     "text": [
      " 52%|██████████████████████████▍                        | 518/1000 [00:22<00:13, 34.63it/s]"
     ]
    },
    {
     "name": "stdout",
     "output_type": "stream",
     "text": [
      "youpi\n",
      "youpi\n",
      "youpi\n",
      "youpi\n",
      "youpi\n",
      "youpi\n",
      "youpi\n",
      "youpi\n",
      "youpi\n",
      "youpi\n",
      "youpi\n",
      "youpi\n",
      "youpi\n"
     ]
    },
    {
     "name": "stderr",
     "output_type": "stream",
     "text": [
      "\r",
      " 52%|██████████████████████████▋                        | 524/1000 [00:22<00:16, 29.71it/s]"
     ]
    },
    {
     "name": "stdout",
     "output_type": "stream",
     "text": [
      "youpi\n",
      "youpi\n",
      "youpi\n",
      "youpi\n",
      "youpi\n",
      "youpi\n"
     ]
    },
    {
     "name": "stderr",
     "output_type": "stream",
     "text": [
      "\r",
      " 53%|██████████████████████████▉                        | 529/1000 [00:22<00:19, 24.75it/s]"
     ]
    }
   ],
   "source": [
    "for diagram in tqdm.tqdm(diagrams):\n",
    "    intensities = diagram.compute_pxl_intensities(parallel=True)\n",
    "    indexs = torch.argsort(intensities, descending=True)[:10]\n",
    "    try:\n",
    "        diagram.filter_spots(indexs)\n",
    "    except AssertionError:\n",
    "        print(diagram.spots)\n",
    "        print(indexs)\n",
    "        raise\n",
    "    # diagram.plot(plt.figure(layout=\"tight\", figsize=(10, 10))); plt.show()"
   ]
  },
  {
   "cell_type": "code",
   "execution_count": null,
   "id": "826fc052",
   "metadata": {},
   "outputs": [],
   "source": [
    "print(diagram.compute_pxl_intensities(parallel=True))\n",
    "diagram._cache"
   ]
  }
 ],
 "metadata": {
  "kernelspec": {
   "display_name": "laueimproc",
   "language": "python",
   "name": "laueimproc"
  },
  "language_info": {
   "codemirror_mode": {
    "name": "ipython",
    "version": 3
   },
   "file_extension": ".py",
   "mimetype": "text/x-python",
   "name": "python",
   "nbconvert_exporter": "python",
   "pygments_lexer": "ipython3",
   "version": "3.12.2"
  }
 },
 "nbformat": 4,
 "nbformat_minor": 5
}
