{
 "cells": [
  {
   "cell_type": "code",
   "execution_count": null,
   "id": "fda92465",
   "metadata": {},
   "outputs": [],
   "source": [
    "%matplotlib notebook\n",
    "\n",
    "import multiprocessing.pool\n",
    "import pathlib\n",
    "import time\n",
    "\n",
    "import matplotlib.pyplot as plt\n",
    "import torch\n",
    "import tqdm\n",
    "\n",
    "from laueimproc import Diagram\n",
    "from laueimproc.io.download import get_samples  # gives access to the dataset\n",
    "from laueimproc.opti.manager import DiagramManager"
   ]
  },
  {
   "cell_type": "code",
   "execution_count": null,
   "id": "9ee96742",
   "metadata": {},
   "outputs": [],
   "source": [
    "manager = DiagramManager()\n",
    "manager.verbose = True  # to display the operations in background\n",
    "manager.max_mem_percent = 75  # trigger cache clear after 75% of ram full, default based on swapiness\n",
    "manager.update()  # dereference unreachable diagrams"
   ]
  },
  {
   "cell_type": "code",
   "execution_count": null,
   "id": "31140bc9",
   "metadata": {},
   "outputs": [],
   "source": [
    "all_files = sorted(get_samples().iterdir())*100\n",
    "diagrams = [Diagram(f) for f in all_files]\n",
    "for diagram in diagrams:\n",
    "    diagram.find_spots()"
   ]
  },
  {
   "cell_type": "code",
   "execution_count": null,
   "id": "08b8ed29",
   "metadata": {},
   "outputs": [],
   "source": [
    "\"\"\"Test compression ROIS\"\"\"\n",
    "\n",
    "from laueimproc.opti.comp import compress_rois, decompress_rois\n",
    "from laueimproc.opti.cache import getsizeof\n",
    "\n",
    "brut = comp = 0\n",
    "t_start = time.time()\n",
    "for diagram in tqdm.tqdm(diagrams):\n",
    "    rois_comp = compress_rois(diagram.rois)\n",
    "    brut += getsizeof(diagram.rois)\n",
    "    comp += getsizeof(rois_comp)\n",
    "    # print(f\"avant={getsizeof(diagram.rois)}, apres={getsizeof(rois_comp)}\")\n",
    "    assert torch.max(torch.abs(diagram.rois - decompress_rois(rois_comp))).item() <= 1/131070\n",
    "print((time.time()-t_start)/len(diagrams))\n",
    "print(f\"total {brut//1000} to {comp//1000} (ratio {brut/comp:.1f})\")"
   ]
  },
  {
   "cell_type": "code",
   "execution_count": null,
   "id": "a3ff6e8b",
   "metadata": {},
   "outputs": [],
   "source": [
    "\"\"\"Test memory limit\"\"\"\n",
    "\n",
    "for diagram in tqdm.tqdm(diagrams, smoothing=0.01):\n",
    "    intensities = diagram.compute_pxl_intensities()\n",
    "    sorted_indexs = torch.argsort(intensities, descending=True)\n",
    "    diagram.filter_spots(sorted_indexs, msg=\"sorted by intensities\", inplace=True)"
   ]
  }
 ],
 "metadata": {
  "kernelspec": {
   "display_name": "Python 3 (ipykernel)",
   "language": "python",
   "name": "python3"
  },
  "language_info": {
   "codemirror_mode": {
    "name": "ipython",
    "version": 3
   },
   "file_extension": ".py",
   "mimetype": "text/x-python",
   "name": "python",
   "nbconvert_exporter": "python",
   "pygments_lexer": "ipython3",
   "version": "3.10.12"
  }
 },
 "nbformat": 4,
 "nbformat_minor": 5
}
