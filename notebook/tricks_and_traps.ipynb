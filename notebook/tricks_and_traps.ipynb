{
 "cells": [
  {
   "cell_type": "markdown",
   "id": "aee10de2-4ec1-4ac0-93aa-635c544a955d",
   "metadata": {},
   "source": [
    "## Tips, Tricks, Traps and good manners\n",
    "Basic examples of tips, and things to do and avoid"
   ]
  },
  {
   "cell_type": "code",
   "execution_count": null,
   "id": "c1919ae9-e84b-4023-b5b9-6f63e05e57da",
   "metadata": {},
   "outputs": [],
   "source": [
    "import torch\n",
    "\n",
    "import laueimproc"
   ]
  },
  {
   "cell_type": "markdown",
   "id": "3c0d9ab0-e75e-4f28-a827-ef44a6f4df9f",
   "metadata": {},
   "source": [
    "### Traps\n",
    "This section shows several traps and how to avoid falling into them."
   ]
  },
  {
   "cell_type": "markdown",
   "id": "e0038bb0-2f59-448e-ac9b-4ace37263e8f",
   "metadata": {},
   "source": [
    "#### Bounding boxes to surface overflow"
   ]
  },
  {
   "cell_type": "code",
   "execution_count": null,
   "id": "a8b0ca13-4e6c-4ad5-9103-f1d24f4cb114",
   "metadata": {},
   "outputs": [],
   "source": [
    "# init\n",
    "diagram = laueimproc.Diagram(laueimproc.io.get_sample())\n",
    "diagram.set_spots([\n",
    "    [0, 0, 10, 10],  # little bbox\n",
    "    [0, 0, 255, 255],  # big bbox\n",
    "    [0, 0, 256, 256],  # very big bbox\n",
    "])"
   ]
  },
  {
   "cell_type": "code",
   "execution_count": null,
   "id": "02a1f3e0-69d7-42b1-a139-302afb99945b",
   "metadata": {},
   "outputs": [],
   "source": [
    "# mistake to avoid\n",
    "areas = diagram.bboxes[:, 2] * diagram.bboxes[:, 3]  # surface = height * width\n",
    "print(areas)"
   ]
  },
  {
   "cell_type": "code",
   "execution_count": null,
   "id": "1be3bd7e-d39d-4646-98bb-4ec8287cf209",
   "metadata": {},
   "outputs": [],
   "source": [
    "# solution\n",
    "areas = diagram.areas\n",
    "print(areas)"
   ]
  },
  {
   "cell_type": "markdown",
   "id": "08c08109-fd55-42a7-9c8a-2f02d69a56ed",
   "metadata": {},
   "source": [
    "#### Shared references, inplace modifications"
   ]
  },
  {
   "cell_type": "code",
   "execution_count": null,
   "id": "f14ce86d-a8c4-40eb-a683-ab74f68dc491",
   "metadata": {},
   "outputs": [],
   "source": [
    "# init\n",
    "dataset = laueimproc.DiagramsDataset(laueimproc.io.get_samples())\n",
    "prop = [\"prop1\"]\n",
    "dataset.add_property(\"prop\", prop, erasable=False)\n",
    "\n",
    "print(dataset.get_property(\"prop\"))\n",
    "print(dataset[0].state)"
   ]
  },
  {
   "cell_type": "code",
   "execution_count": null,
   "id": "eaa82ebc-5424-4dcd-9a42-330eace90004",
   "metadata": {},
   "outputs": [],
   "source": [
    "# clone trap\n",
    "dataset_view = dataset[:10]\n",
    "dataset_view.get_property(\"prop\").append(\"I am a pirate!\")  # change property state\n",
    "dataset_view[0].find_spots()  # change diagram state\n",
    "\n",
    "print(dataset.get_property(\"prop\"))\n",
    "print(dataset[0].state)"
   ]
  },
  {
   "cell_type": "code",
   "execution_count": null,
   "id": "55b92a88-c987-4884-a4a5-673be2be8236",
   "metadata": {},
   "outputs": [],
   "source": [
    "# solution (run again init cell)\n",
    "dataset_view = dataset[:10].clone()\n",
    "dataset_view.get_property(\"prop\").append(\"I am a pirate!\")  # change property state\n",
    "dataset_view[0].find_spots()  # change diagram state\n",
    "\n",
    "print(dataset.get_property(\"prop\"))\n",
    "print(dataset[0].state)"
   ]
  },
  {
   "cell_type": "markdown",
   "id": "0c789047-5d51-400d-8a85-f0a63701c614",
   "metadata": {},
   "source": [
    "### Tips\n",
    "* shorcut to simplify you life!"
   ]
  },
  {
   "cell_type": "markdown",
   "id": "4bc279c9-3e48-4bab-8c6c-a87eab5defaf",
   "metadata": {},
   "source": [
    "#### Numpy convention (i, j, origin upper left (0, 0)) to LaueTools convention (x, y, origin center (1, 1))"
   ]
  },
  {
   "cell_type": "code",
   "execution_count": null,
   "id": "1fb18127-7a9f-4567-bdaf-658c145d2765",
   "metadata": {},
   "outputs": [],
   "source": [
    "# init\n",
    "diagram = laueimproc.Diagram(laueimproc.io.get_sample())\n",
    "diagram.find_spots()"
   ]
  },
  {
   "cell_type": "code",
   "execution_count": null,
   "id": "1b41aaf5-42ae-47f8-bc0b-e0880daeca91",
   "metadata": {},
   "outputs": [],
   "source": [
    "# non elegance to avoid\n",
    "positions = diagram.compute_rois_centroid()  # numpy conv ij\n",
    "positions = positions.flip(dims=[1]) + 0.5  # it is slow, eavy and source of mistakes"
   ]
  },
  {
   "cell_type": "code",
   "execution_count": null,
   "id": "f5fca435-2745-4205-9f2e-a2007ef87afd",
   "metadata": {},
   "outputs": [],
   "source": [
    "# best solution\n",
    "positions = diagram.compute_rois_centroid(conv=\"xy\")"
   ]
  },
  {
   "cell_type": "code",
   "execution_count": null,
   "id": "5e29dbb9-67c8-4b54-94bf-8ad66a64dbb9",
   "metadata": {},
   "outputs": [],
   "source": [
    "# if the argument conv is not provided\n",
    "from laueimproc.convention import ij_to_xy\n",
    "positions = diagram.compute_rois_centroid(conv=\"ij\")  # let image it comes from somewere else\n",
    "positions = ij_to_xy(positions, i=(..., 0), j=(..., 1))"
   ]
  },
  {
   "cell_type": "markdown",
   "id": "24aab7df-2764-4cb5-8d04-d4ce7a477c3e",
   "metadata": {},
   "source": [
    "### Good Manners\n",
    "* To make your code faster\n",
    "* To reduce the amongt of memory used"
   ]
  },
  {
   "cell_type": "markdown",
   "id": "898a6e6f-42cf-43dd-98bc-64af707e5f95",
   "metadata": {},
   "source": [
    "#### Don't cache when you don't need it after"
   ]
  },
  {
   "cell_type": "code",
   "execution_count": null,
   "id": "53ca93d2-ca33-4a6b-914d-55acfaec4e92",
   "metadata": {},
   "outputs": [],
   "source": [
    "# init\n",
    "diagram = laueimproc.Diagram(laueimproc.io.get_sample())\n",
    "diagram.find_spots()"
   ]
  },
  {
   "cell_type": "code",
   "execution_count": null,
   "id": "6e180c58-9036-4bd4-8064-8475e8534dd6",
   "metadata": {},
   "outputs": [],
   "source": [
    "positions = diagram.compute_rois_centroid(cache=False)"
   ]
  },
  {
   "cell_type": "markdown",
   "id": "45ad0a3f-2f30-47ea-a3b4-bee28e0360a2",
   "metadata": {},
   "source": [
    "#### Convention ij faster than xy, please use ij conv as mush as possible"
   ]
  },
  {
   "cell_type": "code",
   "execution_count": null,
   "id": "4696121b-704f-465a-9116-1750b7834f5a",
   "metadata": {},
   "outputs": [],
   "source": [
    "# init\n",
    "image_ij = torch.randn((2048, 2048))\n",
    "image_xy = (image_ij + 0.5).mT"
   ]
  },
  {
   "cell_type": "code",
   "execution_count": null,
   "id": "5be4f95a-e384-4e21-bcfe-b5a0db37cc01",
   "metadata": {},
   "outputs": [],
   "source": [
    "# timer\n",
    "import timeit\n",
    "time_ij = min(timeit.repeat(image_ij.clone, number=100, repeat=10))\n",
    "time_xy = min(timeit.repeat(image_xy.clone, number=100, repeat=10))\n",
    "print(f\"the copy ij is {time_xy/time_ij:.2f} time faster than the copy xy\")"
   ]
  }
 ],
 "metadata": {
  "kernelspec": {
   "display_name": "Python 3 (ipykernel)",
   "language": "python",
   "name": "python3"
  },
  "language_info": {
   "codemirror_mode": {
    "name": "ipython",
    "version": 3
   },
   "file_extension": ".py",
   "mimetype": "text/x-python",
   "name": "python",
   "nbconvert_exporter": "python",
   "pygments_lexer": "ipython3",
   "version": "3.11.9"
  }
 },
 "nbformat": 4,
 "nbformat_minor": 5
}
