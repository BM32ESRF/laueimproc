{
 "cells": [
  {
   "cell_type": "markdown",
   "id": "6ff15840",
   "metadata": {},
   "source": [
    "## This notebook compare the differents peaks search"
   ]
  },
  {
   "cell_type": "code",
   "execution_count": null,
   "id": "b192cf37",
   "metadata": {},
   "outputs": [],
   "source": [
    "%matplotlib inline\n",
    "\n",
    "import multiprocessing.pool\n",
    "import timeit\n",
    "\n",
    "import torch\n",
    "\n",
    "from laueimproc import Diagram\n",
    "from laueimproc.io import get_samples"
   ]
  },
  {
   "cell_type": "markdown",
   "id": "51a75801",
   "metadata": {},
   "source": [
    "### Firstly, we have to create the diagrams from images\n",
    "* To see all the ways to create a diagram, please have a look to the `init_diagram` notebook.\n",
    "* Take care having enough RAM and swappiness to load all the images, otherwise it would bias the peak search time."
   ]
  },
  {
   "cell_type": "code",
   "execution_count": null,
   "id": "8dfd086d",
   "metadata": {},
   "outputs": [],
   "source": [
    "all_files = sorted(get_samples().iterdir())  # the list of all images path\n",
    "diagrams = [Diagram(f) for f in all_files]"
   ]
  },
  {
   "cell_type": "code",
   "execution_count": null,
   "id": "aa93e71c",
   "metadata": {},
   "outputs": [],
   "source": [
    "def load_images():\n",
    "    with multiprocessing.pool.ThreadPool() as pool:\n",
    "        pool.map(lambda d: (d.compress(), d.image), diagrams)\n",
    "times = timeit.repeat(load_images, repeat=3, number=1)\n",
    "print(f\"on average, an image is read in {1000*min(times)/len(diagrams):.2f}ms\")"
   ]
  },
  {
   "cell_type": "markdown",
   "id": "63e993ae",
   "metadata": {},
   "source": [
    "### Secondly, prepare tools for spots evaluation"
   ]
  },
  {
   "cell_type": "code",
   "execution_count": null,
   "id": "14b017dc",
   "metadata": {},
   "outputs": [],
   "source": [
    "def stats_peaks_search(**kwargs):\n",
    "    def run():\n",
    "        with multiprocessing.pool.ThreadPool() as pool:\n",
    "            pool.map(lambda d: d.find_spots(**kwargs), diagrams)\n",
    "    times = timeit.repeat(run, repeat=3, number=1)\n",
    "    print(f\"average stats for find_spots({', '.join(f'{k}={v}' for k, v in kwargs.items())}):\")\n",
    "    print(f\"    time: {1000*min(times)/len(diagrams):.2f}ms/diag\")\n",
    "    nb_spots = torch.tensor([len(d) for d in diagrams], dtype=torch.float32)\n",
    "    # print(f\"    nbr spots mean: {float(torch.mean(nb_spots)):.1f}\")\n",
    "    print(f\"    nbr spots median: {float(torch.median(nb_spots)):.1f}\")\n",
    "    intensities = torch.cat([d.compute_rois_sum(cache=False) for d in diagrams])\n",
    "    # print(f\"    intensity mean: {float(torch.mean(intensities)):.3f}\")\n",
    "    print(f\"    intensity median: {float(torch.median(intensities)):.3f}\")\n",
    "    # print(f\"    intensity std: {float(torch.std(intensities)):.3f}\")"
   ]
  },
  {
   "cell_type": "markdown",
   "id": "4d90ec16",
   "metadata": {},
   "source": [
    "### Thirdly, run the peaks search"
   ]
  },
  {
   "cell_type": "code",
   "execution_count": null,
   "id": "b5a5dad4",
   "metadata": {},
   "outputs": [],
   "source": [
    "for density in (0.9, 0.8, 0.7, 0.6, 0.55, 0.5, 0.45, 0.4, 0.3, 0.2, 0.1):\n",
    "    stats_peaks_search(density=density)\n",
    "    print()\n",
    "for threshold in (1e-5, 3.2e-5, 1e-4, 3.2e-4, 1e-3, 3.2e-3, 1e-2):\n",
    "    stats_peaks_search(threshold=threshold)\n",
    "    print()\n",
    "for radius_font in (4, 5, 6, 7, 8, 9, 10, 11, 12, 13):\n",
    "    stats_peaks_search(radius_font=radius_font)\n",
    "    print()\n",
    "for radius_aglo in (1, 2, 3, 4, 5):\n",
    "    stats_peaks_search(radius_aglo=radius_aglo)\n",
    "    print()"
   ]
  }
 ],
 "metadata": {
  "kernelspec": {
   "display_name": "Python 3 (ipykernel)",
   "language": "python",
   "name": "python3"
  },
  "language_info": {
   "codemirror_mode": {
    "name": "ipython",
    "version": 3
   },
   "file_extension": ".py",
   "mimetype": "text/x-python",
   "name": "python",
   "nbconvert_exporter": "python",
   "pygments_lexer": "ipython3",
   "version": "3.11.9"
  }
 },
 "nbformat": 4,
 "nbformat_minor": 5
}
