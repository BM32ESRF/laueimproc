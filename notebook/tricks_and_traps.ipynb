{
 "cells": [
  {
   "cell_type": "markdown",
   "id": "aee10de2-4ec1-4ac0-93aa-635c544a955d",
   "metadata": {},
   "source": [
    "## Tips, Tricks, Traps and good manners\n",
    "Basic examples of tips, and things to do and avoid"
   ]
  },
  {
   "cell_type": "code",
   "execution_count": null,
   "id": "c1919ae9-e84b-4023-b5b9-6f63e05e57da",
   "metadata": {},
   "outputs": [],
   "source": [
    "import laueimproc"
   ]
  },
  {
   "cell_type": "markdown",
   "id": "3c0d9ab0-e75e-4f28-a827-ef44a6f4df9f",
   "metadata": {},
   "source": [
    "### Traps\n",
    "This section shows several traps and how to avoid falling into them."
   ]
  },
  {
   "cell_type": "markdown",
   "id": "e0038bb0-2f59-448e-ac9b-4ace37263e8f",
   "metadata": {},
   "source": [
    "#### Bounding boxes to surface overflow"
   ]
  },
  {
   "cell_type": "code",
   "execution_count": null,
   "id": "a8b0ca13-4e6c-4ad5-9103-f1d24f4cb114",
   "metadata": {},
   "outputs": [],
   "source": [
    "# init\n",
    "diagram = laueimproc.Diagram(laueimproc.io.get_sample())\n",
    "diagram.set_spots([\n",
    "    [0, 0, 10, 10],  # little bbox\n",
    "    [0, 0, 255, 255],  # big bbox\n",
    "    [0, 0, 256, 256],  # very big bbox\n",
    "])"
   ]
  },
  {
   "cell_type": "code",
   "execution_count": null,
   "id": "02a1f3e0-69d7-42b1-a139-302afb99945b",
   "metadata": {},
   "outputs": [],
   "source": [
    "# mistake to avoid\n",
    "areas = diagram.bboxes[:, 2] * diagram.bboxes[:, 3]  # surface = height * width\n",
    "print(areas)"
   ]
  },
  {
   "cell_type": "code",
   "execution_count": null,
   "id": "1be3bd7e-d39d-4646-98bb-4ec8287cf209",
   "metadata": {},
   "outputs": [],
   "source": [
    "# solution\n",
    "areas = diagram.areas\n",
    "print(areas)"
   ]
  },
  {
   "cell_type": "markdown",
   "id": "08c08109-fd55-42a7-9c8a-2f02d69a56ed",
   "metadata": {},
   "source": [
    "#### Shared references, inplace modifications"
   ]
  },
  {
   "cell_type": "code",
   "execution_count": null,
   "id": "f14ce86d-a8c4-40eb-a683-ab74f68dc491",
   "metadata": {},
   "outputs": [],
   "source": [
    "# init\n",
    "dataset = laueimproc.DiagramsDataset(laueimproc.io.get_samples())\n",
    "prop = [\"prop1\"]\n",
    "dataset.add_property(\"prop\", prop, erasable=False)\n",
    "\n",
    "print(dataset.get_property(\"prop\"))\n",
    "print(dataset[0].state)"
   ]
  },
  {
   "cell_type": "code",
   "execution_count": null,
   "id": "eaa82ebc-5424-4dcd-9a42-330eace90004",
   "metadata": {},
   "outputs": [],
   "source": [
    "# clone trap\n",
    "dataset_view = dataset[:10]\n",
    "dataset_view.get_property(\"prop\").append(\"I am a pirate!\")  # change property state\n",
    "dataset_view[0].find_spots()  # change diagram state\n",
    "\n",
    "print(dataset.get_property(\"prop\"))\n",
    "print(dataset[0].state)"
   ]
  },
  {
   "cell_type": "code",
   "execution_count": null,
   "id": "55b92a88-c987-4884-a4a5-673be2be8236",
   "metadata": {},
   "outputs": [],
   "source": [
    "# solution (run again init cell)\n",
    "dataset_view = dataset[:10].clone()\n",
    "dataset_view.get_property(\"prop\").append(\"I am a pirate!\")  # change property state\n",
    "dataset_view[0].find_spots()  # change diagram state\n",
    "\n",
    "print(dataset.get_property(\"prop\"))\n",
    "print(dataset[0].state)"
   ]
  }
 ],
 "metadata": {
  "kernelspec": {
   "display_name": "Python 3 (ipykernel)",
   "language": "python",
   "name": "python3"
  },
  "language_info": {
   "codemirror_mode": {
    "name": "ipython",
    "version": 3
   },
   "file_extension": ".py",
   "mimetype": "text/x-python",
   "name": "python",
   "nbconvert_exporter": "python",
   "pygments_lexer": "ipython3",
   "version": "3.12.3"
  }
 },
 "nbformat": 4,
 "nbformat_minor": 5
}
