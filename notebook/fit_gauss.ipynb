{
 "cells": [
  {
   "cell_type": "markdown",
   "id": "54986f81",
   "metadata": {},
   "source": [
    "# This notebook shows how to estimate a spot with a gaussian model.\n",
    "* It is possible to fit a spot with one or several gaussians.\n",
    "* Differents algorithmes are available."
   ]
  },
  {
   "cell_type": "code",
   "execution_count": 1,
   "id": "cdb80c27",
   "metadata": {},
   "outputs": [],
   "source": [
    "%matplotlib notebook\n",
    "\n",
    "import multiprocessing.pool\n",
    "import pathlib\n",
    "\n",
    "import matplotlib.pyplot as plt\n",
    "import torch\n",
    "import tqdm\n",
    "\n",
    "from laueimproc import Diagram\n",
    "from laueimproc.io.download import get_samples  # gives access to the dataset"
   ]
  },
  {
   "cell_type": "markdown",
   "id": "710e2bc3",
   "metadata": {},
   "source": [
    "### Firstly, we have to create the diagrams from images\n",
    "* To see all the ways to create a diagram, please have a look to the `init_diagram` notebook.\n",
    "* Take care having enough RAM and swappiness to load all the images, otherwise it would bias the peak search time."
   ]
  },
  {
   "cell_type": "code",
   "execution_count": 2,
   "id": "f1d73c2a",
   "metadata": {},
   "outputs": [],
   "source": [
    "all_files = sorted(get_samples().iterdir())  # the list of all images path\n",
    "diagrams = [Diagram(f) for f in all_files]\n",
    "for diagram in diagrams:\n",
    "    diagram.find_spots()"
   ]
  },
  {
   "cell_type": "markdown",
   "id": "e71bdb46",
   "metadata": {},
   "source": [
    "## Fit by one gaussian"
   ]
  },
  {
   "cell_type": "code",
   "execution_count": 3,
   "id": "e94d8c9b",
   "metadata": {
    "scrolled": false
   },
   "outputs": [
    {
     "name": "stdout",
     "output_type": "stream",
     "text": [
      "shape mean: torch.Size([135, 2])\n",
      "shape cov: torch.Size([135, 2, 2])\n",
      "['aic', 'bic', 'eigtheta', 'log_likelihood']\n",
      "['tol']\n",
      "rois shape torch.Size([135, 118, 84])\n",
      "cost 1: 0.030207863077521324\n",
      "cost 2: 0.030178802087903023\n",
      "cost 3: 0.03014976717531681\n",
      "cost n: 0.010735340416431427\n",
      "cost n: 0.005694941151887178\n",
      "cost n: 0.005610319785773754\n",
      "cost n: 0.0049039521254599094\n",
      "cost n: 0.004138077609241009\n",
      "cost n: 0.003933510277420282\n",
      "cost n: 0.003837284864857793\n",
      "cost n: 0.0035880343057215214\n",
      "cost n: 0.0033844925928860903\n",
      "cost n: 0.0032344514038413763\n",
      "cost n: 0.003084283322095871\n",
      "cost n: 0.0029645187314599752\n",
      "cost n: 0.0028938918840140104\n",
      "cost n: 0.002822342561557889\n",
      "cost n: 0.002759514143690467\n",
      "cost n: 0.0026860488578677177\n",
      "cost n: 0.0026253717951476574\n",
      "cost n: 0.0025679883547127247\n",
      "cost n: 0.0025183141697198153\n",
      "cost n: 0.00246175448410213\n",
      "cost n: 0.002416356699541211\n",
      "cost n: 0.0023872186429798603\n",
      "cost n: 0.0023646980989724398\n",
      "cost n: 0.0023482604883611202\n",
      "cost n: 0.0023211250081658363\n",
      "cost n: 0.00230715936049819\n",
      "cost n: 0.0022950940765440464\n",
      "cost n: 0.00227120122872293\n",
      "cost n: 0.002260563662275672\n",
      "cost n: 0.002238631248474121\n",
      "cost n: 0.002213592641055584\n",
      "cost n: 0.0021898860577493906\n",
      "cost n: 0.002175074303522706\n",
      "cost n: 0.002155245514586568\n",
      "cost n: 0.0021392693743109703\n",
      "cost n: 0.0021249516867101192\n",
      "cost n: 0.00211247312836349\n",
      "cost n: 0.0021021158900111914\n",
      "cost n: 0.0020856137853115797\n",
      "cost n: 0.002074185525998473\n",
      "cost n: 0.002064725151285529\n",
      "cost n: 0.0020546054001897573\n",
      "cost n: 0.002046989044174552\n",
      "cost n: 0.0020351854618638754\n",
      "cost n: 0.0020258494187146425\n",
      "cost n: 0.0020155352540314198\n",
      "cost n: 0.002005860209465027\n",
      "cost n: 0.0020000054500997066\n",
      "cost n: 0.0019928226247429848\n",
      "cost n: 0.0019815736450254917\n"
     ]
    },
    {
     "ename": "NotImplementedError",
     "evalue": "",
     "output_type": "error",
     "traceback": [
      "\u001b[0;31m---------------------------------------------------------------------------\u001b[0m",
      "\u001b[0;31mNotImplementedError\u001b[0m                       Traceback (most recent call last)",
      "\u001b[0;32m/tmp/ipykernel_350494/3325876548.py\u001b[0m in \u001b[0;36m<module>\u001b[0;34m\u001b[0m\n\u001b[1;32m     10\u001b[0m \u001b[0;34m\u001b[0m\u001b[0m\n\u001b[1;32m     11\u001b[0m \u001b[0;31m# fast fit with classical loss minimization\u001b[0m\u001b[0;34m\u001b[0m\u001b[0;34m\u001b[0m\u001b[0m\n\u001b[0;32m---> 12\u001b[0;31m \u001b[0mmean_mse\u001b[0m\u001b[0;34m,\u001b[0m \u001b[0mcov_mse\u001b[0m\u001b[0;34m,\u001b[0m \u001b[0mmag_mse\u001b[0m\u001b[0;34m,\u001b[0m \u001b[0minfodict_mse\u001b[0m \u001b[0;34m=\u001b[0m \u001b[0mdiagrams\u001b[0m\u001b[0;34m[\u001b[0m\u001b[0;36m0\u001b[0m\u001b[0;34m]\u001b[0m\u001b[0;34m.\u001b[0m\u001b[0mfit_gaussian\u001b[0m\u001b[0;34m(\u001b[0m\u001b[0mloss\u001b[0m\u001b[0;34m=\u001b[0m\u001b[0;34m\"mse\"\u001b[0m\u001b[0;34m,\u001b[0m \u001b[0mparallel\u001b[0m\u001b[0;34m=\u001b[0m\u001b[0;32mFalse\u001b[0m\u001b[0;34m)\u001b[0m\u001b[0;34m\u001b[0m\u001b[0;34m\u001b[0m\u001b[0m\n\u001b[0m\u001b[1;32m     13\u001b[0m \u001b[0mprint\u001b[0m\u001b[0;34m(\u001b[0m\u001b[0;34m\"shape mean:\"\u001b[0m\u001b[0;34m,\u001b[0m \u001b[0mmean_em\u001b[0m\u001b[0;34m.\u001b[0m\u001b[0mshape\u001b[0m\u001b[0;34m)\u001b[0m  \u001b[0;31m# the position i, j of the center of the gaussian for each spot\u001b[0m\u001b[0;34m\u001b[0m\u001b[0;34m\u001b[0m\u001b[0m\n\u001b[1;32m     14\u001b[0m \u001b[0mprint\u001b[0m\u001b[0;34m(\u001b[0m\u001b[0;34m\"shape cov:\"\u001b[0m\u001b[0;34m,\u001b[0m \u001b[0mcov_em\u001b[0m\u001b[0;34m.\u001b[0m\u001b[0mshape\u001b[0m\u001b[0;34m)\u001b[0m  \u001b[0;31m# the covariance matrix of the gaussian for each spot\u001b[0m\u001b[0;34m\u001b[0m\u001b[0;34m\u001b[0m\u001b[0m\n",
      "\u001b[0;32m~/documents/boulot/2024_esrf/code/laueimproc/laueimproc/classes/diagram.py\u001b[0m in \u001b[0;36mfit_gaussian\u001b[0;34m(self, *args, **kwargs)\u001b[0m\n\u001b[1;32m    207\u001b[0m         \u001b[0mSame\u001b[0m \u001b[0;32mas\u001b[0m\u001b[0;31m \u001b[0m\u001b[0;31m`\u001b[0m\u001b[0;31m`\u001b[0m\u001b[0mfit_gaussians\u001b[0m\u001b[0;31m`\u001b[0m\u001b[0;31m`\u001b[0m \u001b[0mbut\u001b[0m \u001b[0msqueeze\u001b[0m \u001b[0mthe\u001b[0m\u001b[0;31m \u001b[0m\u001b[0;31m\\\u001b[0m\u001b[0;34m(\u001b[0m\u001b[0mK\u001b[0m \u001b[0;34m=\u001b[0m \u001b[0;36m1\u001b[0m\u001b[0;31m\\\u001b[0m\u001b[0;34m)\u001b[0m \u001b[0mdimension\u001b[0m\u001b[0;34m.\u001b[0m\u001b[0;34m\u001b[0m\u001b[0;34m\u001b[0m\u001b[0m\n\u001b[1;32m    208\u001b[0m         \"\"\"\n\u001b[0;32m--> 209\u001b[0;31m         \u001b[0mmean\u001b[0m\u001b[0;34m,\u001b[0m \u001b[0mcov\u001b[0m\u001b[0;34m,\u001b[0m \u001b[0mmagnitude\u001b[0m\u001b[0;34m,\u001b[0m \u001b[0minfodict\u001b[0m \u001b[0;34m=\u001b[0m \u001b[0mself\u001b[0m\u001b[0;34m.\u001b[0m\u001b[0mfit_gaussians\u001b[0m\u001b[0;34m(\u001b[0m\u001b[0;34m*\u001b[0m\u001b[0margs\u001b[0m\u001b[0;34m,\u001b[0m \u001b[0;34m**\u001b[0m\u001b[0mkwargs\u001b[0m\u001b[0;34m,\u001b[0m \u001b[0mnbr_clusters\u001b[0m\u001b[0;34m=\u001b[0m\u001b[0;36m1\u001b[0m\u001b[0;34m)\u001b[0m\u001b[0;34m\u001b[0m\u001b[0;34m\u001b[0m\u001b[0m\n\u001b[0m\u001b[1;32m    210\u001b[0m         \u001b[0mmean\u001b[0m\u001b[0;34m,\u001b[0m \u001b[0mcov\u001b[0m\u001b[0;34m,\u001b[0m \u001b[0mmagnitude\u001b[0m \u001b[0;34m=\u001b[0m \u001b[0mmean\u001b[0m\u001b[0;34m.\u001b[0m\u001b[0msqueeze\u001b[0m\u001b[0;34m(\u001b[0m\u001b[0;36m1\u001b[0m\u001b[0;34m)\u001b[0m\u001b[0;34m,\u001b[0m \u001b[0mcov\u001b[0m\u001b[0;34m.\u001b[0m\u001b[0msqueeze\u001b[0m\u001b[0;34m(\u001b[0m\u001b[0;36m1\u001b[0m\u001b[0;34m)\u001b[0m\u001b[0;34m,\u001b[0m \u001b[0mmagnitude\u001b[0m\u001b[0;34m.\u001b[0m\u001b[0msqueeze\u001b[0m\u001b[0;34m(\u001b[0m\u001b[0;36m1\u001b[0m\u001b[0;34m)\u001b[0m\u001b[0;34m\u001b[0m\u001b[0;34m\u001b[0m\u001b[0m\n\u001b[1;32m    211\u001b[0m         \u001b[0;32mif\u001b[0m \u001b[0;34m\"eigtheta\"\u001b[0m \u001b[0;32min\u001b[0m \u001b[0minfodict\u001b[0m\u001b[0;34m:\u001b[0m\u001b[0;34m\u001b[0m\u001b[0;34m\u001b[0m\u001b[0m\n",
      "\u001b[0;32m~/documents/boulot/2024_esrf/code/laueimproc/laueimproc/opti/cache.py\u001b[0m in \u001b[0;36mcached_meth\u001b[0;34m(diagram, is_cached, *args, **kwargs)\u001b[0m\n\u001b[1;32m     24\u001b[0m             \u001b[0;32mif\u001b[0m \u001b[0msignature\u001b[0m \u001b[0;32min\u001b[0m \u001b[0mdiagram\u001b[0m\u001b[0;34m.\u001b[0m\u001b[0m_cache\u001b[0m\u001b[0;34m:\u001b[0m  \u001b[0;31m# pylint: disable=W0212\u001b[0m\u001b[0;34m\u001b[0m\u001b[0;34m\u001b[0m\u001b[0m\n\u001b[1;32m     25\u001b[0m                 \u001b[0;32mreturn\u001b[0m \u001b[0mdiagram\u001b[0m\u001b[0;34m.\u001b[0m\u001b[0m_cache\u001b[0m\u001b[0;34m[\u001b[0m\u001b[0msignature\u001b[0m\u001b[0;34m]\u001b[0m  \u001b[0;31m# pylint: disable=W0212\u001b[0m\u001b[0;34m\u001b[0m\u001b[0;34m\u001b[0m\u001b[0m\n\u001b[0;32m---> 26\u001b[0;31m         \u001b[0mres\u001b[0m \u001b[0;34m=\u001b[0m \u001b[0mmeth\u001b[0m\u001b[0;34m(\u001b[0m\u001b[0mdiagram\u001b[0m\u001b[0;34m,\u001b[0m \u001b[0;34m*\u001b[0m\u001b[0margs\u001b[0m\u001b[0;34m,\u001b[0m \u001b[0;34m**\u001b[0m\u001b[0mkwargs\u001b[0m\u001b[0;34m)\u001b[0m\u001b[0;34m\u001b[0m\u001b[0;34m\u001b[0m\u001b[0m\n\u001b[0m\u001b[1;32m     27\u001b[0m         \u001b[0;32mwith\u001b[0m \u001b[0mdiagram\u001b[0m\u001b[0;34m.\u001b[0m\u001b[0m_cache_lock\u001b[0m\u001b[0;34m:\u001b[0m  \u001b[0;31m# pylint: disable=W0212\u001b[0m\u001b[0;34m\u001b[0m\u001b[0;34m\u001b[0m\u001b[0m\n\u001b[1;32m     28\u001b[0m             \u001b[0mdiagram\u001b[0m\u001b[0;34m.\u001b[0m\u001b[0m_cache\u001b[0m\u001b[0;34m[\u001b[0m\u001b[0msignature\u001b[0m\u001b[0;34m]\u001b[0m \u001b[0;34m=\u001b[0m \u001b[0mres\u001b[0m  \u001b[0;31m# pylint: disable=W0212\u001b[0m\u001b[0;34m\u001b[0m\u001b[0;34m\u001b[0m\u001b[0m\n",
      "\u001b[0;32m~/documents/boulot/2024_esrf/code/laueimproc/laueimproc/opti/parallel.py\u001b[0m in \u001b[0;36mmultithreaded_meth\u001b[0;34m(diagram, parallel, *args, **kwargs)\u001b[0m\n\u001b[1;32m    124\u001b[0m         \u001b[0;32massert\u001b[0m \u001b[0misinstance\u001b[0m\u001b[0;34m(\u001b[0m\u001b[0mparallel\u001b[0m\u001b[0;34m,\u001b[0m \u001b[0mbool\u001b[0m\u001b[0;34m)\u001b[0m\u001b[0;34m,\u001b[0m \u001b[0mparallel\u001b[0m\u001b[0;34m.\u001b[0m\u001b[0m__class__\u001b[0m\u001b[0;34m.\u001b[0m\u001b[0m__name__\u001b[0m\u001b[0;34m\u001b[0m\u001b[0;34m\u001b[0m\u001b[0m\n\u001b[1;32m    125\u001b[0m         \u001b[0;32mif\u001b[0m \u001b[0;32mnot\u001b[0m \u001b[0mparallel\u001b[0m \u001b[0;32mor\u001b[0m \u001b[0mthreading\u001b[0m\u001b[0;34m.\u001b[0m\u001b[0mcurrent_thread\u001b[0m\u001b[0;34m(\u001b[0m\u001b[0;34m)\u001b[0m\u001b[0;34m.\u001b[0m\u001b[0mname\u001b[0m \u001b[0;34m!=\u001b[0m \u001b[0;34m\"MainThread\"\u001b[0m\u001b[0;34m:\u001b[0m\u001b[0;34m\u001b[0m\u001b[0;34m\u001b[0m\u001b[0m\n\u001b[0;32m--> 126\u001b[0;31m             \u001b[0;32mreturn\u001b[0m \u001b[0mmeth\u001b[0m\u001b[0;34m(\u001b[0m\u001b[0mdiagram\u001b[0m\u001b[0;34m,\u001b[0m \u001b[0;34m*\u001b[0m\u001b[0margs\u001b[0m\u001b[0;34m,\u001b[0m \u001b[0;34m**\u001b[0m\u001b[0mkwargs\u001b[0m\u001b[0;34m)\u001b[0m\u001b[0;34m\u001b[0m\u001b[0;34m\u001b[0m\u001b[0m\n\u001b[0m\u001b[1;32m    127\u001b[0m         \u001b[0;31m# case cached\u001b[0m\u001b[0;34m\u001b[0m\u001b[0;34m\u001b[0m\u001b[0m\n\u001b[1;32m    128\u001b[0m         \u001b[0mparam_sig\u001b[0m \u001b[0;34m=\u001b[0m \u001b[0mhashlib\u001b[0m\u001b[0;34m.\u001b[0m\u001b[0mmd5\u001b[0m\u001b[0;34m(\u001b[0m\u001b[0mpickle\u001b[0m\u001b[0;34m.\u001b[0m\u001b[0mdumps\u001b[0m\u001b[0;34m(\u001b[0m\u001b[0;34m(\u001b[0m\u001b[0margs\u001b[0m\u001b[0;34m,\u001b[0m \u001b[0mkwargs\u001b[0m\u001b[0;34m)\u001b[0m\u001b[0;34m)\u001b[0m\u001b[0;34m,\u001b[0m \u001b[0musedforsecurity\u001b[0m\u001b[0;34m=\u001b[0m\u001b[0;32mFalse\u001b[0m\u001b[0;34m)\u001b[0m\u001b[0;34m.\u001b[0m\u001b[0mhexdigest\u001b[0m\u001b[0;34m(\u001b[0m\u001b[0;34m)\u001b[0m\u001b[0;34m\u001b[0m\u001b[0;34m\u001b[0m\u001b[0m\n",
      "\u001b[0;32m~/documents/boulot/2024_esrf/code/laueimproc/laueimproc/classes/diagram.py\u001b[0m in \u001b[0;36mfit_gaussians\u001b[0;34m(self, loss, indexing, **kwargs)\u001b[0m\n\u001b[1;32m    273\u001b[0m \u001b[0;34m\u001b[0m\u001b[0m\n\u001b[1;32m    274\u001b[0m         \u001b[0;31m# main fit\u001b[0m\u001b[0;34m\u001b[0m\u001b[0;34m\u001b[0m\u001b[0m\n\u001b[0;32m--> 275\u001b[0;31m         \u001b[0mmean\u001b[0m\u001b[0;34m,\u001b[0m \u001b[0mcov\u001b[0m\u001b[0;34m,\u001b[0m \u001b[0mmagnitude\u001b[0m\u001b[0;34m,\u001b[0m \u001b[0minfodict\u001b[0m \u001b[0;34m=\u001b[0m \u001b[0mfit_gaussians\u001b[0m\u001b[0;34m(\u001b[0m\u001b[0mrois\u001b[0m\u001b[0;34m,\u001b[0m \u001b[0mloss\u001b[0m\u001b[0;34m,\u001b[0m \u001b[0;34m**\u001b[0m\u001b[0mkwargs\u001b[0m\u001b[0;34m)\u001b[0m\u001b[0;34m\u001b[0m\u001b[0;34m\u001b[0m\u001b[0m\n\u001b[0m\u001b[1;32m    276\u001b[0m \u001b[0;34m\u001b[0m\u001b[0m\n\u001b[1;32m    277\u001b[0m         \u001b[0;31m# spot base to diagram base\u001b[0m\u001b[0;34m\u001b[0m\u001b[0;34m\u001b[0m\u001b[0m\n",
      "\u001b[0;32m~/documents/boulot/2024_esrf/code/laueimproc/laueimproc/improc/spot/fit.py\u001b[0m in \u001b[0;36mfit_gaussians\u001b[0;34m(rois, loss, eigtheta, **kwargs)\u001b[0m\n\u001b[1;32m    294\u001b[0m \u001b[0;34m\u001b[0m\u001b[0m\n\u001b[1;32m    295\u001b[0m \u001b[0;34m\u001b[0m\u001b[0m\n\u001b[0;32m--> 296\u001b[0;31m     \u001b[0;32mraise\u001b[0m \u001b[0mNotImplementedError\u001b[0m\u001b[0;34m\u001b[0m\u001b[0;34m\u001b[0m\u001b[0m\n\u001b[0m\u001b[1;32m    297\u001b[0m \u001b[0;34m\u001b[0m\u001b[0m\n\u001b[1;32m    298\u001b[0m \u001b[0;34m\u001b[0m\u001b[0m\n",
      "\u001b[0;31mNotImplementedError\u001b[0m: "
     ]
    }
   ],
   "source": [
    "# very fast fit with \"expectation maximization\" algorithm\n",
    "mean_em, cov_em, infodict_em = diagrams[0].fit_gaussian_em()  # like pca and barycenter\n",
    "print(\"shape mean:\", mean_em.shape)  # the position i, j of the center of the gaussian for each spot\n",
    "print(\"shape cov:\", cov_em.shape)  # the covariance matrix of the gaussian for each spot\n",
    "assert infodict_em == {}  # empty because no parameters provided\n",
    "*_, infodict_em = diagrams[0].fit_gaussian_em(aic=True, bic=True, eigtheta=True, log_likelihood=True)\n",
    "print(sorted(infodict_em))  # more informations\n",
    "*_, infodict_em = diagrams[0].fit_gaussian_em(photon_density=10900.0, tol=True)\n",
    "print(sorted(infodict_em))  # mean standard deviation estimator\n",
    "\n",
    "# fast fit with classical loss minimization\n",
    "mean_mse, cov_mse, mag_mse, infodict_mse = diagrams[0].fit_gaussian(loss=\"mse\", parallel=False)\n",
    "print(\"shape mean:\", mean_em.shape)  # the position i, j of the center of the gaussian for each spot\n",
    "print(\"shape cov:\", cov_em.shape)  # the covariance matrix of the gaussian for each spot"
   ]
  }
 ],
 "metadata": {
  "kernelspec": {
   "display_name": "Python 3 (ipykernel)",
   "language": "python",
   "name": "python3"
  },
  "language_info": {
   "codemirror_mode": {
    "name": "ipython",
    "version": 3
   },
   "file_extension": ".py",
   "mimetype": "text/x-python",
   "name": "python",
   "nbconvert_exporter": "python",
   "pygments_lexer": "ipython3",
   "version": "3.10.12"
  }
 },
 "nbformat": 4,
 "nbformat_minor": 5
}
