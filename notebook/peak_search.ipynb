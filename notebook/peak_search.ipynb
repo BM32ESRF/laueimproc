{
 "cells": [
  {
   "cell_type": "code",
   "execution_count": 1,
   "id": "414275ac",
   "metadata": {},
   "outputs": [],
   "source": [
    "from laueimproc.io.download import get_samples\n",
    "from laueimproc.classes.diagram import Diagram"
   ]
  },
  {
   "cell_type": "markdown",
   "id": "40311a69",
   "metadata": {},
   "source": [
    "# Iterate over diferents diagrams"
   ]
  },
  {
   "cell_type": "code",
   "execution_count": 2,
   "id": "9c1b937e",
   "metadata": {},
   "outputs": [],
   "source": [
    "diagrams = [Diagram(file) for file in get_samples().iterdir()]  # create independants diagrams"
   ]
  },
  {
   "cell_type": "code",
   "execution_count": 3,
   "id": "59018049",
   "metadata": {},
   "outputs": [
    {
     "data": {
      "text/plain": [
       "dict_keys([<laueimproc.classes.spot.Spot object at 0x7fc4b813ef80>, <laueimproc.classes.spot.Spot object at 0x7fc4b813f070>, <laueimproc.classes.spot.Spot object at 0x7fc4b813eec0>, <laueimproc.classes.spot.Spot object at 0x7fc4b813eda0>, <laueimproc.classes.spot.Spot object at 0x7fc4b813fcd0>, <laueimproc.classes.spot.Spot object at 0x7fc4b813c910>, <laueimproc.classes.spot.Spot object at 0x7fc4b813d780>, <laueimproc.classes.spot.Spot object at 0x7fc4b813cf40>, <laueimproc.classes.spot.Spot object at 0x7fc4b813d5d0>, <laueimproc.classes.spot.Spot object at 0x7fc4b813cac0>, <laueimproc.classes.spot.Spot object at 0x7fc4b813d540>, <laueimproc.classes.spot.Spot object at 0x7fc4b813d480>, <laueimproc.classes.spot.Spot object at 0x7fc4b813d420>, <laueimproc.classes.spot.Spot object at 0x7fc4b813cfa0>, <laueimproc.classes.spot.Spot object at 0x7fc4b813d000>, <laueimproc.classes.spot.Spot object at 0x7fc4b813d060>, <laueimproc.classes.spot.Spot object at 0x7fc4b813d720>, <laueimproc.classes.spot.Spot object at 0x7fc4b813c3a0>, <laueimproc.classes.spot.Spot object at 0x7fc4b813c400>, <laueimproc.classes.spot.Spot object at 0x7fc4b813de10>, <laueimproc.classes.spot.Spot object at 0x7fc4b813ddb0>, <laueimproc.classes.spot.Spot object at 0x7fc4b813eb90>, <laueimproc.classes.spot.Spot object at 0x7fc4b813db70>, <laueimproc.classes.spot.Spot object at 0x7fc4b813f880>, <laueimproc.classes.spot.Spot object at 0x7fc4b813f8e0>, <laueimproc.classes.spot.Spot object at 0x7fc4b813fc10>, <laueimproc.classes.spot.Spot object at 0x7fc4b813d360>, <laueimproc.classes.spot.Spot object at 0x7fc4b813dea0>, <laueimproc.classes.spot.Spot object at 0x7fc4b813c190>, <laueimproc.classes.spot.Spot object at 0x7fc4b813c2e0>, <laueimproc.classes.spot.Spot object at 0x7fc4b813df30>, <laueimproc.classes.spot.Spot object at 0x7fc4b813c070>, <laueimproc.classes.spot.Spot object at 0x7fc4b813c0d0>, <laueimproc.classes.spot.Spot object at 0x7fc4b813c490>, <laueimproc.classes.spot.Spot object at 0x7fc4b813fa00>, <laueimproc.classes.spot.Spot object at 0x7fc4b813e320>, <laueimproc.classes.spot.Spot object at 0x7fc4b813fb20>, <laueimproc.classes.spot.Spot object at 0x7fc4b813fca0>, <laueimproc.classes.spot.Spot object at 0x7fc4b813f9d0>, <laueimproc.classes.spot.Spot object at 0x7fc4b813f820>, <laueimproc.classes.spot.Spot object at 0x7fc4b813f7c0>, <laueimproc.classes.spot.Spot object at 0x7fc4b813f760>, <laueimproc.classes.spot.Spot object at 0x7fc4b813eb00>, <laueimproc.classes.spot.Spot object at 0x7fc4b813eaa0>, <laueimproc.classes.spot.Spot object at 0x7fc4b813ea40>, <laueimproc.classes.spot.Spot object at 0x7fc4b813e9e0>, <laueimproc.classes.spot.Spot object at 0x7fc4b813e980>, <laueimproc.classes.spot.Spot object at 0x7fc4b813e830>, <laueimproc.classes.spot.Spot object at 0x7fc4b813e2c0>, <laueimproc.classes.spot.Spot object at 0x7fc4b813c340>, <laueimproc.classes.spot.Spot object at 0x7fc4b813d7e0>, <laueimproc.classes.spot.Spot object at 0x7fc4b813de40>, <laueimproc.classes.spot.Spot object at 0x7fc4b813c820>, <laueimproc.classes.spot.Spot object at 0x7fc4b813c7f0>, <laueimproc.classes.spot.Spot object at 0x7fc4b813d9c0>, <laueimproc.classes.spot.Spot object at 0x7fc4b813c280>, <laueimproc.classes.spot.Spot object at 0x7fc4b813df60>, <laueimproc.classes.spot.Spot object at 0x7fc4b813d660>, <laueimproc.classes.spot.Spot object at 0x7fc4b813c7c0>, <laueimproc.classes.spot.Spot object at 0x7fc4b813cd30>, <laueimproc.classes.spot.Spot object at 0x7fc4b813cd90>, <laueimproc.classes.spot.Spot object at 0x7fc4b813d6c0>, <laueimproc.classes.spot.Spot object at 0x7fc4b813c670>, <laueimproc.classes.spot.Spot object at 0x7fc4b813dbd0>, <laueimproc.classes.spot.Spot object at 0x7fc4b813d3c0>, <laueimproc.classes.spot.Spot object at 0x7fc4b813c610>, <laueimproc.classes.spot.Spot object at 0x7fc4b813c580>, <laueimproc.classes.spot.Spot object at 0x7fc4b813c520>, <laueimproc.classes.spot.Spot object at 0x7fc4b813d330>, <laueimproc.classes.spot.Spot object at 0x7fc4b813d2d0>, <laueimproc.classes.spot.Spot object at 0x7fc4b813dd80>, <laueimproc.classes.spot.Spot object at 0x7fc4b813ce80>, <laueimproc.classes.spot.Spot object at 0x7fc4b813cc40>, <laueimproc.classes.spot.Spot object at 0x7fc4b813c700>, <laueimproc.classes.spot.Spot object at 0x7fc4b813d8a0>, <laueimproc.classes.spot.Spot object at 0x7fc4b813ca30>, <laueimproc.classes.spot.Spot object at 0x7fc4b813ccd0>, <laueimproc.classes.spot.Spot object at 0x7fc4b813e110>, <laueimproc.classes.spot.Spot object at 0x7fc4b813ebc0>, <laueimproc.classes.spot.Spot object at 0x7fc4b813d840>, <laueimproc.classes.spot.Spot object at 0x7fc4b813de70>, <laueimproc.classes.spot.Spot object at 0x7fc4b813ce20>, <laueimproc.classes.spot.Spot object at 0x7fc4b813c790>, <laueimproc.classes.spot.Spot object at 0x7fc4b813e920>, <laueimproc.classes.spot.Spot object at 0x7fc4b813ff70>, <laueimproc.classes.spot.Spot object at 0x7fc4b813c970>, <laueimproc.classes.spot.Spot object at 0x7fc4b813ec50>, <laueimproc.classes.spot.Spot object at 0x7fc4b813ecb0>, <laueimproc.classes.spot.Spot object at 0x7fc4b813ed10>, <laueimproc.classes.spot.Spot object at 0x7fc4b813ed70>, <laueimproc.classes.spot.Spot object at 0x7fc4b813ee30>, <laueimproc.classes.spot.Spot object at 0x7fc4b813f6d0>, <laueimproc.classes.spot.Spot object at 0x7fc4b813ee60>, <laueimproc.classes.spot.Spot object at 0x7fc4b813e8f0>, <laueimproc.classes.spot.Spot object at 0x7fc4b813e230>, <laueimproc.classes.spot.Spot object at 0x7fc4b813d810>, <laueimproc.classes.spot.Spot object at 0x7fc4b813fdf0>, <laueimproc.classes.spot.Spot object at 0x7fc4b813ff40>, <laueimproc.classes.spot.Spot object at 0x7fc4b813ffd0>, <laueimproc.classes.spot.Spot object at 0x7fc4b813e7a0>, <laueimproc.classes.spot.Spot object at 0x7fc4b813e770>, <laueimproc.classes.spot.Spot object at 0x7fc4b813e5f0>, <laueimproc.classes.spot.Spot object at 0x7fc4b813e5c0>, <laueimproc.classes.spot.Spot object at 0x7fc4b813efe0>, <laueimproc.classes.spot.Spot object at 0x7fc4b813f010>, <laueimproc.classes.spot.Spot object at 0x7fc4b813f0a0>, <laueimproc.classes.spot.Spot object at 0x7fc4b813f1c0>])"
      ]
     },
     "execution_count": 3,
     "metadata": {},
     "output_type": "execute_result"
    }
   ],
   "source": [
    "diagrams[0].spots"
   ]
  },
  {
   "cell_type": "code",
   "execution_count": null,
   "id": "6ad60f1e",
   "metadata": {},
   "outputs": [],
   "source": []
  }
 ],
 "metadata": {
  "kernelspec": {
   "display_name": "Python 3 (ipykernel)",
   "language": "python",
   "name": "python3"
  },
  "language_info": {
   "codemirror_mode": {
    "name": "ipython",
    "version": 3
   },
   "file_extension": ".py",
   "mimetype": "text/x-python",
   "name": "python",
   "nbconvert_exporter": "python",
   "pygments_lexer": "ipython3",
   "version": "3.10.12"
  }
 },
 "nbformat": 4,
 "nbformat_minor": 5
}
