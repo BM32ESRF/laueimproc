{
 "cells": [
  {
   "cell_type": "markdown",
   "id": "0ed8092b-0a67-441d-a563-6a4c903e8474",
   "metadata": {},
   "source": [
    "## Multi-grain diagram simulation."
   ]
  },
  {
   "cell_type": "code",
   "execution_count": null,
   "id": "5b463071-62ee-42a3-8460-bab559135240",
   "metadata": {},
   "outputs": [],
   "source": [
    "import math\n",
    "import random\n",
    "import timeit\n",
    "\n",
    "from tqdm.autonotebook import tqdm\n",
    "import matplotlib.pyplot as plt\n",
    "import torch\n",
    "\n",
    "from laueimproc.geometry import *\n",
    "from laueimproc.geometry.model import BraggModel\n",
    "from laueimproc.geometry.indexation import StupidIndexator"
   ]
  },
  {
   "cell_type": "markdown",
   "id": "02710123-52b5-4454-8245-fe8583072096",
   "metadata": {},
   "source": [
    "### Reference constants and parameters\n",
    "* `LATTICE` is the 3x2 matrix of the lattice parameter $[[a, b, c], [\\alpha, \\beta, \\gamma]]$\n",
    "* `PONI` are the detector parameters $[dist, poni_1, poni_2, rot_1, rot_2, rot_3]$\n",
    "\n",
    "The convention adopted is the pyfai convention. Have a look on the documentation for more details."
   ]
  },
  {
   "cell_type": "code",
   "execution_count": null,
   "id": "1ecc38b7-8ce4-4baf-8a8f-b290d7c23f49",
   "metadata": {},
   "outputs": [],
   "source": [
    "LATTICE = torch.tensor([3.6e-10, 3.6e-10, 3.6e-10, torch.pi/2, torch.pi/2, torch.pi/2])  # copper\n",
    "PONI = torch.tensor([0.07, 73.4e-3, 73.4e-3, 0.0, -torch.pi/2, 0.0])  # mode laue detector on top\n",
    "DETECTOR = {\"shape\": (2018, 2016), \"pxl\": 73.4e-6}  # shape is along d1 then d2"
   ]
  },
  {
   "cell_type": "code",
   "execution_count": null,
   "id": "00a273ea-bcf4-4326-b314-02dd590f6de3",
   "metadata": {},
   "outputs": [],
   "source": [
    "EV = 1.60e-19  # 1 eV = EV J\n",
    "RAD = math.pi / 180.0\n",
    "DEVICE = torch.device(\"cuda:0\" if torch.cuda.is_available() else \"cpu\")"
   ]
  },
  {
   "cell_type": "markdown",
   "id": "24ff7ec5-a38e-4ec5-9275-c45cdac2b78f",
   "metadata": {},
   "source": [
    "### Associate the functions\n",
    "* `laueimproc` provides atomic function to juggle with Bragg diffraction. It is your own stuff to compose them.\n",
    "* Have a look on the `diffraction` tab of the api documentation."
   ]
  },
  {
   "cell_type": "code",
   "execution_count": null,
   "id": "84bab09c-3027-4847-9906-1f5b3b2cef47",
   "metadata": {},
   "outputs": [],
   "source": [
    "def lattice_to_reciprocal(lattice):\n",
    "    primitive = lattice_to_primitive(lattice)\n",
    "    reciprocal = primitive_to_reciprocal(primitive)\n",
    "    return reciprocal\n",
    "\n",
    "def hkl_reciprocal_rot_to_uq(hkl, reciprocal, rot):\n",
    "    reciprocal_rotated = rotate_crystal(reciprocal, rot)\n",
    "    u_q = hkl_reciprocal_to_uq(hkl, reciprocal_rotated)\n",
    "    return u_q\n",
    "    \n",
    "def uq_poni_to_detector(u_q, poni):\n",
    "    u_f = uq_to_uf(u_q)\n",
    "    point, dist = ray_to_detector(u_f, poni)\n",
    "    point = point[dist > 0, :]  # ray wrong direction => virtual intersection\n",
    "    point = point[point[..., 0] > 0, :]  # out of detector top\n",
    "    point = point[point[..., 0] < DETECTOR[\"shape\"][0] * DETECTOR[\"pxl\"], :]  # out of detector bottom\n",
    "    point = point[point[..., 1] > 0, :]  # out of detector left\n",
    "    point = point[point[..., 1] < DETECTOR[\"shape\"][1] * DETECTOR[\"pxl\"], :]  # out of detector right\n",
    "    return point\n",
    "\n",
    "def detector_poni_to_uq(point, poni):\n",
    "    u_f = detector_to_ray(point, poni)\n",
    "    u_q = uf_to_uq(u_f)\n",
    "    return u_q"
   ]
  },
  {
   "cell_type": "code",
   "execution_count": null,
   "id": "4dc44dd9-1404-422c-b2c4-2649b8a9130f",
   "metadata": {},
   "outputs": [],
   "source": [
    "def full_simulation(hkl, lattice, rot, poni):\n",
    "    reciprocal = lattice_to_reciprocal(lattice)\n",
    "    u_q = hkl_reciprocal_rot_to_uq(hkl, reciprocal, rot)\n",
    "    point = uq_poni_to_detector(u_q, poni)\n",
    "    return point"
   ]
  },
  {
   "cell_type": "markdown",
   "id": "03a3de89-0dd0-4857-a64e-87a5f3acd2df",
   "metadata": {},
   "source": [
    "### Timing simulation"
   ]
  },
  {
   "cell_type": "code",
   "execution_count": null,
   "id": "05fc576f-45a2-4497-8ada-8dc0985f4bae",
   "metadata": {},
   "outputs": [],
   "source": [
    "# simple timing\n",
    "\n",
    "BATCH = 100  # number of simulated diagrams\n",
    "ROT = torch.eye(3)\n",
    "\n",
    "hkl = select_hkl(lattice_to_reciprocal(LATTICE), e_max=25e3*EV, keep_harmonics=False)\n",
    "\n",
    "# case float64\n",
    "lattice, rot, poni = LATTICE.clone().to(torch.float64), ROT.clone().to(torch.float64), PONI.clone().to(torch.float64)\n",
    "speed = min(timeit.repeat(lambda: full_simulation(hkl, lattice, rot, poni), repeat=10, number=BATCH)) / BATCH\n",
    "print(f\"float64: it takes {speed*1e6:.2f}us by simulation <=> {1.0/speed:.2f}Hz\")\n",
    "\n",
    "# case float32\n",
    "lattice, rot, poni = LATTICE.clone().to(torch.float32), ROT.clone().to(torch.float32), PONI.clone().to(torch.float32)\n",
    "speed = min(timeit.repeat(lambda: full_simulation(hkl, lattice, rot, poni), repeat=10, number=BATCH)) / BATCH\n",
    "print(f\"float32: it takes {speed*1e6:.2f}us by simulation <=> {1.0/speed:.2f}Hz\")\n",
    "\n",
    "# case float64 batched\n",
    "lattice, rot, poni = LATTICE.clone().to(torch.float64), ROT.clone().to(torch.float64), PONI.clone().to(torch.float64)\n",
    "lattice = lattice[None, :].expand(BATCH, -1)\n",
    "speed = min(timeit.repeat(lambda: full_simulation(hkl, lattice, rot, poni), repeat=10, number=1)) / BATCH\n",
    "print(f\"float64 batched: it takes {speed*1e6:.2f}us by simulation <=> {1.0/speed:.2f}Hz\")\n",
    "\n",
    "# case float32 batched\n",
    "lattice, rot, poni = LATTICE.clone().to(torch.float32), ROT.clone().to(torch.float32), PONI.clone().to(torch.float32)\n",
    "lattice = lattice[None, :].expand(BATCH, -1)\n",
    "speed = min(timeit.repeat(lambda: full_simulation(hkl, lattice, rot, poni), repeat=10, number=1)) / BATCH\n",
    "print(f\"float32 batched: it takes {speed*1e6:.2f}us by simulation <=> {1.0/speed:.2f}Hz\")\n",
    "\n",
    "# case float64 batched compiled\n",
    "lattice, rot, poni = LATTICE.clone().to(torch.float64), ROT.clone().to(torch.float64), PONI.clone().to(torch.float64)\n",
    "lattice = lattice[None, :].expand(BATCH, -1)\n",
    "full_simulation_comp = torch.compile(full_simulation, dynamic=False)\n",
    "speed = min(timeit.repeat(lambda: full_simulation_comp(hkl, lattice, rot, poni), repeat=10, number=1)) / BATCH\n",
    "print(f\"float64 batched compiled: it takes {speed*1e6:.2f}us by simulation <=> {1.0/speed:.2f}Hz\")\n",
    "\n",
    "# case float32 batched compiled\n",
    "lattice, rot, poni = LATTICE.clone().to(torch.float32), ROT.clone().to(torch.float32), PONI.clone().to(torch.float32)\n",
    "lattice = lattice[None, :].expand(BATCH, -1)\n",
    "full_simulation_comp = torch.compile(full_simulation, dynamic=False)\n",
    "speed = min(timeit.repeat(lambda: full_simulation_comp(hkl, lattice, rot, poni), repeat=10, number=1)) / BATCH\n",
    "print(f\"float32 batched compiled: it takes {speed*1e6:.2f}us by simulation <=> {1.0/speed:.2f}Hz\")\n",
    "\n",
    "if DEVICE.type == \"cuda\":\n",
    "    # case float64 batched compiled gpu\n",
    "    lattice, rot, poni = (\n",
    "        LATTICE.clone().to(dtype=torch.float64, device=DEVICE),\n",
    "        ROT.clone().to(dtype=torch.float64, device=DEVICE),\n",
    "        PONI.clone().to(dtype=torch.float64, device=DEVICE),\n",
    "    )\n",
    "    lattice = lattice[None, :].expand(BATCH, -1)\n",
    "    full_simulation_comp = torch.compile(full_simulation, dynamic=False)\n",
    "    speed = min(timeit.repeat(lambda: full_simulation_comp(hkl, lattice, rot, poni), repeat=10, number=1)) / BATCH\n",
    "    print(f\"float64 batched compiled gpu: it takes {speed*1e6:.2f}us by simulation <=> {1.0/speed:.2f}Hz\")\n",
    "    \n",
    "    # case float32 batched compiled gpu\n",
    "    lattice, rot, poni = (\n",
    "        LATTICE.clone().to(dtype=torch.float32, device=DEVICE),\n",
    "        ROT.clone().to(dtype=torch.float32, device=DEVICE),\n",
    "        PONI.clone().to(dtype=torch.float32, device=DEVICE),\n",
    "    )\n",
    "    lattice = lattice[None, :].expand(BATCH, -1)\n",
    "    full_simulation_comp = torch.compile(full_simulation, dynamic=False)\n",
    "    speed = min(timeit.repeat(lambda: full_simulation_comp(hkl, lattice, rot, poni), repeat=10, number=1)) / BATCH\n",
    "    print(f\"float32 batched compiled gpu: it takes {speed*1e6:.2f}us by simulation <=> {1.0/speed:.2f}Hz\")"
   ]
  }
 ],
 "metadata": {
  "kernelspec": {
   "display_name": "Python 3 (ipykernel)",
   "language": "python",
   "name": "python3"
  },
  "language_info": {
   "codemirror_mode": {
    "name": "ipython",
    "version": 3
   },
   "file_extension": ".py",
   "mimetype": "text/x-python",
   "name": "python",
   "nbconvert_exporter": "python",
   "pygments_lexer": "ipython3",
   "version": "3.11.9"
  }
 },
 "nbformat": 4,
 "nbformat_minor": 5
}
