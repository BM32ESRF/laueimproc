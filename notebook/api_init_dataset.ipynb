{
 "cells": [
  {
   "cell_type": "markdown",
   "id": "c6b8a4f1",
   "metadata": {},
   "source": [
    "## This notebook shows all the means to create and to configure DiagramDataset\n",
    "* A `DiagramDataset` allows you to exploit information on the spatial position of different shots.\n",
    "* A `DiagramDataset` allows you to manage data persistence in real time as well."
   ]
  },
  {
   "cell_type": "code",
   "execution_count": 1,
   "id": "8db14572",
   "metadata": {},
   "outputs": [],
   "source": [
    "import pathlib\n",
    "import shutil\n",
    "import tempfile\n",
    "import time\n",
    "\n",
    "from laueimproc.io.download import get_samples  # gives access to the dataset\n",
    "from laueimproc import Diagram, DiagramDataset"
   ]
  },
  {
   "cell_type": "markdown",
   "id": "898ede9e",
   "metadata": {},
   "source": [
    "### How to add diagrams to the dataset ?\n",
    "* All the means to init a `Diagram` are described in the `api_init_diagram` notebook.\n",
    "* You can append diagrams before or after having define a function chain."
   ]
  },
  {
   "cell_type": "code",
   "execution_count": 2,
   "id": "90e0bec3",
   "metadata": {},
   "outputs": [],
   "source": [
    "# from a pathlike\n",
    "folder = get_samples()\n",
    "dataset_1 = DiagramDataset(folder)  # pathlib.Path directory\n",
    "dataset_2 = DiagramDataset(min(folder.glob(\"*.jp2\")))  # pathlib.Path file\n",
    "\n",
    "# from `Diagram` instances\n",
    "diagrams = [Diagram(f) for f in sorted(folder.glob(\"*.jp2\"))]\n",
    "dataset_3 = DiagramDataset(diagrams)  # from an iterable of diagrams\n",
    "dataset_4 = DiagramDataset(diagrams[0], diagrams[-1])  # from a few well-chosen diagrams\n",
    "\n",
    "# big mix\n",
    "dataset_5 = DiagramDataset(diagrams[0], diagrams[1], [diagrams[2], diagrams[3]], diagrams[4].file)"
   ]
  },
  {
   "cell_type": "code",
   "execution_count": 3,
   "id": "ebb72e98",
   "metadata": {},
   "outputs": [
    {
     "name": "stdout",
     "output_type": "stream",
     "text": [
      "the dataset contains 1 diagrams\n",
      "the dataset contains 1 diagrams\n",
      "the dataset contains 1 diagrams\n",
      "the dataset contains 1 diagrams\n",
      "the dataset contains 5 diagrams\n",
      "the dataset contains 5 diagrams\n",
      "the dataset contains 5 diagrams\n",
      "the dataset contains 5 diagrams\n",
      "the dataset contains 5 diagrams\n",
      "the dataset contains 10 diagrams\n",
      "the dataset contains 10 diagrams\n",
      "Diagram from img_00.jp2:\n",
      "    History empty, please initialize the spots `self.find_spots()`.\n",
      "    Current state:\n",
      "        * id, state: 137905629015600, 3dd438383ae07061c7b4b326616f6b29\n",
      "        * total mem: 400.0B\n"
     ]
    }
   ],
   "source": [
    "# from an uncomplet directory for real time\n",
    "unfilled_folder = pathlib.Path(tempfile.mkdtemp())\n",
    "dataset = DiagramDataset(unfilled_folder)\n",
    "for diagram in diagrams[:10]:  # copy half dataset\n",
    "    shutil.copy(diagram.file, unfilled_folder)\n",
    "    time.sleep(2)\n",
    "    print(f\"the dataset contains {len(dataset)} diagrams\")\n",
    "time.sleep(10)\n",
    "print(f\"the dataset contains {len(dataset)} diagrams\")\n",
    "\n",
    "print(dataset[0])"
   ]
  },
  {
   "cell_type": "markdown",
   "id": "2bb9199c",
   "metadata": {},
   "source": [
    "### How to apply a function ?"
   ]
  },
  {
   "cell_type": "code",
   "execution_count": 4,
   "id": "23a1ddd3",
   "metadata": {},
   "outputs": [],
   "source": [
    "def peaks_search(diagram: Diagram, density: float) -> int:\n",
    "    \"\"\"Apply peak search and return the number of peacks founded.\"\"\"\n",
    "    diagram.find_spots(density=density)\n",
    "    return len(diagram)\n",
    "\n",
    "def sorted_pxl_max(diagram: Diagram):\n",
    "    \"\"\"Sorted the diagram by decreasing intensities.\"\"\"\n",
    "    indexs = diagram.rois.amax(dim=(1, 2)).argsort(descending=True)\n",
    "    diagram.filter_spots(indexs, msg=\"sorted by decreasing intensities\", inplace=True)"
   ]
  },
  {
   "cell_type": "code",
   "execution_count": 5,
   "id": "cc4c7c84",
   "metadata": {},
   "outputs": [
    {
     "name": "stderr",
     "output_type": "stream",
     "text": [
      "100%|███████████████████████████████████████████████████████████| 10/10 [00:00<00:00, 31230.86diag/s]\n"
     ]
    },
    {
     "name": "stdout",
     "output_type": "stream",
     "text": [
      "{0: 1217, 4: 505, 3: 2330, 2: 3387, 1: 534, 9: 239, 8: 334, 7: 977, 6: 529, 5: 297}\n"
     ]
    },
    {
     "name": "stderr",
     "output_type": "stream",
     "text": [
      "100%|███████████████████████████████████████████████████████████| 10/10 [00:00<00:00, 22322.00diag/s]"
     ]
    },
    {
     "name": "stdout",
     "output_type": "stream",
     "text": [
      "Diagram from img_00.jp2:\n",
      "    History:\n",
      "        1. 1217 spots from self.find_spots(density=0.6)\n",
      "        2. 1217 to 1217 spots: sorted by decreasing intensities\n",
      "    Current state:\n",
      "        * id, state: 137905629015600, bc847205c859e6124b1a34fa2741448f\n",
      "        * nbr spots: 1217\n",
      "        * total mem: 16.5MB\n"
     ]
    },
    {
     "name": "stderr",
     "output_type": "stream",
     "text": [
      "\n"
     ]
    }
   ],
   "source": [
    "# apply to existing diagrams\n",
    "nbr_spots = dataset.apply(peaks_search, args=(0.6,))\n",
    "print(nbr_spots)\n",
    "_ = dataset.apply(sorted_pxl_max)\n",
    "print(dataset[0])"
   ]
  },
  {
   "cell_type": "code",
   "execution_count": 6,
   "id": "e6bd7dff",
   "metadata": {},
   "outputs": [
    {
     "name": "stdout",
     "output_type": "stream",
     "text": [
      "Diagram from img_99.jp2:\n",
      "    History:\n",
      "        1. 1199 spots from self.find_spots(density=0.6)\n",
      "        2. 1199 to 1199 spots: sorted by decreasing intensities\n",
      "    Current state:\n",
      "        * id, state: 137905629098432, a745bd187ee0c48269aad677c17e427f\n",
      "        * nbr spots: 1199\n",
      "        * total mem: 16.7MB\n"
     ]
    }
   ],
   "source": [
    "# apply in real time to scanned diagrams as they are scanned\n",
    "for diagram in diagrams[10:]:\n",
    "    shutil.copy(diagram.file, unfilled_folder)\n",
    "while True:\n",
    "    try:\n",
    "        print(dataset[99])\n",
    "    except IndexError:\n",
    "        time.sleep(1)\n",
    "    else:\n",
    "        break"
   ]
  },
  {
   "cell_type": "code",
   "execution_count": 11,
   "id": "0afddb8c",
   "metadata": {},
   "outputs": [
    {
     "name": "stderr",
     "output_type": "stream",
     "text": [
      "100%|███████████████████████████████████████████████████████████| 20/20 [00:00<00:00, 49200.05diag/s]"
     ]
    },
    {
     "name": "stdout",
     "output_type": "stream",
     "text": [
      "[0, 5, 10, 15, 20, 25, 30, 35, 40, 45, 50, 55, 60, 65, 70, 75, 80, 85, 90, 95]\n"
     ]
    },
    {
     "name": "stderr",
     "output_type": "stream",
     "text": [
      "\n"
     ]
    }
   ],
   "source": [
    "# apply only on a subset\n",
    "indexs = dataset[::5].apply(sorted_pxl_max)\n",
    "print(sorted(indexs))"
   ]
  }
 ],
 "metadata": {
  "kernelspec": {
   "display_name": "Python 3 (ipykernel)",
   "language": "python",
   "name": "python3"
  },
  "language_info": {
   "codemirror_mode": {
    "name": "ipython",
    "version": 3
   },
   "file_extension": ".py",
   "mimetype": "text/x-python",
   "name": "python",
   "nbconvert_exporter": "python",
   "pygments_lexer": "ipython3",
   "version": "3.10.12"
  }
 },
 "nbformat": 4,
 "nbformat_minor": 5
}
