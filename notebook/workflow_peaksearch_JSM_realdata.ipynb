{
 "cells": [
  {
   "cell_type": "markdown",
   "id": "7057f608",
   "metadata": {},
   "source": [
    "# This notebook shows the canonical mean to select some spots with a simple filter\n",
    "* It is possible to interact with external libraries, have a look on the `init_diagram` notebook.\n",
    "* To instantiate a `Diagram` allows you to apply efficiently filters based on image processing.\n",
    "* They are several means to instantiate a `diagram` some of them are betters than others."
   ]
  },
  {
   "cell_type": "code",
   "execution_count": null,
   "id": "1f43a2ab",
   "metadata": {},
   "outputs": [],
   "source": [
    "%matplotlib notebook\n",
    "\n",
    "import multiprocessing.pool\n",
    "import pathlib\n",
    "\n",
    "import matplotlib.pyplot as plt\n",
    "import torch\n",
    "import tqdm\n",
    "\n",
    "import os\n",
    "\n",
    "from laueimproc import Diagram\n",
    "from laueimproc.io.download import get_samples  # gives access to the dataset"
   ]
  },
  {
   "cell_type": "markdown",
   "id": "3d154742",
   "metadata": {},
   "source": [
    "# Init the set of all possible Laue pattern: `diagrams`\n",
    "* The different ways of initializing a diagram are described in detail in the `init_diagram` notebook.\n",
    "\n",
    "**WARNING! to launch only once (to avoid memory increase)**"
   ]
  },
  {
   "cell_type": "code",
   "execution_count": null,
   "id": "e6d516d9",
   "metadata": {
    "scrolled": false
   },
   "outputs": [],
   "source": [
    "#all_files = sorted(get_samples().glob(\"*.jp2\"))  # the list of all images path\n",
    "#all_files = list(pathlib.Path(\"/data/visitor/a322855/bm32/20240221/RAW_DATA/Almardi/Almardi_map2DGemardi3_GOOD_0004/scan0002\").iterdir())\n",
    "\n",
    "# sort by name the list of only image file .tif\n",
    "all_files = sorted(pathlib.Path(\"/data/visitor/a322855/bm32/20240221/RAW_DATA/Almardi/Almardi_2D_Almardi/scan0001/\").glob('*.tif'))\n",
    "papath = \"/data/visitor/a322855/bm32/20240221/RAW_DATA/Almardi/Almardi_2D_Almardi/scan0001/\"\n",
    "\n",
    "myfuncsort = lambda elem: int(os.path.split(elem)[-1][:-4].split('_')[-1])\n",
    "all_files = sorted(pathlib.Path(papath).glob('*.tif'), key= myfuncsort)\n",
    "\n",
    "CCDLabel = 'sCMOS'\n",
    "\n",
    "print('preparing diagram %s objects -----'%len(all_files))\n",
    "diagrams = [Diagram(f) for f in tqdm.tqdm(all_files)]\n",
    "nbimages = len(diagrams)\n",
    "if CCDLabel in ('sCMOS','MARCCD165'):\n",
    "    imagedynamics = 65535 # 2**16 -1\n"
   ]
  },
  {
   "cell_type": "markdown",
   "id": "492e4199",
   "metadata": {},
   "source": [
    "# peak search on all images (with opencv)"
   ]
  },
  {
   "cell_type": "code",
   "execution_count": null,
   "id": "a16bfd1f",
   "metadata": {},
   "outputs": [],
   "source": [
    "# density  from 0 to 1 : large density to get higher nb of spots \n",
    "for diagram in tqdm.tqdm(diagrams):\n",
    "    diagram.find_spots(density=0.7)"
   ]
  },
  {
   "cell_type": "markdown",
   "id": "a0ec8440",
   "metadata": {},
   "source": [
    "# look at the results"
   ]
  },
  {
   "cell_type": "code",
   "execution_count": null,
   "id": "919a821d",
   "metadata": {},
   "outputs": [],
   "source": [
    "# you can launch the peak search on a single image\n",
    "_idx=22000\n",
    "mydiagram = diagrams[_idx]\n",
    "#mydiagram.find_spots(density=0.65)\n",
    "print(mydiagram)"
   ]
  },
  {
   "cell_type": "code",
   "execution_count": null,
   "id": "ef0329e7",
   "metadata": {},
   "outputs": [],
   "source": [
    "# be careful that index in the list of files at init of diagrams could not correspond to the index of the image...\n",
    "print('index in sorted list of files in a folder:', _idx)\n",
    "print('full path to image file',mydiagram.file)"
   ]
  },
  {
   "cell_type": "code",
   "execution_count": null,
   "id": "6721db35",
   "metadata": {},
   "outputs": [],
   "source": [
    "mydiagram.file.parent"
   ]
  },
  {
   "cell_type": "code",
   "execution_count": null,
   "id": "b103bb57",
   "metadata": {},
   "outputs": [],
   "source": [
    "mydiagram.folder = mydiagram.file.parent\n",
    "mydiagram.folder"
   ]
  },
  {
   "cell_type": "code",
   "execution_count": null,
   "id": "b16eba4f",
   "metadata": {},
   "outputs": [],
   "source": [
    "print('maximum intensity')\n",
    "int(diagrams[_idx].image.max()*imagedynamics)"
   ]
  },
  {
   "cell_type": "code",
   "execution_count": null,
   "id": "9cd65bf1",
   "metadata": {},
   "outputs": [],
   "source": [
    "idx = torch.argmax(mydiagram.image)\n",
    "idx"
   ]
  },
  {
   "cell_type": "code",
   "execution_count": null,
   "id": "49e5378a",
   "metadata": {},
   "outputs": [],
   "source": [
    "mydiagram.image.shape"
   ]
  },
  {
   "cell_type": "code",
   "execution_count": null,
   "id": "556942aa",
   "metadata": {},
   "outputs": [],
   "source": [
    "def getpixelsposfrom1dindex(idx, shape=(2018,2016)):\n",
    "    \"\"\"return 2D index corresponding idx 1D index\n",
    "    \n",
    "    j, i = pixelX, pixelY coordinates\"\"\"\n",
    "    \n",
    "    return idx//shape[1], idx%shape[1]\n",
    "\n",
    "getpixelsposfrom1dindex(idx)"
   ]
  },
  {
   "cell_type": "code",
   "execution_count": null,
   "id": "3997c91b",
   "metadata": {
    "scrolled": false
   },
   "outputs": [],
   "source": [
    "_idx = 0\n",
    "diagrams[_idx].plot(plt.figure(layout='tight'), vmin=1000./65535, vmax=1200./65535)\n",
    "plt.show()\n",
    "print(diagrams[_idx].bboxes[0])\n",
    "print(diagrams[_idx].image.max()*65535)"
   ]
  },
  {
   "cell_type": "markdown",
   "id": "3b16dd69",
   "metadata": {},
   "source": [
    "# GUI image and results browser"
   ]
  },
  {
   "cell_type": "code",
   "execution_count": null,
   "id": "cd68879b",
   "metadata": {},
   "outputs": [],
   "source": [
    "from ipywidgets import widgets, interactive, interact_manual\n",
    "import numpy as np\n",
    "myfig, ax = plt.subplots()\n",
    "ppp = ax.imshow(diagrams[0].image.T, vmin=1000./65535, vmax=1200./65535)\n",
    "print(diagrams[0].image.max()*65535)\n",
    "bboxes = diagrams[0].bboxes.numpy(force=True)\n",
    "roiplot =ax.plot(\n",
    "        np.vstack((\n",
    "            bboxes[:, 0],\n",
    "            bboxes[:, 0]+bboxes[:, 2],\n",
    "            bboxes[:, 0]+bboxes[:, 2],\n",
    "            bboxes[:, 0],\n",
    "            bboxes[:, 0],\n",
    "        )),\n",
    "        np.vstack((\n",
    "            bboxes[:, 1],\n",
    "            bboxes[:, 1],\n",
    "            bboxes[:, 1]+bboxes[:, 3],\n",
    "            bboxes[:, 1]+bboxes[:, 3],\n",
    "            bboxes[:, 1],\n",
    "        )),\n",
    "        color=\"blue\",\n",
    "        scalex=False,\n",
    "        scaley=False,\n",
    "    )\n",
    "\n",
    "def plotimage(idx=0):\n",
    "    ax.clear()\n",
    "    print(ax.lines)\n",
    "    for ar in ax.lines:\n",
    "        ar.remove()\n",
    "    #ppp.set_data(diagrams[idx].image)\n",
    "    print('idx',idx)\n",
    "    di = diagrams[idx]\n",
    "    ax.imshow(di.image.T, vmin=1000./65535, vmax=1200./65535)\n",
    "    bboxes = di.bboxes.numpy(force=True)\n",
    "    if 0:\n",
    "        print('idx',idx)\n",
    "        print(di.file)\n",
    "        print(di.image.max()*65535)\n",
    "        print(bboxes[0])\n",
    "    \n",
    "    roiplot =ax.plot(\n",
    "        np.vstack((\n",
    "            bboxes[:, 0],\n",
    "            bboxes[:, 0]+bboxes[:, 2],\n",
    "            bboxes[:, 0]+bboxes[:, 2],\n",
    "            bboxes[:, 0],\n",
    "            bboxes[:, 0],\n",
    "        )),\n",
    "        np.vstack((\n",
    "            bboxes[:, 1],\n",
    "            bboxes[:, 1],\n",
    "            bboxes[:, 1]+bboxes[:, 3],\n",
    "            bboxes[:, 1]+bboxes[:, 3],\n",
    "            bboxes[:, 1],\n",
    "        )),\n",
    "        color=\"blue\",\n",
    "        scalex=False,\n",
    "        scaley=False,\n",
    "    )\n",
    "    folder, filename= os.path.split(diagrams[idx].file)\n",
    "    ax.set_title('%s'%filename)\n",
    "\n",
    "# w1 = interactive(plotimage, idx=(0,len(diagrams)-1))\n",
    "# display(w1)\n",
    "\n",
    "\n",
    "\n",
    "btn = widgets.Button(description='show')\n",
    "display(btn)\n",
    "\n",
    "def show(b):\n",
    "    imageindex = int(windex.value)\n",
    "    plotimage(imageindex)\n",
    "    \n",
    "windex = widgets.Text(value='6',\n",
    "    description='image index:',\n",
    "   )\n",
    "display(windex)\n",
    "    \n",
    "btn.on_click(show)\n",
    "\n",
    "#from ipywidgets import Button, HBox, VBox\n",
    "\n",
    "\n"
   ]
  },
  {
   "cell_type": "code",
   "execution_count": null,
   "id": "cbae241f",
   "metadata": {},
   "outputs": [],
   "source": [
    "allidx = torch.argmax(mydiagram.image,dim=0)\n",
    "roishape = mydiagram.rois[0].shape"
   ]
  },
  {
   "cell_type": "code",
   "execution_count": null,
   "id": "0d17e1b2",
   "metadata": {},
   "outputs": [],
   "source": [
    "# pixel Coordinates  X, Y (or j, i) of ROIs center\n",
    "mydiagram.centers"
   ]
  },
  {
   "cell_type": "code",
   "execution_count": null,
   "id": "06a291ae",
   "metadata": {},
   "outputs": [],
   "source": [
    "mydiagram.bboxes, mydiagram.bboxes[703]"
   ]
  },
  {
   "cell_type": "code",
   "execution_count": null,
   "id": "eeeff78c",
   "metadata": {},
   "outputs": [],
   "source": [
    "# roi properties\n",
    "roi_ix= 36\n",
    "\n",
    "roidata = mydiagram.rois[roi_ix]\n",
    "\n",
    "#array of intensity  with zero padding so that all rois have the same size\n",
    "print('array of pixel intensity', roidata*65535)\n",
    "#the roi is centered at X , Y pixel value\n",
    "print('center at pixel:', mydiagram.centers[roi_ix])\n",
    "# the corresponding bbox [X,Y, iboxsize, jboxsize] is anchored at X, Y \n",
    "mydiagram.bboxes[roi_ix]"
   ]
  },
  {
   "cell_type": "code",
   "execution_count": null,
   "id": "2bc2d212",
   "metadata": {},
   "outputs": [],
   "source": [
    "#list of all roi's boxsize\n",
    "mydiagram.bboxes[:,2:]"
   ]
  },
  {
   "cell_type": "code",
   "execution_count": null,
   "id": "5f0a1ec4",
   "metadata": {
    "scrolled": true
   },
   "outputs": [],
   "source": [
    "# max and argmax in all rois !\n",
    "mydiagram.rois.max(0) # (0) output shape without the dim 0 "
   ]
  },
  {
   "cell_type": "markdown",
   "id": "01c73e7a",
   "metadata": {},
   "source": [
    "# find maximum and position for all rois"
   ]
  },
  {
   "cell_type": "code",
   "execution_count": null,
   "id": "6ade925e",
   "metadata": {},
   "outputs": [],
   "source": [
    "lp = mydiagram\n",
    "\n",
    "#-------------------------------------------------------\n",
    "nbrois = len(lp.rois)\n",
    "# local indices of Imax in each roi\n",
    "imax2D = lp.rois.max(1)\n",
    "jmax = imax2D.values.argmax(1)\n",
    "imax = imax2D.indices[range(nbrois),jmax]\n",
    "allmax = lp.rois[range(nbrois),imax, jmax]*65535\n",
    "\n",
    "print(\"local position of roi's max intensity:\\n\",imax, jmax)\n",
    "print(\"max intensity of each roi\",allmax)\n",
    "pixelX = jmax+lp.bboxes[:, 0]\n",
    "pixelY = imax+lp.bboxes[:, 1]\n",
    "print(\"global pixel position of roi's maxima:\\n\",pixelX,pixelY)"
   ]
  },
  {
   "cell_type": "code",
   "execution_count": null,
   "id": "6f0ae2ae",
   "metadata": {},
   "outputs": [],
   "source": [
    "lp.spots[703]"
   ]
  },
  {
   "cell_type": "code",
   "execution_count": null,
   "id": "feeb8002",
   "metadata": {},
   "outputs": [],
   "source": [
    "# check\n",
    "roi_ix = 703\n",
    "print(allmax[roi_ix],lp.rois[roi_ix][:8,:8]*65535)\n",
    "print('bbox  Xtopleft, Ytopleft, boxsizeX, boxsizeY',lp.bboxes[roi_ix])\n",
    "print(\"centers  pixel X, Y\",lp.centers[roi_ix])\n",
    "print(\"local imax, jmax (deltaY, deltaX)\",imax[roi_ix],jmax[roi_ix])\n",
    "print(pixelX[roi_ix], pixelY[roi_ix], 0.01929*65535)"
   ]
  },
  {
   "cell_type": "code",
   "execution_count": null,
   "id": "1fcaec95",
   "metadata": {},
   "outputs": [],
   "source": [
    "# probleme inversion axe boxsize! ??  car : pîxelX (jcolumn), pixelY (iline), boxsizeline, boxsizecolumn \n",
    "# la valeur afficher dans le plot 0.01929 (*65535=1264) ne correspond pas à 194 "
   ]
  },
  {
   "cell_type": "code",
   "execution_count": null,
   "id": "05c75865",
   "metadata": {},
   "outputs": [],
   "source": [
    "#  sort by bbox size\n",
    "idxsort = torch.argsort(mydiagram.bboxes[:,2:].max(1).values, descending=True)\n",
    "didi = mydiagram.filter_spots(idxsort, msg='sort by bbox')"
   ]
  },
  {
   "cell_type": "code",
   "execution_count": null,
   "id": "527c140f",
   "metadata": {},
   "outputs": [],
   "source": [
    "len(didi.rois)"
   ]
  },
  {
   "cell_type": "code",
   "execution_count": null,
   "id": "e94087c4",
   "metadata": {},
   "outputs": [],
   "source": [
    "#  select bbox size < 10\n",
    "cond= didi.bboxes[:,2:].max(1).values < 10\n",
    "didi2 = didi.filter_spots(cond, msg='select only small bbox < 10')"
   ]
  },
  {
   "cell_type": "code",
   "execution_count": null,
   "id": "ed3eb539",
   "metadata": {},
   "outputs": [],
   "source": [
    "print(didi2)"
   ]
  },
  {
   "cell_type": "code",
   "execution_count": null,
   "id": "72750952",
   "metadata": {},
   "outputs": [],
   "source": [
    "didi2.centers"
   ]
  },
  {
   "cell_type": "code",
   "execution_count": null,
   "id": "dde4c505",
   "metadata": {},
   "outputs": [],
   "source": [
    "didi2.plot(plt.figure(layout=\"tight\", figsize=(8, 8)), vmin=0.0129, vmax=0.02)"
   ]
  },
  {
   "cell_type": "code",
   "execution_count": null,
   "id": "e53073e9",
   "metadata": {},
   "outputs": [],
   "source": [
    "#  select bbox aspect ratio < 1.2\n",
    "bboxratios = didi2.bboxes[:,2:].max(1).values/didi2.bboxes[:,2:].min(1).values\n",
    "condratio= bboxratios < 1.2\n",
    "didi3 = didi2.filter_spots(condratio, msg='select only  bbox with ratio < 1.3')"
   ]
  },
  {
   "cell_type": "code",
   "execution_count": null,
   "id": "d1eb36d2",
   "metadata": {},
   "outputs": [],
   "source": [
    "print(didi3)"
   ]
  },
  {
   "cell_type": "code",
   "execution_count": null,
   "id": "1087531c",
   "metadata": {},
   "outputs": [],
   "source": [
    "didi3.plot(plt.figure(layout=\"tight\", figsize=(8, 8)), vmin=0.0129, vmax=0.02)"
   ]
  },
  {
   "cell_type": "code",
   "execution_count": null,
   "id": "e61ff27a",
   "metadata": {},
   "outputs": [],
   "source": [
    "lp = didi3  # diagram object\n",
    "\n",
    "#----------------------------------\n",
    "nbrois = len(lp.rois)\n",
    "# local indices of Imax in each roi\n",
    "imax2D = lp.rois.max(1)\n",
    "jmax = imax2D.values.argmax(1)\n",
    "imax = imax2D.indices[range(nbrois),jmax]\n",
    "allmax = lp.rois[range(nbrois),imax, jmax]*65535\n",
    "\n",
    "print(\"local position of roi's max intensity:\\n\",imax, jmax)\n",
    "print(\"max intensity of each roi\",allmax)\n",
    "pixelY = imax+lp.bboxes[:, 0]\n",
    "pixelX = jmax+lp.bboxes[:, 1]\n",
    "print(\"global pixel position of roi's maxima:\\n\",pixelX,pixelY)\n",
    "#-------------------------------------"
   ]
  },
  {
   "cell_type": "code",
   "execution_count": null,
   "id": "8ecd926a",
   "metadata": {},
   "outputs": [],
   "source": [
    "# check  DOES NOT WORK   wrong ROI or center ...\n",
    "roi_ix = 0\n",
    "allmax[roi_ix],lp.rois[roi_ix][:8,:8]*65535, lp.centers[roi_ix], 0.02261*65535"
   ]
  },
  {
   "cell_type": "code",
   "execution_count": null,
   "id": "24892d2d",
   "metadata": {},
   "outputs": [],
   "source": [
    "len(lp.centers), len(lp.rois)"
   ]
  },
  {
   "cell_type": "code",
   "execution_count": null,
   "id": "d20c5a18",
   "metadata": {},
   "outputs": [],
   "source": [
    "lp.centers, allmax"
   ]
  },
  {
   "cell_type": "code",
   "execution_count": null,
   "id": "c9c46a0e",
   "metadata": {},
   "outputs": [],
   "source": []
  },
  {
   "cell_type": "code",
   "execution_count": null,
   "id": "57bcb631",
   "metadata": {},
   "outputs": [],
   "source": []
  },
  {
   "cell_type": "code",
   "execution_count": null,
   "id": "1c5db95e",
   "metadata": {},
   "outputs": [],
   "source": [
    "import copy\n",
    "didi3bis = copy.copy(didi3)"
   ]
  },
  {
   "cell_type": "code",
   "execution_count": null,
   "id": "b9e3585a",
   "metadata": {},
   "outputs": [],
   "source": [
    "sorted_indexs = torch.argsort(allmax, descending=True)\n",
    "didi3.filter_spots(sorted_indexs, msg=\"sorted by intensities\", inplace=True) #\n",
    "didi4 = didi3bis.filter_spots(sorted_indexs, msg=\"sorted by intensities\", inplace=False)"
   ]
  },
  {
   "cell_type": "code",
   "execution_count": null,
   "id": "acc6ff3d",
   "metadata": {},
   "outputs": [],
   "source": [
    "roi_ix = 300\n",
    "allmax[sorted_indexs][roi_ix], didi3.rois[roi_ix]*65535"
   ]
  },
  {
   "cell_type": "code",
   "execution_count": null,
   "id": "7634a5f7",
   "metadata": {},
   "outputs": [],
   "source": [
    "roi_ix = 300\n",
    "allmax[sorted_indexs][roi_ix], didi4.rois[roi_ix]*65535"
   ]
  },
  {
   "cell_type": "code",
   "execution_count": null,
   "id": "91105327",
   "metadata": {},
   "outputs": [],
   "source": [
    "didi4.centers, allmax[sorted_indexs]"
   ]
  },
  {
   "cell_type": "code",
   "execution_count": null,
   "id": "84e33665",
   "metadata": {},
   "outputs": [],
   "source": [
    "0.04169*65535"
   ]
  },
  {
   "cell_type": "code",
   "execution_count": null,
   "id": "2d9eab6f",
   "metadata": {},
   "outputs": [],
   "source": [
    "pos =torch.where(torch.abs(diagrams[_idx].fit_gaussian_em()[0][:,0]-895)<4)\n",
    "pos[0]"
   ]
  },
  {
   "cell_type": "code",
   "execution_count": null,
   "id": "069e9fa1",
   "metadata": {},
   "outputs": [],
   "source": [
    "didi3.fit_gaussian_em()[0]"
   ]
  },
  {
   "cell_type": "code",
   "execution_count": null,
   "id": "0c208aa4",
   "metadata": {},
   "outputs": [],
   "source": [
    "didi3.fit_gaussian_em()[1][500]"
   ]
  },
  {
   "cell_type": "code",
   "execution_count": null,
   "id": "38f9a2ed",
   "metadata": {},
   "outputs": [],
   "source": [
    "didi3.history"
   ]
  },
  {
   "cell_type": "code",
   "execution_count": null,
   "id": "7068ae1b",
   "metadata": {},
   "outputs": [],
   "source": [
    "# for diagram in diagrams[:2]:\n",
    "    print(diagram)\n",
    "    diagram.plot(plt.figure(layout=\"tight\", figsize=(8, 8)), vmin=1000/65000., vmax=.1*diagram.image.max().item()); plt.show()"
   ]
  },
  {
   "cell_type": "markdown",
   "id": "9f1b614b",
   "metadata": {},
   "source": [
    "### Basic filtering"
   ]
  },
  {
   "cell_type": "code",
   "execution_count": null,
   "id": "651f5c8e",
   "metadata": {},
   "outputs": [],
   "source": [
    "from laueimproc.opti.manager import DiagramManager\n",
    "DiagramManager().verbose=True"
   ]
  },
  {
   "cell_type": "code",
   "execution_count": null,
   "id": "3eeb0613",
   "metadata": {
    "scrolled": false
   },
   "outputs": [],
   "source": [
    "\"\"\"Sorted by intensity.\"\"\"\n",
    "\n",
    "for diagram in tqdm.tqdm(diagrams, smoothing=0.01):\n",
    "    intensities = diagram.compute_pxl_intensities()\n",
    "    intensities = allmax\n",
    "    sorted_indexs = torch.argsort(intensities, descending=True)\n",
    "    diagram.filter_spots(sorted_indexs, msg=\"sorted by intensities\", inplace=True)\n",
    "    # print(diagram)\n",
    "    # diagram.plot(plt.figure(layout=\"tight\", figsize=(8, 8))); plt.show()"
   ]
  },
  {
   "cell_type": "code",
   "execution_count": null,
   "id": "821074a6",
   "metadata": {},
   "outputs": [],
   "source": [
    "\"\"\"Define some utils\"\"\"\n",
    "\n",
    "def select_items(criteria: torch.Tensor, threshold: float, nb_min: int) -> torch.Tensor:\n",
    "    \"\"\"Select a least `nb_min` items or also `criteria` >= `threshold`.\"\"\"\n",
    "    if len(criteria) <= nb_min:\n",
    "        return torch.arange(len(criteria))\n",
    "    indexs = torch.argsort(criteria, descending=True)  # the indexs from the best to the worse\n",
    "    threshold = min(threshold, criteria[indexs[nb_min-1]].item())\n",
    "    return criteria >= threshold"
   ]
  },
  {
   "cell_type": "code",
   "execution_count": null,
   "id": "17bd8bd5",
   "metadata": {},
   "outputs": [],
   "source": [
    "\"\"\"Select rotation symetric spots.\"\"\"\n",
    "\n",
    "for diagram in tqdm.tqdm(diagrams, smoothing=0.01):\n",
    "    sym = diagram.compute_rot_sym()\n",
    "    selection = select_items(sym, 0.8, 10)  # 10 best or round peaks\n",
    "    diagram.filter_spots(selection, msg=\"keep circular spots\", inplace=True)\n",
    "    # print(diagram)\n",
    "    # diagram.plot(plt.figure(layout=\"tight\", figsize=(8, 8))); plt.show()"
   ]
  },
  {
   "cell_type": "markdown",
   "id": "c842c9bb",
   "metadata": {},
   "source": [
    "### Fit spots roi with gaussian"
   ]
  },
  {
   "cell_type": "code",
   "execution_count": null,
   "id": "f0e48d19",
   "metadata": {
    "scrolled": false
   },
   "outputs": [],
   "source": [
    "\"\"\"Gaussian fit max likelihood.\"\"\"\n",
    "\n",
    "for diagram in tqdm.tqdm(diagrams[99:101], smoothing=0.01):\n",
    "    mean, cov, infodict = diagram.fit_gaussian_em(photon_density=10900.0, tol=True, eigtheta=True)\n",
    "    print(infodict)\n",
    "    #confidence = 3.0 * infodict[\"tol\"]  # 99% confidence interval on pixel position\n",
    "    #selection = select_items(-confidence, -0.5, 10)  # 10 best or position +- 0.5pxl\n",
    "    #diagram.filter_spots(selection, msg=\"remove spots with uncertain position\", inplace=True)\n",
    "    # print(diagram)\n",
    "    # diagram.plot(plt.figure(layout=\"tight\", figsize=(8, 8))); plt.show()"
   ]
  },
  {
   "cell_type": "code",
   "execution_count": null,
   "id": "b9ad1d99",
   "metadata": {},
   "outputs": [],
   "source": [
    "# full (*20 width (3 sigma) of std pca1 pca2 (third column= inclination)\n",
    "2*3*torch.sqrt(infodict['eigtheta'])"
   ]
  },
  {
   "cell_type": "code",
   "execution_count": null,
   "id": "bab3f792",
   "metadata": {},
   "outputs": [],
   "source": []
  }
 ],
 "metadata": {
  "kernelspec": {
   "display_name": "Python 3 (ipykernel)",
   "language": "python",
   "name": "python3"
  },
  "language_info": {
   "codemirror_mode": {
    "name": "ipython",
    "version": 3
   },
   "file_extension": ".py",
   "mimetype": "text/x-python",
   "name": "python",
   "nbconvert_exporter": "python",
   "pygments_lexer": "ipython3",
   "version": "3.10.12"
  },
  "toc": {
   "base_numbering": 1,
   "nav_menu": {},
   "number_sections": true,
   "sideBar": true,
   "skip_h1_title": false,
   "title_cell": "Table of Contents",
   "title_sidebar": "Contents",
   "toc_cell": false,
   "toc_position": {},
   "toc_section_display": true,
   "toc_window_display": true
  }
 },
 "nbformat": 4,
 "nbformat_minor": 5
}
