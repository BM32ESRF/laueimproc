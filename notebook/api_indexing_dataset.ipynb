{
 "cells": [
  {
   "cell_type": "markdown",
   "id": "286a96d9",
   "metadata": {},
   "source": [
    "## This notebook shows all the means to index the diagrams in DiagramDataset"
   ]
  },
  {
   "cell_type": "code",
   "execution_count": 1,
   "id": "7caea31f",
   "metadata": {},
   "outputs": [],
   "source": [
    "import pathlib\n",
    "import shutil\n",
    "import tempfile\n",
    "import time\n",
    "\n",
    "from laueimproc.io.download import get_samples  # gives access to the dataset\n",
    "from laueimproc import Diagram, DiagramDataset"
   ]
  },
  {
   "cell_type": "markdown",
   "id": "85c24055",
   "metadata": {},
   "source": [
    "### Link the diagram instance to the index.\n",
    "* If the index is contained in the diagram file name, so skip this step, the diagrams will be indexed automatically."
   ]
  },
  {
   "cell_type": "code",
   "execution_count": 2,
   "id": "caea74c6",
   "metadata": {},
   "outputs": [],
   "source": [
    "# it is possible to overwritten laueimproc.classes.dataset.default_diag2ind\n",
    "\n",
    "def stupid_diag2ind(diagram: Diagram) -> int:\n",
    "    \"\"\"Take a diagram and return the index.\"\"\"\n",
    "    return int(diagram.file.name[-6:-4])"
   ]
  },
  {
   "cell_type": "markdown",
   "id": "982f6d8c",
   "metadata": {},
   "source": [
    "### Set the geometry of the grid.\n",
    "* This step is optional, but allows you to acces the element from the real sample position"
   ]
  },
  {
   "cell_type": "code",
   "execution_count": 3,
   "id": "960cb629",
   "metadata": {},
   "outputs": [],
   "source": [
    "# 1 : define the rule that maps a diagram index its position in 2 dimensions\n",
    "\n",
    "def position_func(index: int) -> tuple[float, float]:  # can return tuple[int, int]\n",
    "    \"\"\"Return the position x, y of the diagram in micron.\"\"\"\n",
    "    y_ind, x_ind = divmod(index, 20)  # assume grid shape is 20 x 5 samples\n",
    "    x_micron = 20.0 * x_ind  # assume x step is 20 microns (fast index)\n",
    "    y_micron = 30.0 * y_ind  # assume y step is 30 microns (slow index)\n",
    "    return x_micron, y_micron  # must to return 2 numbers\n",
    "\n",
    "# 2 : simply provide the argument position=position_func so that the DiagramDataset integrates the positions"
   ]
  },
  {
   "cell_type": "markdown",
   "id": "f14d7f69",
   "metadata": {},
   "source": [
    "### Init a diagram, see the `api_init_dataset` notebook for more informations."
   ]
  },
  {
   "cell_type": "code",
   "execution_count": 4,
   "id": "cfc988be",
   "metadata": {},
   "outputs": [
    {
     "name": "stdout",
     "output_type": "stream",
     "text": [
      "<DiagramDataset(Thread-8, started daemon 125537984280128)>\n"
     ]
    }
   ],
   "source": [
    "dataset = DiagramDataset(get_samples().glob(\"*.jp2\"), position=position_func)\n",
    "print(dataset)"
   ]
  },
  {
   "cell_type": "markdown",
   "id": "05a3ee19",
   "metadata": {},
   "source": [
    "### Access to one diagram"
   ]
  },
  {
   "cell_type": "code",
   "execution_count": 5,
   "id": "e5c04732",
   "metadata": {
    "scrolled": false
   },
   "outputs": [
    {
     "name": "stdout",
     "output_type": "stream",
     "text": [
      "from index  0: Diagram(img_00.jp2)\n",
      "from index  1: Diagram(img_01.jp2)\n",
      "from index -1: Diagram(img_99.jp2)\n",
      "from index -2: Diagram(img_98.jp2)\n",
      "The diagram of index 100 is not in the dataset\n",
      "from coord (200, 60): Diagram(img_50.jp2)\n"
     ]
    }
   ],
   "source": [
    "# from the diagram index\n",
    "print(f\"from index  0: {repr(dataset[0])}\")\n",
    "print(f\"from index  1: {repr(dataset[1])}\")\n",
    "print(f\"from index -1: {repr(dataset[-1])}\")\n",
    "print(f\"from index -2: {repr(dataset[-2])}\")\n",
    "try:\n",
    "    dataset[100]\n",
    "except IndexError as err:\n",
    "    print(err)\n",
    "\n",
    "# from the grid position (argument grid has to be provided)\n",
    "print(f\"from coord (  0,   0): {repr(dataset[0, 0])}\")\n",
    "print(f\"from coord (200,  60): {repr(dataset[200, 60])}\")\n",
    "print(f\"from coord (380, 150): {repr(dataset[200, 60])}\")"
   ]
  },
  {
   "cell_type": "code",
   "execution_count": null,
   "id": "86fa6cc2",
   "metadata": {},
   "outputs": [],
   "source": []
  }
 ],
 "metadata": {
  "kernelspec": {
   "display_name": "Python 3 (ipykernel)",
   "language": "python",
   "name": "python3"
  },
  "language_info": {
   "codemirror_mode": {
    "name": "ipython",
    "version": 3
   },
   "file_extension": ".py",
   "mimetype": "text/x-python",
   "name": "python",
   "nbconvert_exporter": "python",
   "pygments_lexer": "ipython3",
   "version": "3.10.12"
  }
 },
 "nbformat": 4,
 "nbformat_minor": 5
}
