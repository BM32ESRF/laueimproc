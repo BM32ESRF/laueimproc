{
 "cells": [
  {
   "cell_type": "markdown",
   "id": "54986f81",
   "metadata": {},
   "source": [
    "# This notebook shows how to estimate a spot with a gaussian model.\n",
    "* It is possible to fit a spot with one or several gaussians.\n",
    "* Differents algorithmes are available."
   ]
  },
  {
   "cell_type": "code",
   "execution_count": null,
   "id": "cdb80c27",
   "metadata": {},
   "outputs": [],
   "source": [
    "%matplotlib notebook\n",
    "\n",
    "import multiprocessing.pool\n",
    "import pathlib\n",
    "\n",
    "import matplotlib.pyplot as plt\n",
    "import torch\n",
    "import tqdm\n",
    "\n",
    "from laueimproc import Diagram\n",
    "from laueimproc.io.download import get_samples  # gives access to the dataset"
   ]
  },
  {
   "cell_type": "markdown",
   "id": "710e2bc3",
   "metadata": {},
   "source": [
    "### Firstly, we have to create the diagrams from images\n",
    "* To see all the ways to create a diagram, please have a look to the `init_diagram` notebook.\n",
    "* Take care having enough RAM and swappiness to load all the images, otherwise it would bias the peak search time."
   ]
  },
  {
   "cell_type": "code",
   "execution_count": null,
   "id": "f1d73c2a",
   "metadata": {},
   "outputs": [],
   "source": [
    "all_files = sorted(get_samples().iterdir())  # the list of all images path\n",
    "diagrams = [Diagram(f) for f in all_files]\n",
    "for diagram in diagrams:\n",
    "    diagram.find_spots()"
   ]
  },
  {
   "cell_type": "markdown",
   "id": "e71bdb46",
   "metadata": {},
   "source": [
    "## Fit by one gaussian"
   ]
  },
  {
   "cell_type": "code",
   "execution_count": null,
   "id": "e94d8c9b",
   "metadata": {
    "scrolled": false
   },
   "outputs": [],
   "source": [
    "# very fast fit with \"expectation maximization\" algorithm\n",
    "mean_em, cov_em, infodict_em = diagrams[0].fit_gaussian_em()  # like pca and barycenter\n",
    "print(\"shape mean:\", mean_em.shape)  # the position i, j of the center of the gaussian for each spot\n",
    "print(\"shape cov:\", cov_em.shape)  # the covariance matrix of the gaussian for each spot\n",
    "assert infodict_em == {}  # empty because no parameters provided\n",
    "*_, infodict_em = diagrams[0].fit_gaussian_em(aic=True, bic=True, eigtheta=True, log_likelihood=True)\n",
    "print(sorted(infodict_em))  # more informations\n",
    "*_, infodict_em = diagrams[0].fit_gaussian_em(photon_density=10900.0, tol=True)\n",
    "print(sorted(infodict_em))  # mean standard deviation estimator\n",
    "\n",
    "# fast fit with classical loss minimization\n",
    "mean_mse, cov_mse, mag_mse, infodict_mse = diagrams[0].fit_gaussian(loss=\"mse\", parallel=False)\n",
    "print(\"shape mean:\", mean_em.shape)  # the position i, j of the center of the gaussian for each spot\n",
    "print(\"shape cov:\", cov_em.shape)  # the covariance matrix of the gaussian for each spot"
   ]
  },
  {
   "cell_type": "code",
   "execution_count": null,
   "id": "235dcd73",
   "metadata": {},
   "outputs": [],
   "source": []
  }
 ],
 "metadata": {
  "kernelspec": {
   "display_name": "Python 3 (ipykernel)",
   "language": "python",
   "name": "python3"
  },
  "language_info": {
   "codemirror_mode": {
    "name": "ipython",
    "version": 3
   },
   "file_extension": ".py",
   "mimetype": "text/x-python",
   "name": "python",
   "nbconvert_exporter": "python",
   "pygments_lexer": "ipython3",
   "version": "3.10.12"
  }
 },
 "nbformat": 4,
 "nbformat_minor": 5
}
