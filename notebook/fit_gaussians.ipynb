{
 "cells": [
  {
   "cell_type": "markdown",
   "id": "0efd1d43-8ac5-4a16-b308-8f48067b1b5f",
   "metadata": {},
   "source": [
    "## Find the weighted distribution of a 2d gaussian in a spot image"
   ]
  },
  {
   "cell_type": "code",
   "execution_count": null,
   "id": "3e3b49a5-98ef-4bf1-98ef-4b42a89d19ad",
   "metadata": {},
   "outputs": [],
   "source": [
    "import math\n",
    "\n",
    "import matplotlib.pyplot as plt\n",
    "import torch\n",
    "import tqdm.autonotebook as tqdm\n",
    "\n",
    "import laueimproc"
   ]
  },
  {
   "cell_type": "code",
   "execution_count": null,
   "id": "728b4137-6f90-4373-b2b5-4363e96d4b5b",
   "metadata": {},
   "outputs": [],
   "source": [
    "def concat_mosaic(rois: torch.Tensor) -> torch.Tensor:\n",
    "    \"\"\"Concatenate the images in regular grid.\"\"\"\n",
    "    assert isinstance(rois, torch.Tensor), rois.__class__.__name__\n",
    "    assert rois.ndim == 3, rois.shape\n",
    "    width = max(1, round(math.sqrt(len(rois))))\n",
    "    height = max(1, round(len(rois) / width))\n",
    "    mosaic = torch.empty((height*rois.shape[1], width*rois.shape[2]))\n",
    "    for i in range(height):\n",
    "        i_stride = i * width\n",
    "        i_rel = i * rois.shape[1]\n",
    "        for j in range(width):\n",
    "            j_rel = j * rois.shape[2]\n",
    "            patch = rois[i_stride + j] if i_stride + j < len(rois) else 0.0\n",
    "            mosaic[i_rel:i_rel+rois.shape[1],j_rel:j_rel+rois.shape[2]] = patch\n",
    "    return mosaic"
   ]
  },
  {
   "cell_type": "markdown",
   "id": "41635b99-ea7d-47dd-b30e-3a83bcfa9c52",
   "metadata": {},
   "source": [
    "### Generation of random gaussian mixture images"
   ]
  },
  {
   "cell_type": "code",
   "execution_count": null,
   "id": "5ca03323-5ff4-499f-8ef8-2a497074b945",
   "metadata": {},
   "outputs": [],
   "source": [
    "# configuration\n",
    "\n",
    "NB_GAUSSIANS = 3  # the number of gaussians\n",
    "NB_PATCHES = 12  # batch dimension, number of generated images\n",
    "ROIS_SHAPE = (40, 50)  # the dimension (height, width) of the generated images\n",
    "NB_PHOTONS = 100_000  # the number of photons by images\n",
    "BKG_NOISE = 1e-3  # the std of the aditional noise"
   ]
  },
  {
   "cell_type": "code",
   "execution_count": null,
   "id": "1112371c-25b7-4770-8493-58905e57a865",
   "metadata": {},
   "outputs": [],
   "source": [
    "# relative gaussians weight\n",
    "eta = torch.rand((NB_PATCHES, NB_GAUSSIANS)) + 1/NB_GAUSSIANS  # min intensity is 50% lower than higest\n",
    "eta /= eta.sum(dim=1, keepdim=True)\n",
    "\n",
    "# gaussian location\n",
    "mean = torch.rand((NB_PATCHES, NB_GAUSSIANS, 2))\n",
    "mean *= torch.asarray([[[0.6*ROIS_SHAPE[0], 0.6*ROIS_SHAPE[1]]]])\n",
    "mean += torch.asarray([[[0.2*ROIS_SHAPE[0], 0.2*ROIS_SHAPE[1]]]])\n",
    "\n",
    "# covariance matrices\n",
    "theta = torch.rand(NB_PATCHES, NB_GAUSSIANS, 1) * (2 * torch.pi)\n",
    "cos_theta, sin_theta = torch.cos(theta), torch.sin(theta)\n",
    "rot = torch.cat([cos_theta, -sin_theta, torch.sin(theta), sin_theta], dim=2)\n",
    "rot = rot.reshape(NB_PATCHES, NB_GAUSSIANS, 2, 2)\n",
    "\n",
    "cov = torch.empty((NB_PATCHES, NB_GAUSSIANS, 2, 2))\n",
    "cov[:, :, [0, 1], [0, 1]] = (\n",
    "    torch.rand((NB_PATCHES, NB_GAUSSIANS, 2))\n",
    "    * min(ROIS_SHAPE) / 6  # biggest gaussian fit in roi (99% = 3 * std)\n",
    ")\n",
    "cov[:, :, [0, 1], [1, 0]] = 0.0\n",
    "cov *= cov  # cov is var = std**2\n",
    "cov = rot @ cov @ rot.mT  # random rotation"
   ]
  },
  {
   "cell_type": "code",
   "execution_count": null,
   "id": "a1f766cf-71e9-461f-aa23-663c730044f4",
   "metadata": {},
   "outputs": [],
   "source": [
    "# draw random photons in detector\n",
    "distribution = torch.distributions.multivariate_normal.MultivariateNormal(loc=mean, covariance_matrix=cov)\n",
    "samples = distribution.sample((NB_PHOTONS // NB_GAUSSIANS,))  # shape: (n_samples, n_patches, nb_gaussians, 2)\n",
    "\n",
    "# integration of photons contribution\n",
    "samples = samples.to(torch.int32)\n",
    "rois = samples[..., 0]*ROIS_SHAPE[1] + samples[..., 1]\n",
    "roislist = []\n",
    "for patch in range(NB_PATCHES):\n",
    "    roi = rois[:, patch, :]\n",
    "    roi = roi[torch.logical_and(roi >= 0, roi < ROIS_SHAPE[0]*ROIS_SHAPE[1])]  # removes photons out of the detector\n",
    "    roi = torch.bincount(roi, minlength=ROIS_SHAPE[0]*ROIS_SHAPE[1]).to(torch.float32)\n",
    "    roi = roi.reshape(1, *ROIS_SHAPE)\n",
    "    roislist.append(roi)\n",
    "rois = torch.cat(roislist)  # shape: (n_patches, height, width)\n",
    "rois /= rois.amax(dim=(1, 2), keepdim=True)\n",
    "\n",
    "# add noise\n",
    "if BKG_NOISE:\n",
    "    rois += torch.randn((NB_PATCHES, *ROIS_SHAPE)) * BKG_NOISE\n",
    "    rois = torch.clamp(rois, 0.0, 1.0, out=rois)\n",
    "\n",
    "# set the rois into a new diagram\n",
    "diagram = laueimproc.Diagram(concat_mosaic(rois))\n",
    "step = max(1, round(math.sqrt(len(rois))))\n",
    "diagram.set_spots([(rois.shape[1]*(i//step), rois.shape[2]*(i%step), roi) for i, roi in enumerate(rois)])\n",
    "\n",
    "# _ = diagram.plot(plt.figure(figsize=(8, 8))); plt.show()"
   ]
  },
  {
   "cell_type": "markdown",
   "id": "3f34e9df-9530-4dc3-b2d1-28acef788879",
   "metadata": {},
   "source": [
    "### Find the gaussians with the algorithme EM\n",
    "* for mor details on this algorithme, please refer on the `laueimproc` documentation"
   ]
  },
  {
   "cell_type": "code",
   "execution_count": null,
   "id": "a94ac735-bf8c-48a8-8a08-9f4c2e687aec",
   "metadata": {},
   "outputs": [],
   "source": [
    "NBR_TRIES = 3  # number of times we fit each roi\n",
    "CRITERIA = \"bic\"  # \"aic\" or \"bic\""
   ]
  },
  {
   "cell_type": "code",
   "execution_count": null,
   "id": "c38a7ec4-8e2e-4ce8-bb00-c5d77894d5aa",
   "metadata": {},
   "outputs": [],
   "source": [
    "# try with different nbr of gaussians\n",
    "all_results = {}\n",
    "for nbr_clusters in tqdm.tqdm(range(1, NB_GAUSSIANS+4, 1)):\n",
    "    mean, cov, eta, infodict = diagram.fit_gaussians_em(\n",
    "        nbr_clusters=nbr_clusters, nbr_tries=NBR_TRIES, **{CRITERIA: True}, cache=False\n",
    "    )\n",
    "    all_results[nbr_clusters] = {\"mean\": mean, \"cov\": cov, \"eta\": eta, \"criteria\": infodict[CRITERIA]}\n",
    "\n",
    "# keep the best fit\n",
    "results = []\n",
    "for i in range(len(diagram)):\n",
    "    best_criteria = min(float(r[\"criteria\"][i]) for r in all_results.values())\n",
    "    nbr_clusters = [n for n in sorted(all_results) if all_results[n][\"criteria\"][i] == best_criteria][0]\n",
    "    results.append({k: v[i] for k, v in all_results[nbr_clusters].items()})"
   ]
  },
  {
   "cell_type": "code",
   "execution_count": null,
   "id": "f54cf8ee-eb8c-4a9e-9ece-ce9a7b181ffb",
   "metadata": {},
   "outputs": [],
   "source": [
    "# plot the images\n",
    "mean = torch.cat([r[\"mean\"].reshape(-1, 2) for r in results])\n",
    "cov = torch.cat([r[\"cov\"].reshape(-1, 2, 2) for r in results])\n",
    "eta = torch.cat([r[\"eta\"].reshape(-1) for r in results])\n",
    "axe = diagram.plot(plt.figure(figsize=(8, 8)))\n",
    "plt.scatter(mean[:, 1], mean[:, 0])\n",
    "plt.show()\n",
    "\n",
    "# plot the numbers of gaussians\n",
    "plt.figure().set_figheight(8); plt.figure().set_figheight(8)\n",
    "plt.title(f\"number of gaussians criteria {CRITERIA}\")\n",
    "# plt.plot(sorted(all_results), [all_results[c][\"criteria\"] for c in sorted(all_results)], \"-o\")\n",
    "plt.plot(sorted(all_results), [all_results[c][\"criteria\"].mean() for c in sorted(all_results)], \"-o\")\n",
    "plt.show()"
   ]
  },
  {
   "cell_type": "markdown",
   "id": "76dca49b-6453-47c8-9e5e-118bf296e211",
   "metadata": {},
   "source": [
    "### On real data"
   ]
  },
  {
   "cell_type": "code",
   "execution_count": null,
   "id": "35020261-8c15-4981-8fd9-7745de9b46f9",
   "metadata": {},
   "outputs": [],
   "source": [
    "diagram = laueimproc.Diagram(laueimproc.io.get_sample())\n",
    "diagram.find_spots(radius_aglo=20)"
   ]
  }
 ],
 "metadata": {
  "kernelspec": {
   "display_name": "Python 3 (ipykernel)",
   "language": "python",
   "name": "python3"
  },
  "language_info": {
   "codemirror_mode": {
    "name": "ipython",
    "version": 3
   },
   "file_extension": ".py",
   "mimetype": "text/x-python",
   "name": "python",
   "nbconvert_exporter": "python",
   "pygments_lexer": "ipython3",
   "version": "3.12.3"
  }
 },
 "nbformat": 4,
 "nbformat_minor": 5
}
