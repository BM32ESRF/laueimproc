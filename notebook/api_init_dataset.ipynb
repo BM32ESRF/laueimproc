{
 "cells": [
  {
   "cell_type": "markdown",
   "id": "c6b8a4f1",
   "metadata": {},
   "source": [
    "## This notebook shows all the means to create and to configure DiagramDataset\n",
    "* A `DiagramDataset` allows you to exploit information on the spatial position of different shots.\n",
    "* A `DiagramDataset` allows you to manage data persistence in real time as well."
   ]
  },
  {
   "cell_type": "code",
   "execution_count": null,
   "id": "8db14572",
   "metadata": {},
   "outputs": [],
   "source": [
    "import os\n",
    "import pathlib\n",
    "import shutil\n",
    "import tempfile\n",
    "import time\n",
    "\n",
    "from laueimproc.io.download import get_samples  # gives access to the dataset\n",
    "from laueimproc import Diagram, DiagramDataset"
   ]
  },
  {
   "cell_type": "markdown",
   "id": "898ede9e",
   "metadata": {},
   "source": [
    "### How to add diagrams to the dataset ?\n",
    "* All the means to init a `Diagram` are described in the `api_init_diagram` notebook.\n",
    "* You can append diagrams before or after having define a function chain."
   ]
  },
  {
   "cell_type": "code",
   "execution_count": null,
   "id": "90e0bec3",
   "metadata": {
    "scrolled": false
   },
   "outputs": [],
   "source": [
    "# from a pathlike\n",
    "folder = get_samples()\n",
    "dataset_1 = DiagramDataset(folder)  # pathlib.Path directory\n",
    "dataset_2 = DiagramDataset(min(folder.glob(\"*.jp2\")))  # pathlib.Path file\n",
    "\n",
    "# from `Diagram` instances\n",
    "diagrams = [Diagram(f) for f in sorted(folder.glob(\"*.jp2\"))]\n",
    "dataset_3 = DiagramDataset(diagrams)  # from an iterable of diagrams\n",
    "dataset_4 = DiagramDataset(diagrams[0], diagrams[-1])  # from a few well-chosen diagrams\n",
    "\n",
    "# big mix\n",
    "dataset_5 = DiagramDataset(diagrams[0], diagrams[1], [diagrams[2], diagrams[3]], diagrams[4].file)"
   ]
  },
  {
   "cell_type": "code",
   "execution_count": null,
   "id": "ebb72e98",
   "metadata": {},
   "outputs": [],
   "source": [
    "# from an uncomplet directory for real time\n",
    "unfilled_folder = pathlib.Path(tempfile.mkdtemp())\n",
    "dataset = DiagramDataset(unfilled_folder)\n",
    "for diagram in diagrams[:20]:  # copy a slice of the dataset\n",
    "    shutil.copy(diagram.file, unfilled_folder)\n",
    "    time.sleep(1)\n",
    "    print(f\"the dataset contains {len(dataset)} diagrams\")\n",
    "time.sleep(10)\n",
    "print(f\"the dataset contains {len(dataset)} diagrams\")\n",
    "\n",
    "print(dataset[0])"
   ]
  },
  {
   "cell_type": "markdown",
   "id": "2bb9199c",
   "metadata": {},
   "source": [
    "### How to apply a function to the diagrams of the dataset ?"
   ]
  },
  {
   "cell_type": "code",
   "execution_count": null,
   "id": "8b6f0521",
   "metadata": {},
   "outputs": [],
   "source": [
    "def peaks_search(diagram: Diagram, density: float) -> int:\n",
    "    \"\"\"Apply peak search and return the number of peacks founded.\"\"\"\n",
    "    diagram.find_spots(density=density)\n",
    "    return len(diagram)\n",
    "\n",
    "def sorted_pxl_max(diagram: Diagram):\n",
    "    \"\"\"Sorted the diagram by decreasing intensities.\"\"\"\n",
    "    indexs = diagram.rois.amax(dim=(1, 2)).argsort(descending=True)\n",
    "    diagram.filter_spots(indexs, msg=\"sorted by decreasing intensities\", inplace=True)"
   ]
  },
  {
   "cell_type": "code",
   "execution_count": null,
   "id": "a9c5219d",
   "metadata": {},
   "outputs": [],
   "source": [
    "# apply to existing diagrams\n",
    "nbr_spots = dataset.apply(peaks_search, args=(0.6,))\n",
    "print(nbr_spots)\n",
    "_ = dataset.apply(sorted_pxl_max)\n",
    "print(dataset[0])"
   ]
  },
  {
   "cell_type": "code",
   "execution_count": null,
   "id": "4a20e7f2",
   "metadata": {},
   "outputs": [],
   "source": [
    "# apply in real time to scanned diagrams as they are scanned\n",
    "for diagram in diagrams[20:]:\n",
    "    shutil.copy(diagram.file, unfilled_folder)\n",
    "while True:\n",
    "    try:\n",
    "        print(dataset[99])\n",
    "    except IndexError:\n",
    "        time.sleep(1)\n",
    "    else:\n",
    "        break"
   ]
  },
  {
   "cell_type": "code",
   "execution_count": null,
   "id": "6cc838e9",
   "metadata": {},
   "outputs": [],
   "source": [
    "# apply only on a subset\n",
    "indexs = dataset[::5].apply(sorted_pxl_max)\n",
    "print(sorted(indexs))"
   ]
  }
 ],
 "metadata": {
  "kernelspec": {
   "display_name": "Python 3 (ipykernel)",
   "language": "python",
   "name": "python3"
  },
  "language_info": {
   "codemirror_mode": {
    "name": "ipython",
    "version": 3
   },
   "file_extension": ".py",
   "mimetype": "text/x-python",
   "name": "python",
   "nbconvert_exporter": "python",
   "pygments_lexer": "ipython3",
   "version": "3.10.12"
  }
 },
 "nbformat": 4,
 "nbformat_minor": 5
}
