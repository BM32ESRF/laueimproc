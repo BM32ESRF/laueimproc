{
 "cells": [
  {
   "cell_type": "markdown",
   "id": "7057f608",
   "metadata": {},
   "source": [
    "## This notebook shows the fastest mean to select some spots with a simple filter\n",
    "* It is possible to interact with external libraries, have a look on the `init_diagram` notebook.\n",
    "* To instanciate a `Diagram` allows you to apply efficiently filters based on image processing.\n",
    "* They are several means to instanciate a `diagram` some of them are betters than overs."
   ]
  },
  {
   "cell_type": "code",
   "execution_count": null,
   "id": "1f43a2ab",
   "metadata": {},
   "outputs": [],
   "source": [
    "%matplotlib notebook\n",
    "\n",
    "import multiprocessing.pool\n",
    "import pathlib\n",
    "\n",
    "import matplotlib.pyplot as plt\n",
    "import torch\n",
    "import tqdm\n",
    "\n",
    "# sys.path.insert(0, \"/data/bm32/inhouse/laueimproc\")\n",
    "# sys.path.insert(0, \"/data/bm32/inhouse/laueimprocenv/lib/python3.11/site-packages\")\n",
    "from laueimproc.io.download import get_samples  # gives access to the dataset\n",
    "from laueimproc import Diagram"
   ]
  },
  {
   "cell_type": "markdown",
   "id": "8c9a90a1",
   "metadata": {},
   "source": [
    "## Set and take control of the global configuration parameters\n",
    "* The cache is automaticaly managed, but you can control it a bit."
   ]
  },
  {
   "cell_type": "code",
   "execution_count": null,
   "id": "53d63482",
   "metadata": {},
   "outputs": [],
   "source": [
    "# manage context\n",
    "\n",
    "from laueimproc.opti.manager import DiagramManager\n",
    "\n",
    "manager = DiagramManager()\n",
    "manager.verbose = True  # to display the operations in background\n",
    "manager.ram_limit = 0.8  # trigger cache clear after 80% of ram full, default based on swapiness\n",
    "manager.update()  # dereference unreachable diagrams"
   ]
  },
  {
   "cell_type": "markdown",
   "id": "3d154742",
   "metadata": {},
   "source": [
    "## Initialise the diagrams\n",
    "* The different ways of initializing a diagram are described in detail in the `init_diagram` notebook."
   ]
  },
  {
   "cell_type": "code",
   "execution_count": null,
   "id": "e6d516d9",
   "metadata": {
    "scrolled": false
   },
   "outputs": [],
   "source": [
    "all_files = list(get_samples().iterdir())  # the list of all images path\n",
    "# all_files = list(pathlib.Path(\"my_folder/\").iterdir())\n",
    "diagrams = [Diagram(f) for f in all_files]\n",
    "for diagram in diagrams:\n",
    "    diagram.find_spots(density=0.55)\n",
    "    # diagram.plot(plt.figure(layout=\"tight\", figsize=(10, 10))); plt.show()"
   ]
  },
  {
   "cell_type": "raw",
   "id": "b9a43493",
   "metadata": {},
   "source": [
    "# for timing peaks search\n",
    "in_parallel = True\n",
    "if in_parallel:\n",
    "    with multiprocessing.pool.ThreadPool() as pool:\n",
    "        for _ in tqdm.tqdm(\n",
    "            pool.imap(lambda d: (d.find_spots(density=0.55), d.spots), diagrams, chunksize=2),\n",
    "            total=len(diagrams),\n",
    "        ):\n",
    "            pass\n",
    "else:       \n",
    "    for diagram in tqdm.tqdm(diagrams):\n",
    "        diagram.find_spots(density=0.55)\n",
    "        diagram.spots"
   ]
  },
  {
   "cell_type": "markdown",
   "id": "c842c9bb",
   "metadata": {},
   "source": [
    "## Fit spots roi with gaussians"
   ]
  },
  {
   "cell_type": "code",
   "execution_count": null,
   "id": "f0e48d19",
   "metadata": {
    "scrolled": false
   },
   "outputs": [],
   "source": [
    "for diagram in tqdm.tqdm(diagrams):\n",
    "    # intensities = diagram.compute_pxl_intensities()\n",
    "    # diagram.filter_spots(intensities > intensities.median())\n",
    "    \n",
    "    mean, cov, infodict = diagram.fit_gaussian()\n",
    "    # print(infodict[\"mse\"].shape)\n",
    "    \n",
    "    # indexs = torch.argsort(more[\"aic\"], descending=False)[:10]\n",
    "    # diagram.filter_spots(indexs)\n",
    "    # diagram.plot(plt.figure(layout=\"tight\", figsize=(10, 10))); plt.show()"
   ]
  },
  {
   "cell_type": "markdown",
   "id": "eedd61ed",
   "metadata": {},
   "source": [
    "## Keeps the 10 most intense spots for each diagram"
   ]
  },
  {
   "cell_type": "raw",
   "id": "2894153d",
   "metadata": {},
   "source": [
    "for diagram in tqdm.tqdm(diagrams):\n",
    "    intensities = diagram.compute_pxl_intensities(parallel=True)\n",
    "    if intensities.shape[0]:\n",
    "        indexs = torch.argsort(intensities, descending=True)[:10]\n",
    "        diagram.filter_spots(indexs)\n",
    "    # diagram.plot(plt.figure(layout=\"tight\", figsize=(10, 10))); plt.show()"
   ]
  }
 ],
 "metadata": {
  "kernelspec": {
   "display_name": "laueimproc",
   "language": "python",
   "name": "laueimproc"
  },
  "language_info": {
   "codemirror_mode": {
    "name": "ipython",
    "version": 3
   },
   "file_extension": ".py",
   "mimetype": "text/x-python",
   "name": "python",
   "nbconvert_exporter": "python",
   "pygments_lexer": "ipython3",
   "version": "3.12.2"
  }
 },
 "nbformat": 4,
 "nbformat_minor": 5
}
