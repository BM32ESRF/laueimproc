{
 "cells": [
  {
   "cell_type": "markdown",
   "id": "0ed8092b-0a67-441d-a563-6a4c903e8474",
   "metadata": {},
   "source": [
    "## Gnomonic projection of laue image and laue patern"
   ]
  },
  {
   "cell_type": "code",
   "execution_count": null,
   "id": "5b463071-62ee-42a3-8460-bab559135240",
   "metadata": {},
   "outputs": [],
   "source": [
    "import timeit\n",
    "\n",
    "from tqdm.autonotebook import tqdm\n",
    "import cv2\n",
    "import matplotlib.pyplot as plt\n",
    "import numpy as np\n",
    "import torch\n",
    "\n",
    "from laueimproc import Diagram\n",
    "from laueimproc.geometry import detector_to_ray, ray_to_detector, uf_to_uq, uq_to_uf\n",
    "from laueimproc.io import get_sample"
   ]
  },
  {
   "cell_type": "markdown",
   "id": "02710123-52b5-4454-8245-fe8583072096",
   "metadata": {},
   "source": [
    "### Reference constants and parameters\n",
    "* `CAM_PONI` are the detector parameters $[dist, poni_1, poni_2, rot_1, rot_2, rot_3]$\n",
    "* `GNOM_PONI` are the virtual gnomonic detector parameters $[dist, poni_1, poni_2, rot_1, rot_2, rot_3]$"
   ]
  },
  {
   "cell_type": "code",
   "execution_count": null,
   "id": "1ecc38b7-8ce4-4baf-8a8f-b290d7c23f49",
   "metadata": {},
   "outputs": [],
   "source": [
    "CAM_PONI = torch.tensor([1.0, 0.0, 0.0, 0.0, -torch.pi/2, 0.0])  # mode laue detector on top\n",
    "GNOM_PONI = torch.tensor([1.0, 0, 0, 0.0, -3*torch.pi/4, 0.0])"
   ]
  },
  {
   "cell_type": "code",
   "execution_count": null,
   "id": "11cf2bda-50ee-476e-aa92-1baad3e4a73f",
   "metadata": {},
   "outputs": [],
   "source": [
    "DEVICE = torch.device(\"cuda:0\" if torch.cuda.is_available() else \"cpu\")"
   ]
  },
  {
   "cell_type": "markdown",
   "id": "24ff7ec5-a38e-4ec5-9275-c45cdac2b78f",
   "metadata": {},
   "source": [
    "### Associate the functions"
   ]
  },
  {
   "cell_type": "code",
   "execution_count": null,
   "id": "84bab09c-3027-4847-9906-1f5b3b2cef47",
   "metadata": {},
   "outputs": [],
   "source": [
    "def cam_to_gnom(points, cam_poni, gnom_poni):\n",
    "    return ray_to_detector(uf_to_uq(detector_to_ray(points, cam_poni)), gnom_poni)[0]\n",
    "\n",
    "def gnom_to_cam(points, gnom_poni, cam_poni):\n",
    "    return ray_to_detector(uq_to_uf(detector_to_ray(points, gnom_poni)), cam_poni)[0]"
   ]
  },
  {
   "cell_type": "markdown",
   "id": "fe4edfb6-40cd-403e-ba69-e700cf2ee56b",
   "metadata": {},
   "source": [
    "#### Timing comparison"
   ]
  },
  {
   "cell_type": "code",
   "execution_count": null,
   "id": "05fc576f-45a2-4497-8ada-8dc0985f4bae",
   "metadata": {},
   "outputs": [],
   "source": [
    "# simple timing\n",
    "\n",
    "BATCH = 100  # number of simulated diagrams\n",
    "\n",
    "points = torch.rand(1000, 2)\n",
    "\n",
    "# case float64\n",
    "points_, cam_poni, gnom_poni = points.clone().to(torch.float64), CAM_PONI.clone().to(torch.float64), GNOM_PONI.clone().to(torch.float64)\n",
    "speed = min(timeit.repeat(lambda: cam_to_gnom(points_, cam_poni, gnom_poni), repeat=10, number=BATCH)) / BATCH\n",
    "print(f\"float64: it takes {speed*1e6:.2f}us by simulation <=> {1.0/speed:.2f}Hz\")\n",
    "\n",
    "# case float32\n",
    "points_, cam_poni, gnom_poni = points.clone().to(torch.float32), CAM_PONI.clone().to(torch.float32), GNOM_PONI.clone().to(torch.float32)\n",
    "speed = min(timeit.repeat(lambda: cam_to_gnom(points_, cam_poni, gnom_poni), repeat=10, number=BATCH)) / BATCH\n",
    "print(f\"float32: it takes {speed*1e6:.2f}us by simulation <=> {1.0/speed:.2f}Hz\")\n",
    "\n",
    "# case float64 batched\n",
    "points_, cam_poni, gnom_poni = points.clone().to(torch.float64), CAM_PONI.clone().to(torch.float64), GNOM_PONI.clone().to(torch.float64)\n",
    "points_ = points_[None, :, :].expand(BATCH, -1, -1)\n",
    "speed = min(timeit.repeat(lambda: cam_to_gnom(points_, cam_poni, gnom_poni), repeat=10, number=1)) / BATCH\n",
    "print(f\"float64 batched: it takes {speed*1e6:.2f}us by simulation <=> {1.0/speed:.2f}Hz\")\n",
    "\n",
    "# case float32 batched\n",
    "points_, cam_poni, gnom_poni = points.clone().to(torch.float32), CAM_PONI.clone().to(torch.float32), GNOM_PONI.clone().to(torch.float32)\n",
    "points_ = points_[None, :, :].expand(BATCH, -1, -1)\n",
    "speed = min(timeit.repeat(lambda: cam_to_gnom(points_, cam_poni, gnom_poni), repeat=10, number=1)) / BATCH\n",
    "print(f\"float32 batched: it takes {speed*1e6:.2f}us by simulation <=> {1.0/speed:.2f}Hz\")\n",
    "\n",
    "# case float64 batched compiled\n",
    "points_, cam_poni, gnom_poni = points.clone().to(torch.float64), CAM_PONI.clone().to(torch.float64), GNOM_PONI.clone().to(torch.float64)\n",
    "points_ = points_[None, :, :].expand(BATCH, -1, -1)\n",
    "cam_to_gnom_comp = torch.compile(cam_to_gnom, dynamic=False)\n",
    "speed = min(timeit.repeat(lambda: cam_to_gnom_comp(points_, cam_poni, gnom_poni), repeat=10, number=1)) / BATCH\n",
    "print(f\"float64 batched compiled: it takes {speed*1e6:.2f}us by simulation <=> {1.0/speed:.2f}Hz\")\n",
    "\n",
    "# case float32 batched compiled\n",
    "points_, cam_poni, gnom_poni = points.clone().to(torch.float32), CAM_PONI.clone().to(torch.float32), GNOM_PONI.clone().to(torch.float32)\n",
    "points_ = points_[None, :, :].expand(BATCH, -1, -1)\n",
    "cam_to_gnom_comp = torch.compile(cam_to_gnom, dynamic=False)\n",
    "speed = min(timeit.repeat(lambda: cam_to_gnom_comp(points_, cam_poni, gnom_poni), repeat=10, number=1)) / BATCH\n",
    "print(f\"float32 batched compiled: it takes {speed*1e6:.2f}us by simulation <=> {1.0/speed:.2f}Hz\")\n",
    "\n",
    "if DEVICE.type == \"cuda\":\n",
    "    # case float64 batched compiled gpu\n",
    "    points_, cam_poni, gnom_poni = (\n",
    "        points.clone().to(torch.float64, device=DEVICE),\n",
    "        CAM_PONI.clone().to(torch.float64, device=DEVICE),\n",
    "        GNOM_PONI.clone().to(torch.float64, device=DEVICE)\n",
    "    )\n",
    "    points_ = points_[None, :, :].expand(BATCH, -1, -1)\n",
    "    cam_to_gnom_comp = torch.compile(cam_to_gnom, dynamic=False)\n",
    "    speed = min(timeit.repeat(lambda: cam_to_gnom_comp(points_, cam_poni, gnom_poni), repeat=10, number=1)) / BATCH\n",
    "    print(f\"float64 batched compiled gpu: it takes {speed*1e6:.2f}us by simulation <=> {1.0/speed:.2f}Hz\")\n",
    "    \n",
    "    # case float32 batched compiled gpu\n",
    "    points_, cam_poni, gnom_poni = (\n",
    "        points.clone().to(torch.float32, device=DEVICE),\n",
    "        CAM_PONI.clone().to(torch.float32, device=DEVICE),\n",
    "        GNOM_PONI.clone().to(torch.float32, device=DEVICE)\n",
    "    )\n",
    "    points_ = points_[None, :, :].expand(BATCH, -1, -1)\n",
    "    cam_to_gnom_comp = torch.compile(cam_to_gnom, dynamic=False)\n",
    "    speed = min(timeit.repeat(lambda: cam_to_gnom_comp(points_, cam_poni, gnom_poni), repeat=10, number=1)) / BATCH\n",
    "    print(f\"float32 batched compiled gpu: it takes {speed*1e6:.2f}us by simulation <=> {1.0/speed:.2f}Hz\")"
   ]
  },
  {
   "cell_type": "markdown",
   "id": "ff0fa023-63a9-4e57-9f96-c55117c5dd8b",
   "metadata": {},
   "source": [
    "### Projection gnomonic"
   ]
  },
  {
   "cell_type": "markdown",
   "id": "dd048315-afd5-4b70-ad34-1e033f34ae33",
   "metadata": {},
   "source": [
    "#### Points projection"
   ]
  },
  {
   "cell_type": "code",
   "execution_count": null,
   "id": "79a2f89d-3ada-402d-8cb0-e5f94cb33024",
   "metadata": {},
   "outputs": [],
   "source": [
    "# get points\n",
    "diagram = Diagram(get_sample())\n",
    "diagram.find_spots()\n",
    "cam_point = diagram.compute_rois_centroid()\n",
    "cam_point /= 0.5 * torch.tensor(diagram.image.shape)\n",
    "cam_point -= 1.0\n",
    "\n",
    "# camera -> gnomonic\n",
    "gnom_point = cam_to_gnom(cam_point, CAM_PONI, GNOM_PONI)\n",
    "\n",
    "# display result\n",
    "plt.subplot(1, 2, 1)\n",
    "plt.scatter(*cam_point.movedim(-1, 0))\n",
    "plt.subplot(1, 2, 2)\n",
    "plt.scatter(*gnom_point.movedim(-1, 0))\n",
    "plt.show()"
   ]
  },
  {
   "cell_type": "markdown",
   "id": "db118b84-1b39-4dee-b5a9-1a5b599966ea",
   "metadata": {},
   "source": [
    "#### Image projection"
   ]
  },
  {
   "cell_type": "code",
   "execution_count": null,
   "id": "b1806a6a-d5e8-47cd-b7d9-24a233776f12",
   "metadata": {},
   "outputs": [],
   "source": [
    "# get image\n",
    "diagram = Diagram(get_sample())\n",
    "image = diagram.image.numpy(force=True)\n",
    "\n",
    "# forward for estimation of shape\n",
    "cam = torch.tensor(\n",
    "    [[-1, -1], [0, -1], [1, -1], [1, 0], [1, 1], [0, 1], [-1, 1], [-1, 0]],\n",
    "    dtype=torch.float32\n",
    ")\n",
    "gnom = cam_to_gnom(cam, CAM_PONI, GNOM_PONI)\n",
    "\n",
    "# create map convertion for cv2\n",
    "gnom_shape = (2000, 2000)  # best shape differencial\n",
    "gnom = (\n",
    "    torch.linspace(gnom[:, 0].amin(), gnom[:, 0].amax(), gnom_shape[0]),  \n",
    "    torch.linspace(gnom[:, 1].amin(), gnom[:, 1].amax(), gnom_shape[1]),\n",
    ")\n",
    "gnom = torch.meshgrid(*gnom, indexing=\"ij\")\n",
    "gnom = torch.cat([g.ravel().unsqueeze(1) for g in gnom], dim=1)\n",
    "cam = gnom_to_cam(gnom, GNOM_PONI, CAM_PONI)\n",
    "cam += 1.0\n",
    "cam *= 0.5 * torch.tensor(image.shape)\n",
    "\n",
    "# to cv2 map\n",
    "map1 = cam[..., 0].reshape(gnom_shape).to(torch.float32).numpy(force=True)\n",
    "map2 = cam[..., 1].reshape(gnom_shape).to(torch.float32).numpy(force=True)\n",
    "\n",
    "# simple convertion\n",
    "gnom_img = cv2.remap(image, map2, map1, interpolation=cv2.INTER_LINEAR)\n",
    "\n",
    "# display result\n",
    "plt.subplot(1, 2, 1)\n",
    "plt.imshow(image, cmap=\"plasma\", vmin=image.mean(), vmax=image.mean()+3*image.std())\n",
    "plt.subplot(1, 2, 2)\n",
    "plt.imshow(gnom_img, cmap=\"plasma\", vmin=image.mean(), vmax=image.mean()+3*image.std())\n",
    "plt.show()"
   ]
  },
  {
   "cell_type": "markdown",
   "id": "50f2591c-b980-4a0a-9675-334d7bb3245f",
   "metadata": {},
   "source": [
    "#### Timing comparison"
   ]
  },
  {
   "cell_type": "code",
   "execution_count": null,
   "id": "e317c24b-d2cc-421c-bbb8-de85ded2fccb",
   "metadata": {},
   "outputs": [],
   "source": [
    "# simple timing\n",
    "\n",
    "img_u16 = (diagram.image * 65535 + 0.5).to(torch.int32).numpy(force=True).astype(np.uint16)\n",
    "img_f32 = diagram.image.to(torch.float32).numpy(force=True)\n",
    "\n",
    "BATCH = 10\n",
    "\n",
    "# case uint16 bilinear\n",
    "speed = min(timeit.repeat(lambda: cv2.remap(img_u16, map2, map1, interpolation=cv2.INTER_LINEAR), repeat=10, number=BATCH)) / BATCH\n",
    "print(f\"uint16 bilinear: it takes {speed*1e3:.2f}ms by image\")\n",
    "\n",
    "# case uint16 bicubic\n",
    "speed = min(timeit.repeat(lambda: cv2.remap(img_u16, map2, map1, interpolation=cv2.INTER_CUBIC), repeat=10, number=BATCH)) / BATCH\n",
    "print(f\"uint16 bicubic: it takes {speed*1e3:.2f}ms by image\")\n",
    "\n",
    "# case float32 bilinear\n",
    "speed = min(timeit.repeat(lambda: cv2.remap(img_f32, map2, map1, interpolation=cv2.INTER_LINEAR), repeat=10, number=BATCH)) / BATCH\n",
    "print(f\"float32 bilinear: it takes {speed*1e3:.2f}ms by image\")\n",
    "\n",
    "# case float32 bicubic\n",
    "speed = min(timeit.repeat(lambda: cv2.remap(img_f32, map2, map1, interpolation=cv2.INTER_CUBIC), repeat=10, number=BATCH)) / BATCH\n",
    "print(f\"float32 bicubic: it takes {speed*1e3:.2f}ms by image\")"
   ]
  }
 ],
 "metadata": {
  "kernelspec": {
   "display_name": "Python 3 (ipykernel)",
   "language": "python",
   "name": "python3"
  },
  "language_info": {
   "codemirror_mode": {
    "name": "ipython",
    "version": 3
   },
   "file_extension": ".py",
   "mimetype": "text/x-python",
   "name": "python",
   "nbconvert_exporter": "python",
   "pygments_lexer": "ipython3",
   "version": "3.11.9"
  }
 },
 "nbformat": 4,
 "nbformat_minor": 5
}
