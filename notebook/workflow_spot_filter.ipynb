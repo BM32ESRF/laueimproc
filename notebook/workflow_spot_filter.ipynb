{
 "cells": [
  {
   "cell_type": "markdown",
   "id": "7057f608",
   "metadata": {},
   "source": [
    "# This notebook shows the canonical mean to select some spots with a simple filter.\n",
    "* It is possible to interact with external libraries, have a look on the `init_diagram` notebook.\n",
    "* To instantiate a `Diagram` allows you to apply efficiently filters based on image processing.\n",
    "* They are several means to instantiate a `diagram` some of them are betters than others."
   ]
  },
  {
   "cell_type": "code",
   "execution_count": null,
   "id": "1f43a2ab",
   "metadata": {},
   "outputs": [],
   "source": [
    "%matplotlib notebook\n",
    "\n",
    "import multiprocessing.pool\n",
    "import pathlib\n",
    "\n",
    "import matplotlib.pyplot as plt\n",
    "import torch\n",
    "import tqdm\n",
    "\n",
    "from laueimproc import Diagram\n",
    "from laueimproc.io.download import get_samples  # gives access to the dataset"
   ]
  },
  {
   "cell_type": "code",
   "execution_count": null,
   "id": "821074a6",
   "metadata": {},
   "outputs": [],
   "source": [
    "\"\"\"Define some utils\"\"\"\n",
    "\n",
    "def select_items(criteria: torch.Tensor, threshold: float, nb_min: int) -> torch.Tensor:\n",
    "    \"\"\"Select a least `nb_min` items or also `criteria` >= `threshold`.\"\"\"\n",
    "    if len(criteria) <= nb_min:\n",
    "        return torch.arange(len(criteria))\n",
    "    indexs = torch.argsort(criteria, descending=True)  # the indexs from the best to the worse\n",
    "    threshold = min(threshold, criteria[indexs[nb_min-1]].item())\n",
    "    return criteria >= threshold"
   ]
  },
  {
   "cell_type": "markdown",
   "id": "3d154742",
   "metadata": {},
   "source": [
    "## Init the set of all possible Laue pattern: `diagrams`\n",
    "* The different ways of initializing a diagram are described in detail in the `init_diagram` notebook.\n",
    "\n",
    "**WARNING! to launch only once (to avoid memory increase)**"
   ]
  },
  {
   "cell_type": "code",
   "execution_count": null,
   "id": "e6d516d9",
   "metadata": {
    "scrolled": false
   },
   "outputs": [],
   "source": [
    "all_files = sorted(get_samples().glob(\"*.jp2\"))  # the list of all images path\n",
    "# all_files = list(pathlib.Path(\"/data/visitor/a322855/bm32/20240221/RAW_DATA/Almardi/Almardi_map2DGemardi3_GOOD_0004/scan0002\").iterdir())\n",
    "print(f\"instanciate {len(all_files)} diagram objects...\")\n",
    "diagrams = [Diagram(f) for f in tqdm.tqdm(all_files)]"
   ]
  },
  {
   "cell_type": "markdown",
   "id": "eec4a9a5",
   "metadata": {},
   "source": [
    "## peak search on all images (with laue improc algo)\n",
    "* The different ways to configure the peaks search are described in the `peaks_search` notebook."
   ]
  },
  {
   "cell_type": "code",
   "execution_count": null,
   "id": "386b92b5",
   "metadata": {},
   "outputs": [],
   "source": [
    "# density from 0.15 to 0.85: large density to get higher nb of spots \n",
    "for diagram in tqdm.tqdm(diagrams):\n",
    "    diagram.find_spots(density=0.6)"
   ]
  },
  {
   "cell_type": "markdown",
   "id": "e6bf5954",
   "metadata": {},
   "source": [
    "## look at the results"
   ]
  },
  {
   "cell_type": "code",
   "execution_count": null,
   "id": "cae93beb",
   "metadata": {
    "scrolled": false
   },
   "outputs": [],
   "source": [
    "for diagram in diagrams[:10]:\n",
    "    print(diagram)  # history, current state\n",
    "    diagram.plot(plt.figure(layout=\"tight\", figsize=(8, 8)), vmax=diagram.image.max().item()); plt.show()"
   ]
  },
  {
   "cell_type": "markdown",
   "id": "9f1b614b",
   "metadata": {},
   "source": [
    "### Basic filtering"
   ]
  },
  {
   "cell_type": "code",
   "execution_count": null,
   "id": "3eeb0613",
   "metadata": {
    "scrolled": false
   },
   "outputs": [],
   "source": [
    "\"\"\"Sorted by intensity.\"\"\"\n",
    "\n",
    "for diagram in tqdm.tqdm(diagrams, smoothing=0.01):\n",
    "    intensities = diagram.compute_pxl_intensities()\n",
    "    sorted_indexs = torch.argsort(intensities, descending=True)\n",
    "    diagram.filter_spots(sorted_indexs, msg=\"sorted by intensities\", inplace=True)\n",
    "    # print(diagram)\n",
    "    # diagram.plot(plt.figure(layout=\"tight\", figsize=(8, 8))); plt.show()"
   ]
  },
  {
   "cell_type": "code",
   "execution_count": null,
   "id": "17bd8bd5",
   "metadata": {},
   "outputs": [],
   "source": [
    "\"\"\"Select rotation symetric spots.\"\"\"\n",
    "\n",
    "for diagram in tqdm.tqdm(diagrams, smoothing=0.01):\n",
    "    sym = diagram.compute_rot_sym()\n",
    "    selection = select_items(sym, 0.8, 10)  # 10 best or round peaks\n",
    "    diagram.filter_spots(selection, msg=\"keep circular spots\", inplace=True)\n",
    "    # print(diagram)\n",
    "    # diagram.plot(plt.figure(layout=\"tight\", figsize=(8, 8))); plt.show()"
   ]
  },
  {
   "cell_type": "markdown",
   "id": "c842c9bb",
   "metadata": {},
   "source": [
    "### Fit spots roi with gaussian"
   ]
  },
  {
   "cell_type": "code",
   "execution_count": null,
   "id": "f0e48d19",
   "metadata": {
    "scrolled": false
   },
   "outputs": [],
   "source": [
    "\"\"\"Simple fast gaussian fit max likelihood (proba approch).\"\"\"\n",
    "\n",
    "for diagram in tqdm.tqdm(diagrams, smoothing=0.01):\n",
    "    mean, cov, infodict = diagram.fit_gaussian_em(photon_density=10900.0, eigtheta=True)\n",
    "    stretch = torch.sqrt(infodict[\"eigtheta\"][:, 0] / infodict[\"eigtheta\"][:, 1])  # gauss std ratio >= 1\n",
    "    # rot = torch.rad2deg(infodict[\"eigtheta\"][:, 2])  # spot rotation in ]-90, 90]\n",
    "    selection = select_items(1/stretch, 0.667, 10)  # 10 rounder, or stretch < 1.5\n",
    "    diagram.filter_spots(selection, msg=\"keeps spots not too stretched\", inplace=True)\n",
    "    # print(diagram)\n",
    "    # diagram.plot(plt.figure(layout=\"tight\", figsize=(8, 8))); plt.show()"
   ]
  }
 ],
 "metadata": {
  "kernelspec": {
   "display_name": "Python 3 (ipykernel)",
   "language": "python",
   "name": "python3"
  },
  "language_info": {
   "codemirror_mode": {
    "name": "ipython",
    "version": 3
   },
   "file_extension": ".py",
   "mimetype": "text/x-python",
   "name": "python",
   "nbconvert_exporter": "python",
   "pygments_lexer": "ipython3",
   "version": "3.10.12"
  }
 },
 "nbformat": 4,
 "nbformat_minor": 5
}
