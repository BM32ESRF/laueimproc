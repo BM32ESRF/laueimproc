{
 "cells": [
  {
   "cell_type": "markdown",
   "id": "ab1a3935",
   "metadata": {},
   "source": [
    "## Example to process with a set of diagrams"
   ]
  },
  {
   "cell_type": "code",
   "execution_count": null,
   "id": "348d9365",
   "metadata": {},
   "outputs": [],
   "source": [
    "from laueimproc import Diagram, DiagramsDataset\n",
    "from laueimproc.io import get_samples  # gives access to the dataset"
   ]
  },
  {
   "cell_type": "code",
   "execution_count": null,
   "id": "eeedc95c-47ab-4279-bcd6-d3b66c1d94cc",
   "metadata": {},
   "outputs": [],
   "source": [
    "dataset = DiagramsDataset(get_samples())\n",
    "dataset.add_property(\"folder\", get_samples(), erasable=True)\n",
    "print(dataset)"
   ]
  },
  {
   "cell_type": "code",
   "execution_count": null,
   "id": "85e69027",
   "metadata": {},
   "outputs": [],
   "source": [
    "def peaks_search(diagram: Diagram, density: float) -> int:\n",
    "    \"\"\"Apply peak search and return the number of peacks founded.\"\"\"\n",
    "    diagram.find_spots(density=density)\n",
    "    return len(diagram)\n",
    "\n",
    "def sorted_roi_max(diagram: Diagram):\n",
    "    \"\"\"Sorted the diagram by decreasing intensities.\"\"\"\n",
    "    indexs = diagram.compute_rois_max()[:, 0].argsort(descending=True)\n",
    "    diagram.filter_spots(indexs, msg=\"sorted by decreasing intensities\", inplace=True)\n",
    "\n",
    "def reject_elongated(diagram: Diagram, max_elong: float = 1.5):\n",
    "    \"\"\"Reject the spot with a two bit gaussian elongation.\"\"\"\n",
    "    pca = diagram.compute_rois_pca()\n",
    "    elongation = pca[:, 0] / pca[:, 1]\n",
    "    diagram.filter_spots(elongation <= max_elong, msg=\"keep round spots\", inplace=True)"
   ]
  },
  {
   "cell_type": "code",
   "execution_count": null,
   "id": "9224caa7",
   "metadata": {},
   "outputs": [],
   "source": [
    "# apply to existing diagrams\n",
    "nbr_spots = dataset.apply(peaks_search, args=(0.6,))\n",
    "print(nbr_spots)\n",
    "dataset.apply(sorted_roi_max)\n",
    "dataset.apply(reject_elongated)\n",
    "print(dataset)"
   ]
  }
 ],
 "metadata": {
  "kernelspec": {
   "display_name": "Python 3 (ipykernel)",
   "language": "python",
   "name": "python3"
  },
  "language_info": {
   "codemirror_mode": {
    "name": "ipython",
    "version": 3
   },
   "file_extension": ".py",
   "mimetype": "text/x-python",
   "name": "python",
   "nbconvert_exporter": "python",
   "pygments_lexer": "ipython3",
   "version": "3.12.3"
  }
 },
 "nbformat": 4,
 "nbformat_minor": 5
}
