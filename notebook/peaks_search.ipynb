{
 "cells": [
  {
   "cell_type": "markdown",
   "id": "6ff15840",
   "metadata": {},
   "source": [
    "## This notebook compare the differents peaks search"
   ]
  },
  {
   "cell_type": "code",
   "execution_count": null,
   "id": "b192cf37",
   "metadata": {},
   "outputs": [],
   "source": [
    "%matplotlib inline\n",
    "\n",
    "import multiprocessing.pool\n",
    "import timeit\n",
    "\n",
    "import matplotlib.pyplot as plt\n",
    "import torch\n",
    "import tqdm\n",
    "\n",
    "from laueimproc.io.download import get_samples\n",
    "from laueimproc import Diagram"
   ]
  },
  {
   "cell_type": "markdown",
   "id": "51a75801",
   "metadata": {},
   "source": [
    "### Firstly, we have to create the diagrams from images\n",
    "* To see all the ways to create a diagram, please have a look to the `init_diagram` notebook.\n",
    "* Take care having enough RAM and swappiness to load all the images, otherwise it would bias the peak search time."
   ]
  },
  {
   "cell_type": "code",
   "execution_count": null,
   "id": "8dfd086d",
   "metadata": {},
   "outputs": [],
   "source": [
    "all_files = sorted(get_samples().iterdir())  # the list of all images path\n",
    "diagrams = [Diagram(f) for f in all_files]\n",
    "for diagram in tqdm.tqdm(diagrams):\n",
    "    diagram.image"
   ]
  },
  {
   "cell_type": "code",
   "execution_count": null,
   "id": "aa93e71c",
   "metadata": {},
   "outputs": [],
   "source": [
    "def load_images():\n",
    "    with multiprocessing.pool.ThreadPool() as pool:\n",
    "        pool.map(lambda d: (d.compress(), d.image), diagrams)\n",
    "times = timeit.repeat(load_images, repeat=10, number=1)\n",
    "print(f\"on average, an image is read in {1000*min(times)/len(diagrams):.2f}ms\")"
   ]
  },
  {
   "cell_type": "markdown",
   "id": "63e993ae",
   "metadata": {},
   "source": [
    "### Secondly, prepare tools for spots evaluation\n",
    "* Usefull to compare differents peaks search"
   ]
  },
  {
   "cell_type": "code",
   "execution_count": null,
   "id": "14b017dc",
   "metadata": {},
   "outputs": [],
   "source": [
    "def time_peaks_search(**kwargs):\n",
    "    def run():\n",
    "        with multiprocessing.pool.ThreadPool() as pool:\n",
    "            pool.map(lambda d: (d.find_spots(**kwargs), d.flush()), diagrams)\n",
    "    times = timeit.repeat(run, repeat=5, number=1)\n",
    "    print(f\"on average, peaks search takes {1000*min(times)/len(diagrams):.2f}ms for one diagram\")\n",
    "\n",
    "def spots_distibution():\n",
    "    nb_spots = torch.tensor([len(d) for d in diagrams], dtype=torch.float32)\n",
    "    print(\n",
    "        \"nbr of spots: \"\n",
    "        f\"median={round(torch.median(nb_spots).item())}, \"\n",
    "        f\"mean={round(torch.mean(nb_spots).item())}, \"\n",
    "        f\"min={round(torch.min(nb_spots).item())}, \"\n",
    "        f\"max={round(torch.max(nb_spots).item())}, \"\n",
    "        f\"std={torch.std(nb_spots).item():.1f}\"\n",
    "    )\n",
    "\n",
    "def intensities_distribution():\n",
    "    intensities = torch.cat([d.compute_pxl_intensities() for d in diagrams])\n",
    "    print(\n",
    "        \"spot intensities: \"\n",
    "        f\"median={torch.median(intensities).item():.3f}, \"\n",
    "        f\"mean={torch.mean(intensities).item():.3f}, \"\n",
    "        f\"min={torch.min(intensities).item():.3f}, \"\n",
    "        f\"max={torch.max(intensities).item():.3f}, \"\n",
    "        f\"std={torch.std(intensities).item():.3f}\"\n",
    "    )"
   ]
  },
  {
   "cell_type": "markdown",
   "id": "4d90ec16",
   "metadata": {},
   "source": [
    "### Thirdly, run the peaks search"
   ]
  },
  {
   "cell_type": "code",
   "execution_count": null,
   "id": "b5a5dad4",
   "metadata": {},
   "outputs": [],
   "source": [
    "for density in (0.7, 0.6, 0.55, 0.5, 0.45, 0.4, 0.3):\n",
    "    print(f\"{'*'*20} DENSITY {density:.2f} {'*'*20}\")\n",
    "    time_peaks_search(density=density)\n",
    "    # spots_distibution()\n",
    "    # intensities_distribution()\n",
    "    print()"
   ]
  }
 ],
 "metadata": {
  "kernelspec": {
   "display_name": "Python 3 (ipykernel)",
   "language": "python",
   "name": "python3"
  },
  "language_info": {
   "codemirror_mode": {
    "name": "ipython",
    "version": 3
   },
   "file_extension": ".py",
   "mimetype": "text/x-python",
   "name": "python",
   "nbconvert_exporter": "python",
   "pygments_lexer": "ipython3",
   "version": "3.10.12"
  }
 },
 "nbformat": 4,
 "nbformat_minor": 5
}
