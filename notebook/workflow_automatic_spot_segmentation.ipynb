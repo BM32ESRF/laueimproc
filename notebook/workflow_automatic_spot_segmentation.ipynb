{
 "cells": [
  {
   "cell_type": "markdown",
   "id": "f2527042-20c6-46c2-a1b9-2457448188aa",
   "metadata": {},
   "source": [
    "## Example of unsupervised spot classification"
   ]
  },
  {
   "cell_type": "code",
   "execution_count": null,
   "id": "e9b6096b-2998-4256-9973-0a59319fd329",
   "metadata": {},
   "outputs": [],
   "source": [
    "%matplotlib inline\n",
    "\n",
    "import matplotlib.pyplot as plt\n",
    "import torch\n",
    "\n",
    "import laueimproc"
   ]
  },
  {
   "cell_type": "markdown",
   "id": "6863a2ce-40a6-4b96-beb7-1323f6268374",
   "metadata": {},
   "source": [
    "### Init a dataset of diagrams\n",
    "Please have a look on the ``api_init_dataset`` notebook for more details."
   ]
  },
  {
   "cell_type": "code",
   "execution_count": null,
   "id": "c8694b77-2658-4c0b-9c64-95a63dbf598a",
   "metadata": {},
   "outputs": [],
   "source": [
    "data_directory = laueimproc.io.get_samples()\n",
    "dataset = laueimproc.DiagramsDataset(data_directory)"
   ]
  },
  {
   "cell_type": "code",
   "execution_count": null,
   "id": "c7f11a88-652a-4a5e-97b3-033212bb2aa7",
   "metadata": {},
   "outputs": [],
   "source": [
    "def peaks_search(diagram: laueimproc.Diagram, *args, **kwargs) -> int:\n",
    "    \"\"\"Init the diagram with the internal laueimproc peaks search function.\"\"\"\n",
    "    diagram.find_spots(*args, **kwargs)\n",
    "    return len(diagram)\n",
    "\n",
    "nb_spots = dataset.apply(peaks_search, kwargs={\"density\": 0.75, \"radius_aglo\": 4})\n",
    "print(f\"On average, there are {sum(nb_spots.values())/len(dataset)} spots per diagram.\")"
   ]
  },
  {
   "cell_type": "markdown",
   "id": "3cfabde2-5eff-468b-b7b4-ae45cabba813",
   "metadata": {},
   "source": [
    "### Select the interesting spots\n",
    "Before classifying all the spots, we need to extract a family."
   ]
  },
  {
   "cell_type": "code",
   "execution_count": null,
   "id": "cf9fd44e-825b-47ad-9911-794557091336",
   "metadata": {},
   "outputs": [],
   "source": [
    "def filter_intensity(diagram: laueimproc.Diagram, threshold: float) -> int:\n",
    "    \"\"\"Remove spots that are not intense enough.\"\"\"\n",
    "    intensities = diagram.compute_rois_max(cache=False)[:, 2]\n",
    "    diagram.filter_spots(intensities >= threshold, \"keep intensive spots\")\n",
    "    return len(diagram)\n",
    "\n",
    "def filter_size(diagram: laueimproc.Diagram, size_min: int, size_max) -> int:\n",
    "    \"\"\"Remove the too small bboxes.\"\"\"\n",
    "    heights = diagram.bboxes[:, 2]\n",
    "    widths = diagram.bboxes[:, 3]\n",
    "    cond = torch.logical_and(heights >= size_min, widths >= size_min)\n",
    "    diagram.filter_spots(cond, f\"keep bboxes >= {size_min}\")\n",
    "    heights = diagram.bboxes[:, 2]\n",
    "    widths = diagram.bboxes[:, 3]\n",
    "    cond = torch.logical_and(heights <= size_max, widths <= size_max)\n",
    "    diagram.filter_spots(cond, f\"keep bboxes <= {size_max}\")\n",
    "    return len(diagram)\n",
    "    "
   ]
  },
  {
   "cell_type": "code",
   "execution_count": null,
   "id": "09ea77b2-ad80-4a87-87a9-cd6dc579fecc",
   "metadata": {},
   "outputs": [],
   "source": [
    "filtered_dataset = dataset.clone()  # fork\n",
    "backup_file = filtered_dataset.autosave(\n",
    "    \"/tmp/dataset_backup.pickle\",\n",
    "    delay=\"10 min\",\n",
    "    # restore=False,  # to ignore existing backup\n",
    ")"
   ]
  },
  {
   "cell_type": "code",
   "execution_count": null,
   "id": "668e7cfa-587f-4ddf-91ab-4fe4034f2da5",
   "metadata": {},
   "outputs": [],
   "source": [
    "nb_spots = filtered_dataset.apply(filter_intensity, args=(0.005,))\n",
    "print(f\"On average, there are {sum(nb_spots.values())/len(dataset)} spots per diagram.\")\n",
    "nb_spots = filtered_dataset.apply(filter_size, args=(24, 128))\n",
    "print(f\"On average, there are {sum(nb_spots.values())/len(dataset)} spots per diagram.\")"
   ]
  },
  {
   "cell_type": "markdown",
   "id": "629f2013-b00d-45e7-ae01-5bb7f5aef693",
   "metadata": {},
   "source": [
    "### Train the model"
   ]
  },
  {
   "cell_type": "code",
   "execution_count": null,
   "id": "beaf8340-c32b-43c1-9475-40ebaab7587f",
   "metadata": {},
   "outputs": [],
   "source": [
    "# create and warm the model\n",
    "model = filtered_dataset.train_spot_classifier(intensity_sensitive=True, scale_sensitive=True, space=5, shape=(20, 20))\n",
    "print(f\"real snapshot shape: {model.shape}\")\n",
    "print(f\"latent square dimension: {2*model.space} x {2*model.space}\")"
   ]
  },
  {
   "cell_type": "code",
   "execution_count": null,
   "id": "7829f403-d076-4df9-9e41-c02f20649fec",
   "metadata": {},
   "outputs": [],
   "source": [
    "# train the model\n",
    "fig = plt.figure(layout=\"tight\", figsize=(16, 12))  # optional, for data visualization\n",
    "model = filtered_dataset.train_spot_classifier(model=model, batch=1000, epoch=200, fig=fig)\n",
    "# model = filtered_dataset.train_spot_classifier(model=model, epoch=100, fig=fig)\n",
    "plt.show()"
   ]
  },
  {
   "cell_type": "code",
   "execution_count": null,
   "id": "bbeb0913-46b9-4c85-b170-0e1c9f7207a0",
   "metadata": {},
   "outputs": [],
   "source": [
    "model(filtered_dataset[0])"
   ]
  }
 ],
 "metadata": {
  "kernelspec": {
   "display_name": "Python 3 (ipykernel)",
   "language": "python",
   "name": "python3"
  },
  "language_info": {
   "codemirror_mode": {
    "name": "ipython",
    "version": 3
   },
   "file_extension": ".py",
   "mimetype": "text/x-python",
   "name": "python",
   "nbconvert_exporter": "python",
   "pygments_lexer": "ipython3",
   "version": "3.12.3"
  }
 },
 "nbformat": 4,
 "nbformat_minor": 5
}
