{
 "cells": [
  {
   "cell_type": "markdown",
   "id": "26c7342f",
   "metadata": {},
   "source": [
    "## This notebook shows all the means to create a Diagram and set the spots\n",
    "* To instanciate a `Diagram` allows you to apply efficiently filters based on image processing.\n",
    "* They are several means to instanciate a `Diagram`, some of them are betters than overs."
   ]
  },
  {
   "cell_type": "code",
   "execution_count": null,
   "id": "f8046615",
   "metadata": {},
   "outputs": [],
   "source": [
    "%matplotlib notebook\n",
    "\n",
    "import itertools\n",
    "import random\n",
    "\n",
    "import matplotlib.pyplot as plt\n",
    "import numpy as np\n",
    "import torch\n",
    "\n",
    "from laueimproc.io.download import get_samples  # gives access to the dataset\n",
    "from laueimproc import Diagram  # you don't need to import more to access all the filters\n",
    "\n",
    "# you can juste import the main module\n",
    "# import laueimproc  # then acces to `Diagram` with laueimproc.Diagram"
   ]
  },
  {
   "cell_type": "markdown",
   "id": "9f9d4e54",
   "metadata": {},
   "source": [
    "### Firstly, we have to create an \"empty\" diagram from an image\n",
    "* A diagram is an abstraction of a Laue diffraction image, containing some spots.\n",
    "* Before having spots, it is firstaval an image!"
   ]
  },
  {
   "cell_type": "code",
   "execution_count": null,
   "id": "884b5c12",
   "metadata": {},
   "outputs": [],
   "source": [
    "print(\"*** How to init an empty diagram? ***\")\n",
    "print(Diagram.__init__.__doc__)\n",
    "print(\"***   What are the attributes ?   ***\")\n",
    "for cls in Diagram.mro()[1::-1]:\n",
    "    print(cls.__doc__)"
   ]
  },
  {
   "cell_type": "code",
   "execution_count": null,
   "id": "7d14b6e9",
   "metadata": {},
   "outputs": [],
   "source": [
    "print(file := next(get_samples().iterdir()))  # we get the path of a Laue diffraction image on the disk\n",
    "diag = Diagram(file)  # it is the cannonical way to instanciate a Diagram\n",
    "print()\n",
    "print(diag)\n",
    "\n",
    "# try not to do that because it is very dangerous!\n",
    "arr_numpy = np.array(diag.image)  # let consider it comes from somewhere else\n",
    "arr_torch = torch.from_numpy(arr_numpy)\n",
    "diag_from_numpy = Diagram(arr_numpy)\n",
    "diag_from_torch = Diagram(arr_torch)"
   ]
  },
  {
   "cell_type": "markdown",
   "id": "b853bbd9",
   "metadata": {},
   "source": [
    "## Secondly, the spots must be initialized\n",
    "* The idea is to init the diagram with a lot of spots, then to throw the spots you don't want by filtering.\n",
    "* It is recommend initializing spots before accessing the `.spot` attribute. If you don't, a default peaks serach will be applied and you will get a warning."
   ]
  },
  {
   "cell_type": "code",
   "execution_count": null,
   "id": "ec102166",
   "metadata": {
    "scrolled": false
   },
   "outputs": [],
   "source": [
    "# 1: use the internal peaks_search, it removes the background in the rois\n",
    "diag_1 = diag.clone()  # real deep copy\n",
    "diag_1.find_spots(density=0.55)  # parameters are optional, there are other, see the doc\n",
    "print(diag_1)\n",
    "diag_1.plot(plt.figure(layout=\"tight\", figsize=(8, 8))); plt.show()  # display to see the bboxes\n",
    "\n",
    "# 2: use external spots of type Spot\n",
    "new_spots = diag_1.spots[::5]  # let imagine it comes from somewhere else\n",
    "diag_2 = diag.clone()  # new empty the diagram\n",
    "diag_2.set_spots(new_spots)  # set the spots\n",
    "print(diag_2)\n",
    "diag_2.plot(plt.figure(layout=\"tight\", figsize=(8, 8))); plt.show()\n",
    "\n",
    "# 3: use external bounding boxes\n",
    "bboxes = [  # can be an array, a tensor or any iterators as well\n",
    "    (i, j, random.randint(5, 30), random.randint(5, 30))  # numpy convention (*anchor, *shape)\n",
    "    for i, j in itertools.product(range(15, min(diag.image.shape)-30, 200), repeat=2)\n",
    "]\n",
    "diag_3 = diag.clone()  # new empty the diagram\n",
    "diag_3.spots = bboxes  # set the spots, `.spots = ...` is equivalent to `.set_spots((...))`\n",
    "print(diag_3)\n",
    "diag_3.plot(plt.figure(layout=\"tight\", figsize=(8, 8))); plt.show()\n",
    "\n",
    "# 4: use external anchors and rois\n",
    "anchors = list(itertools.product(range(15, min(diag.image.shape)-30, 200), repeat=2))  # numpy convention\n",
    "rois = [np.empty((random.randint(5, 30), random.randint(5, 30)), dtype=np.uint16) for _ in anchors]  # roi patches\n",
    "diag_4 = diag.clone()  # new empty the diagram\n",
    "diag_4.spots = anchors, rois\n",
    "print(diag_4)\n",
    "diag_4.plot(plt.figure(layout=\"tight\", figsize=(8, 8))); plt.show()"
   ]
  },
  {
   "cell_type": "markdown",
   "id": "3241ae9a",
   "metadata": {},
   "source": [
    "## Attribute values before and after spots initialization\n",
    "* Some attributes are set to != None when spots are initialized."
   ]
  },
  {
   "cell_type": "code",
   "execution_count": null,
   "id": "55ea80ed",
   "metadata": {
    "scrolled": false
   },
   "outputs": [],
   "source": [
    "def print_content(diag: Diagram) -> None:\n",
    "    \"\"\"Resume the content of tha diag attributes.\"\"\"\n",
    "    assert isinstance(diag, Diagram), diag.__class__.__name__\n",
    "    header = f\"Diagram {diag.file.name}\"\n",
    "    print(f\"\\n{header}\\n{'-'*len(header)}\")\n",
    "    print(\"spots:\", diag.spots)\n",
    "    print(\"bboxes:\", diag.bboxes)\n",
    "    print(\"centers:\", diag.centers)\n",
    "    print(\"rois:\", diag.rois, diag.rois)\n",
    "\n",
    "# 0: on uninitialized diagram\n",
    "print_content(diag)\n",
    "\n",
    "# 1: on initialized diagram but with 0 spots\n",
    "diag_empty = diag.clone()\n",
    "diag_empty.spots = []  # from spots instances\n",
    "print_content(diag_empty)\n",
    "diag_empty = diag.clone()\n",
    "diag_empty.spots = torch.empty((0, 4))  # from bboxes\n",
    "print_content(diag_empty)\n",
    "diag_empty = diag.clone()\n",
    "diag_empty.spots = (torch.empty((0, 2)), [])  # from anchors and rois\n",
    "print_content(diag_empty)\n",
    "\n",
    "# 2: on initialized diagram but with n spots\n",
    "diag_empty = diag_3.clone()\n",
    "diag_empty.spots = []  # from spots instances\n",
    "print_content(diag_empty)\n",
    "diag_empty = diag_3.clone()\n",
    "diag_empty.spots = torch.empty((0, 4))  # from bboxes\n",
    "print_content(diag_empty)\n",
    "diag_empty = diag_3.clone()\n",
    "diag_empty.spots = (torch.empty((0, 2)), [])  # from anchors and rois\n",
    "print_content(diag_empty)\n",
    "\n",
    "# 3: content of a full diagram\n",
    "print_content(diag_3)"
   ]
  }
 ],
 "metadata": {
  "kernelspec": {
   "display_name": "Python 3 (ipykernel)",
   "language": "python",
   "name": "python3"
  },
  "language_info": {
   "codemirror_mode": {
    "name": "ipython",
    "version": 3
   },
   "file_extension": ".py",
   "mimetype": "text/x-python",
   "name": "python",
   "nbconvert_exporter": "python",
   "pygments_lexer": "ipython3",
   "version": "3.10.12"
  }
 },
 "nbformat": 4,
 "nbformat_minor": 5
}
